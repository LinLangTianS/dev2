{
 "cells": [
  {
   "cell_type": "markdown",
   "id": "35b68ffd-4162-4db7-a6f3-1066a534452a",
   "metadata": {},
   "source": [
    "# 关联规则 #"
   ]
  },
  {
   "cell_type": "code",
   "execution_count": 1,
   "id": "ba0148a1-5a1f-4680-a448-4c69c2c6fe99",
   "metadata": {
    "vscode": {
     "languageId": "r"
    }
   },
   "outputs": [
    {
     "name": "stderr",
     "output_type": "stream",
     "text": [
      "Loading required package: Matrix\n",
      "\n",
      "\n",
      "Attaching package: 'arules'\n",
      "\n",
      "\n",
      "The following objects are masked from 'package:base':\n",
      "\n",
      "    abbreviate, write\n",
      "\n",
      "\n",
      "Loading required package: proxy\n",
      "\n",
      "\n",
      "Attaching package: 'proxy'\n",
      "\n",
      "\n",
      "The following object is masked from 'package:Matrix':\n",
      "\n",
      "    as.matrix\n",
      "\n",
      "\n",
      "The following objects are masked from 'package:stats':\n",
      "\n",
      "    as.dist, dist\n",
      "\n",
      "\n",
      "The following object is masked from 'package:base':\n",
      "\n",
      "    as.matrix\n",
      "\n",
      "\n",
      "Registered S3 methods overwritten by 'registry':\n",
      "  method               from \n",
      "  print.registry_field proxy\n",
      "  print.registry_entry proxy\n",
      "\n"
     ]
    }
   ],
   "source": [
    "library(arules)\n",
    "library(recommenderlab)"
   ]
  },
  {
   "cell_type": "markdown",
   "id": "ea03da29-73cd-4e24-80af-9be271d57e55",
   "metadata": {},
   "source": [
    "## eg.1 手机壳交易数据 ##"
   ]
  },
  {
   "cell_type": "code",
   "execution_count": 64,
   "id": "592bf591-295c-45f7-a306-d1dd9f8cafec",
   "metadata": {
    "vscode": {
     "languageId": "r"
    }
   },
   "outputs": [
    {
     "name": "stdout",
     "output_type": "stream",
     "text": [
      "     items                    \n",
      "[1]  {Red, White, Green}      \n",
      "[2]  {White, Orange}          \n",
      "[3]  {White, Blue}            \n",
      "[4]  {Red, White, Orange}     \n",
      "[5]  {Red, Blue}              \n",
      "[6]  {White, Blue}            \n",
      "[7]  {Red, Blue}              \n",
      "[8]  {Red, White, Blue, Green}\n",
      "[9]  {Red, White, Blue}       \n",
      "[10] {Yellow}                 \n"
     ]
    }
   ],
   "source": [
    "fp.df <- mlba::Faceplate\n",
    "fp.mat <- as.matrix(fp.df[, -1])#去掉 Faceplate 数据的第一列并将数据转换为矩阵形式\n",
    "fp.trans <- as(fp.mat, \"transactions\")#将矩阵转换为 transactions对象（专门用于关联规则分析的数据结构）\n",
    "inspect(fp.trans)"
   ]
  },
  {
   "cell_type": "code",
   "execution_count": 66,
   "id": "9305e9d5-c8ab-4706-b028-824d6f23ad76",
   "metadata": {
    "vscode": {
     "languageId": "r"
    }
   },
   "outputs": [
    {
     "name": "stdout",
     "output_type": "stream",
     "text": [
      "Apriori\n",
      "\n",
      "Parameter specification:\n",
      " confidence minval smax arem  aval originalSupport maxtime support minlen\n",
      "        0.5    0.1    1 none FALSE            TRUE       5     0.2      1\n",
      " maxlen target  ext\n",
      "     10  rules TRUE\n",
      "\n",
      "Algorithmic control:\n",
      " filter tree heap memopt load sort verbose\n",
      "    0.1 TRUE TRUE  FALSE TRUE    2    TRUE\n",
      "\n",
      "Absolute minimum support count: 2 \n",
      "\n",
      "set item appearances ...[0 item(s)] done [0.00s].\n",
      "set transactions ...[6 item(s), 10 transaction(s)] done [0.00s].\n",
      "sorting and recoding items ... [5 item(s)] done [0.00s].\n",
      "creating transaction tree ... done [0.00s].\n",
      "checking subsets of size 1 2 3 done [0.00s].\n",
      "writing ... [18 rule(s)] done [0.00s].\n",
      "creating S4 object  ... done [0.00s].\n",
      "    lhs               rhs     support confidence coverage lift     count\n",
      "[1] {Red, White}   => {Green} 0.2     0.5        0.4      2.500000 2    \n",
      "[2] {Green}        => {Red}   0.2     1.0        0.2      1.666667 2    \n",
      "[3] {White, Green} => {Red}   0.2     1.0        0.2      1.666667 2    \n",
      "[4] {Orange}       => {White} 0.2     1.0        0.2      1.428571 2    \n",
      "[5] {Green}        => {White} 0.2     1.0        0.2      1.428571 2    \n",
      "[6] {Red, Green}   => {White} 0.2     1.0        0.2      1.428571 2    \n"
     ]
    }
   ],
   "source": [
    "rules <- apriori(fp.trans, parameter = list(supp = 0.2, conf = 0.5, target = \"rules\"))#设置最小支持度和置信度挖掘关联规则 \n",
    "inspect(head(sort(rules, by = \"lift\"), n = 6))#查看lift值最大的前6条关联规则"
   ]
  },
  {
   "cell_type": "markdown",
   "id": "f5eae47f-5e45-4cef-a6a8-3ad1a10e6cbf",
   "metadata": {},
   "source": [
    "## eg.2 书籍购买数据 ##"
   ]
  },
  {
   "cell_type": "code",
   "execution_count": 2,
   "id": "a325eb9c-16c2-474f-85cb-ab2270dee879",
   "metadata": {
    "vscode": {
     "languageId": "r"
    }
   },
   "outputs": [
    {
     "name": "stdout",
     "output_type": "stream",
     "text": [
      "     items      \n",
      "[1]  {YouthBks, \n",
      "      CookBks}  \n",
      "[2]  {}         \n",
      "[3]  {ChildBks, \n",
      "      YouthBks, \n",
      "      CookBks,  \n",
      "      RefBks,   \n",
      "      GeogBks,  \n",
      "      ItalCook} \n",
      "[4]  {}         \n",
      "[5]  {}         \n",
      "[6]  {}         \n",
      "[7]  {GeogBks}  \n",
      "[8]  {ChildBks} \n",
      "[9]  {}         \n",
      "[10] {CookBks}  \n"
     ]
    },
    {
     "data": {
      "image/png": "[encoded data removed]",
      "text/plain": [
       "Plot with title \"书籍购买频率图\""
      ]
     },
     "metadata": {
      "image/png": {
       "height": 420,
       "width": 420
      }
     },
     "output_type": "display_data"
    }
   ],
   "source": [
    "all.books.df <- read.csv(\"Data/CharlesBookClub.csv\")\n",
    "count.books.df <- all.books.df[, 8:18]#选择8至18列\n",
    "incid.books.mat <- as.matrix(count.books.df > 0)#书籍被购买则返回逻辑值TRUE\n",
    "books.trans <- as(incid.books.mat, \"transactions\")#转换为二元矩阵，并将其转化为transactions对象\n",
    "inspect(books.trans[1:10])#展示前10条购买记录\n",
    "itemFrequencyPlot(books.trans,col = \"lightblue\",main = \"书籍购买频率图\",  xlab = \"书\", ylab = \"频率\" )#绘制各项的购买频率图\n"
   ]
  },
  {
   "cell_type": "code",
   "execution_count": 38,
   "id": "03e98eba-b05c-4616-9f39-2aff06280bc9",
   "metadata": {
    "vscode": {
     "languageId": "r"
    }
   },
   "outputs": [
    {
     "name": "stdout",
     "output_type": "stream",
     "text": [
      "Apriori\n",
      "\n",
      "Parameter specification:\n",
      " confidence minval smax arem  aval originalSupport maxtime support minlen\n",
      "        0.5    0.1    1 none FALSE            TRUE       5    0.05      1\n",
      " maxlen target  ext\n",
      "     10  rules TRUE\n",
      "\n",
      "Algorithmic control:\n",
      " filter tree heap memopt load sort verbose\n",
      "    0.1 TRUE TRUE  FALSE TRUE    2    TRUE\n",
      "\n",
      "Absolute minimum support count: 200 \n",
      "\n",
      "set item appearances ...[0 item(s)] done [0.00s].\n",
      "set transactions ...[11 item(s), 4000 transaction(s)] done [0.00s].\n",
      "sorting and recoding items ... [9 item(s)] done [0.00s].\n",
      "creating transaction tree ... done [0.00s].\n",
      "checking subsets of size 1 2 3 4 done [0.00s].\n",
      "writing ... [72 rule(s)] done [0.00s].\n",
      "creating S4 object  ... done [0.00s].\n",
      "     lhs                               rhs        support confidence coverage\n",
      "[1]  {ChildBks, CookBks, GeogBks}   => {YouthBks} 0.06325 0.5776256  0.10950 \n",
      "[2]  {ChildBks, CookBks, RefBks}    => {DoItYBks} 0.06125 0.5917874  0.10350 \n",
      "[3]  {DoItYBks, GeogBks}            => {YouthBks} 0.05450 0.5396040  0.10100 \n",
      "[4]  {ChildBks, CookBks, RefBks}    => {YouthBks} 0.05525 0.5338164  0.10350 \n",
      "[5]  {ChildBks, CookBks, DoItYBks}  => {YouthBks} 0.06700 0.5244618  0.12775 \n",
      "[6]  {ChildBks, YouthBks, CookBks}  => {DoItYBks} 0.06700 0.5583333  0.12000 \n",
      "[7]  {ChildBks, RefBks}             => {DoItYBks} 0.07100 0.5536062  0.12825 \n",
      "[8]  {ChildBks, CookBks, GeogBks}   => {DoItYBks} 0.06050 0.5525114  0.10950 \n",
      "[9]  {ChildBks, GeogBks}            => {YouthBks} 0.07550 0.5162393  0.14625 \n",
      "[10] {CookBks, GeogBks}             => {YouthBks} 0.08025 0.5136000  0.15625 \n",
      "[11] {ChildBks, YouthBks, RefBks}   => {CookBks}  0.05525 0.8911290  0.06200 \n",
      "[12] {ChildBks, YouthBks}           => {DoItYBks} 0.08025 0.5440678  0.14750 \n",
      "[13] {CookBks, RefBks}              => {DoItYBks} 0.07450 0.5330948  0.13975 \n",
      "[14] {CookBks, DoItYBks, RefBks}    => {ChildBks} 0.06125 0.8221477  0.07450 \n",
      "[15] {ChildBks, DoItYBks, RefBks}   => {CookBks}  0.06125 0.8626761  0.07100 \n",
      "[16] {ChildBks, CookBks}            => {DoItYBks} 0.12775 0.5278926  0.24200 \n",
      "[17] {YouthBks, CookBks, RefBks}    => {ChildBks} 0.05525 0.8095238  0.06825 \n",
      "[18] {YouthBks, GeogBks}            => {DoItYBks} 0.05450 0.5215311  0.10450 \n",
      "[19] {YouthBks, CookBks}            => {DoItYBks} 0.08375 0.5201863  0.16100 \n",
      "[20] {ChildBks, RefBks, GeogBks}    => {CookBks}  0.05025 0.8481013  0.05925 \n",
      "[21] {YouthBks, CookBks, DoItYBks}  => {ChildBks} 0.06700 0.8000000  0.08375 \n",
      "[22] {YouthBks, RefBks}             => {CookBks}  0.06825 0.8400000  0.08125 \n",
      "[23] {ChildBks, YouthBks, GeogBks}  => {CookBks}  0.06325 0.8377483  0.07550 \n",
      "[24] {ChildBks, YouthBks, DoItYBks} => {CookBks}  0.06700 0.8348910  0.08025 \n",
      "[25] {ChildBks, ArtBks}             => {DoItYBks} 0.05375 0.5106888  0.10525 \n",
      "[26] {YouthBks, CookBks, GeogBks}   => {ChildBks} 0.06325 0.7881620  0.08025 \n",
      "[27] {CookBks, DoItYBks, GeogBks}   => {ChildBks} 0.06050 0.7806452  0.07750 \n",
      "[28] {ChildBks, GeogBks}            => {DoItYBks} 0.07375 0.5042735  0.14625 \n",
      "[29] {YouthBks, DoItYBks}           => {GeogBks}  0.05450 0.5278450  0.10325 \n",
      "[30] {CookBks, RefBks, GeogBks}     => {ChildBks} 0.05025 0.7790698  0.06450 \n",
      "     lift     count\n",
      "[1]  2.424452 253  \n",
      "[2]  2.323013 245  \n",
      "[3]  2.264864 218  \n",
      "[4]  2.240573 221  \n",
      "[5]  2.201309 268  \n",
      "[6]  2.191691 268  \n",
      "[7]  2.173135 284  \n",
      "[8]  2.168838 242  \n",
      "[9]  2.166797 302  \n",
      "[10] 2.155719 321  \n",
      "[11] 2.144715 221  \n",
      "[12] 2.135693 321  \n",
      "[13] 2.092619 298  \n",
      "[14] 2.086669 245  \n",
      "[15] 2.076236 245  \n",
      "[16] 2.072198 511  \n",
      "[17] 2.054629 221  \n",
      "[18] 2.047227 218  \n",
      "[19] 2.041948 335  \n",
      "[20] 2.041158 201  \n",
      "[21] 2.030457 268  \n",
      "[22] 2.021661 273  \n",
      "[23] 2.016242 253  \n",
      "[24] 2.009365 268  \n",
      "[25] 2.004667 215  \n",
      "[26] 2.000411 253  \n",
      "[27] 1.981333 242  \n",
      "[28] 1.979484 295  \n",
      "[29] 1.978801 218  \n",
      "[30] 1.977334 201  \n"
     ]
    }
   ],
   "source": [
    "rules <- apriori(books.trans,parameter = list(supp= 0.05, conf = 0.5, target = \"rules\"))#使用apriori挖掘关联规则\n",
    "\n",
    "inspect(head(sort(rules, by = \"lift\"), n=30))#展示lift值最大的前30条规则"
   ]
  },
  {
   "cell_type": "markdown",
   "id": "284b714d-203b-4ed6-802b-c46e9b19ba53",
   "metadata": {},
   "source": [
    "# 协同过滤 #"
   ]
  },
  {
   "cell_type": "markdown",
   "id": "1a2c5091-3293-4dbe-8da3-4d08ef65ce3d",
   "metadata": {},
   "source": [
    "将评分数据转换为一个用户-电影的评分矩阵（ratingMatrix）。每一行代表一个用户，每一列代表一部电影，矩阵中的数值表示用户对该电影的评分。"
   ]
  },
  {
   "cell_type": "code",
   "execution_count": 47,
   "id": "f302a422-5dbf-4cbb-a5d0-f14caa1bb78c",
   "metadata": {
    "vscode": {
     "languageId": "r"
    }
   },
   "outputs": [],
   "source": [
    "\n",
    "ratings <- mlba::MovieLensRatings#导入数据\n",
    "movies <- mlba::MovieLensMovies\n",
    "\n",
    "idxUserId <- sort(unique(ratings$userId))\n",
    "idxMovieId <- sort(unique(ratings$movieId))\n",
    "m <- matrix(NA, nrow=length(idxUserId), ncol=length(idxMovieId),\n",
    "            dimnames=list(\n",
    "              user=paste(\"u\", 1:length(idxUserId), sep=''),\n",
    "              item=movies$title[match(idxMovieId, movies$movieId)]\n",
    "            ))\n",
    "for (i in 1:nrow(ratings)) {\n",
    "  rating <- ratings[i,]\n",
    "  irow <- match(rating$userId, idxUserId)\n",
    "  icol <- match(rating$movieId, idxMovieId)\n",
    "  m[irow, icol] <- rating$rating\n",
    "}\n",
    "ratingMatrix <- as(m, \"realRatingMatrix\")\n"
   ]
  },
  {
   "cell_type": "code",
   "execution_count": 52,
   "id": "d90d9c9e-a06e-4868-a4e1-aca974473bff",
   "metadata": {
    "scrolled": true,
    "vscode": {
     "languageId": "r"
    }
   },
   "outputs": [
    {
     "data": {
      "text/html": [
       "<strong>$`0`</strong> = <style>\n",
       ".list-inline {list-style: none; margin:0; padding: 0}\n",
       ".list-inline>li {display: inline-block}\n",
       ".list-inline>li:not(:last-child)::after {content: \"\\00b7\"; padding: 0 .5ex}\n",
       "</style>\n",
       "<ol class=list-inline><li>'Bossa Nova (2000)'</li><li>'Maltese Falcon, The (1941)'</li><li>'Michael Clayton (2007)'</li><li>'3-Iron (Bin-jip) (2004)'</li><li>'Battlestar Galactica (2003)'</li><li>'Enemy at the Gates (2001)'</li><li>'Watchmen (2009)'</li><li>'Walk to Remember, A (2002)'</li><li>'Tristan &amp; Isolde (2006)'</li><li>'Atonement (2007)'</li></ol>\n"
      ],
      "text/latex": [
       "\\textbf{\\$`0`} = \\begin{enumerate*}\n",
       "\\item 'Bossa Nova (2000)'\n",
       "\\item 'Maltese Falcon, The (1941)'\n",
       "\\item 'Michael Clayton (2007)'\n",
       "\\item '3-Iron (Bin-jip) (2004)'\n",
       "\\item 'Battlestar Galactica (2003)'\n",
       "\\item 'Enemy at the Gates (2001)'\n",
       "\\item 'Watchmen (2009)'\n",
       "\\item 'Walk to Remember, A (2002)'\n",
       "\\item 'Tristan \\& Isolde (2006)'\n",
       "\\item 'Atonement (2007)'\n",
       "\\end{enumerate*}\n"
      ],
      "text/markdown": [
       "**$`0`** = 1. 'Bossa Nova (2000)'\n",
       "2. 'Maltese Falcon, The (1941)'\n",
       "3. 'Michael Clayton (2007)'\n",
       "4. '3-Iron (Bin-jip) (2004)'\n",
       "5. 'Battlestar Galactica (2003)'\n",
       "6. 'Enemy at the Gates (2001)'\n",
       "7. 'Watchmen (2009)'\n",
       "8. 'Walk to Remember, A (2002)'\n",
       "9. 'Tristan &amp; Isolde (2006)'\n",
       "10. 'Atonement (2007)'\n",
       "\n",
       "\n"
      ],
      "text/plain": [
       "$`0`\n",
       " [1] \"Bossa Nova (2000)\"           \"Maltese Falcon, The (1941)\" \n",
       " [3] \"Michael Clayton (2007)\"      \"3-Iron (Bin-jip) (2004)\"    \n",
       " [5] \"Battlestar Galactica (2003)\" \"Enemy at the Gates (2001)\"  \n",
       " [7] \"Watchmen (2009)\"             \"Walk to Remember, A (2002)\" \n",
       " [9] \"Tristan & Isolde (2006)\"     \"Atonement (2007)\"           \n"
      ]
     },
     "metadata": {},
     "output_type": "display_data"
    }
   ],
   "source": [
    "\n",
    "recommender <- Recommender(ratingMatrix[-1], method=\"UBCF\")#基于用户的协同过滤\n",
    "pred <- predict(recommender, ratingMatrix[1])\n",
    "as(pred, 'list')\n"
   ]
  },
  {
   "cell_type": "code",
   "execution_count": 58,
   "id": "2abbaddc-ef8c-4545-8d2c-2a334fc10920",
   "metadata": {
    "vscode": {
     "languageId": "r"
    }
   },
   "outputs": [
    {
     "data": {
      "text/html": [
       "<strong>$`0`</strong> = <style>\n",
       ".list-inline {list-style: none; margin:0; padding: 0}\n",
       ".list-inline>li {display: inline-block}\n",
       ".list-inline>li:not(:last-child)::after {content: \"\\00b7\"; padding: 0 .5ex}\n",
       "</style>\n",
       "<ol class=list-inline><li>'NeverEnding Story III, The (1994)'</li><li>'Amateur (1994)'</li><li>'Mute Witness (1994)'</li><li>'My Crazy Life (Mi vida loca) (1993)'</li><li>'Miami Rhapsody (1995)'</li><li>'Pushing Hands (Tui shou) (1992)'</li><li>'Suture (1993)'</li><li>'Double Happiness (1994)'</li><li>'Being Human (1993)'</li><li>'Lassie (1994)'</li></ol>\n"
      ],
      "text/latex": [
       "\\textbf{\\$`0`} = \\begin{enumerate*}\n",
       "\\item 'NeverEnding Story III, The (1994)'\n",
       "\\item 'Amateur (1994)'\n",
       "\\item 'Mute Witness (1994)'\n",
       "\\item 'My Crazy Life (Mi vida loca) (1993)'\n",
       "\\item 'Miami Rhapsody (1995)'\n",
       "\\item 'Pushing Hands (Tui shou) (1992)'\n",
       "\\item 'Suture (1993)'\n",
       "\\item 'Double Happiness (1994)'\n",
       "\\item 'Being Human (1993)'\n",
       "\\item 'Lassie (1994)'\n",
       "\\end{enumerate*}\n"
      ],
      "text/markdown": [
       "**$`0`** = 1. 'NeverEnding Story III, The (1994)'\n",
       "2. 'Amateur (1994)'\n",
       "3. 'Mute Witness (1994)'\n",
       "4. 'My Crazy Life (Mi vida loca) (1993)'\n",
       "5. 'Miami Rhapsody (1995)'\n",
       "6. 'Pushing Hands (Tui shou) (1992)'\n",
       "7. 'Suture (1993)'\n",
       "8. 'Double Happiness (1994)'\n",
       "9. 'Being Human (1993)'\n",
       "10. 'Lassie (1994)'\n",
       "\n",
       "\n"
      ],
      "text/plain": [
       "$`0`\n",
       " [1] \"NeverEnding Story III, The (1994)\"   \"Amateur (1994)\"                     \n",
       " [3] \"Mute Witness (1994)\"                 \"My Crazy Life (Mi vida loca) (1993)\"\n",
       " [5] \"Miami Rhapsody (1995)\"               \"Pushing Hands (Tui shou) (1992)\"    \n",
       " [7] \"Suture (1993)\"                       \"Double Happiness (1994)\"            \n",
       " [9] \"Being Human (1993)\"                  \"Lassie (1994)\"                      \n"
      ]
     },
     "metadata": {},
     "output_type": "display_data"
    }
   ],
   "source": [
    "\n",
    "recommender <- Recommender(ratingMatrix[-1], method=\"IBCF\")#基于物品的协同过滤\n",
    "pred <- predict(recommender, ratingMatrix[1])\n",
    "as(pred, 'list')"
   ]
  },
  {
   "cell_type": "markdown",
   "id": "d985d74f-52bb-484b-be87-da4e2ae0b59f",
   "metadata": {},
   "source": [
    "## 评估推荐模型 ##"
   ]
  },
  {
   "cell_type": "code",
   "execution_count": 60,
   "id": "30da3545-d7ca-4a3d-b0b8-eb1fe312ffec",
   "metadata": {
    "vscode": {
     "languageId": "r"
    }
   },
   "outputs": [
    {
     "data": {
      "text/html": [
       "<table class=\"dataframe\">\n",
       "<caption>A matrix: 3 × 3 of type dbl</caption>\n",
       "<thead>\n",
       "\t<tr><th></th><th scope=col>RMSE</th><th scope=col>MSE</th><th scope=col>MAE</th></tr>\n",
       "</thead>\n",
       "<tbody>\n",
       "\t<tr><th scope=row>UBCF</th><td>1.155608</td><td>1.335429</td><td>0.8943074</td></tr>\n",
       "\t<tr><th scope=row>IBCF</th><td>1.314356</td><td>1.727531</td><td>1.0543478</td></tr>\n",
       "\t<tr><th scope=row>RANDOM</th><td>1.780208</td><td>3.169139</td><td>1.4539972</td></tr>\n",
       "</tbody>\n",
       "</table>\n"
      ],
      "text/latex": [
       "A matrix: 3 × 3 of type dbl\n",
       "\\begin{tabular}{r|lll}\n",
       "  & RMSE & MSE & MAE\\\\\n",
       "\\hline\n",
       "\tUBCF & 1.155608 & 1.335429 & 0.8943074\\\\\n",
       "\tIBCF & 1.314356 & 1.727531 & 1.0543478\\\\\n",
       "\tRANDOM & 1.780208 & 3.169139 & 1.4539972\\\\\n",
       "\\end{tabular}\n"
      ],
      "text/markdown": [
       "\n",
       "A matrix: 3 × 3 of type dbl\n",
       "\n",
       "| <!--/--> | RMSE | MSE | MAE |\n",
       "|---|---|---|---|\n",
       "| UBCF | 1.155608 | 1.335429 | 0.8943074 |\n",
       "| IBCF | 1.314356 | 1.727531 | 1.0543478 |\n",
       "| RANDOM | 1.780208 | 3.169139 | 1.4539972 |\n",
       "\n"
      ],
      "text/plain": [
       "       RMSE     MSE      MAE      \n",
       "UBCF   1.155608 1.335429 0.8943074\n",
       "IBCF   1.314356 1.727531 1.0543478\n",
       "RANDOM 1.780208 3.169139 1.4539972"
      ]
     },
     "metadata": {},
     "output_type": "display_data"
    }
   ],
   "source": [
    "set.seed(1)\n",
    "e <- evaluationScheme(ratingMatrix, method=\"split\", train=0.9, given=10)#数据集拆分为90%训练集，10%测试集\n",
    "\n",
    "r1 <- Recommender(getData(e, \"train\"), \"UBCF\")#使用Recommender训练UBCF、IBCF和RANDOM（随机推荐）三个模型\n",
    "r2 <- Recommender(getData(e, \"train\"), \"IBCF\")\n",
    "r3 <- Recommender(getData(e, \"train\"), \"RANDOM\")\n",
    "\n",
    "p1 <- predict(r1, getData(e, \"known\"), type=\"ratings\")#预测测试集\n",
    "p2 <- predict(r2, getData(e, \"known\"), type=\"ratings\")\n",
    "p3 <- predict(r3, getData(e, \"known\"), type=\"ratings\")\n",
    "error <- rbind(\n",
    "  UBCF = calcPredictionAccuracy(p1, getData(e, \"unknown\")),\n",
    "  IBCF = calcPredictionAccuracy(p2, getData(e, \"unknown\")),\n",
    "  RANDOM = calcPredictionAccuracy(p3, getData(e, \"unknown\"))\n",
    ")#使用calcPredictionAccuracy函数计算各个模型的预测精度，返回一个误差矩阵\n",
    "error"
   ]
  }
 ],
 "metadata": {
  "kernelspec": {
   "display_name": "R 4.4.1",
   "language": "R",
   "name": "ir"
  },
  "language_info": {
   "codemirror_mode": "r",
   "file_extension": ".r",
   "mimetype": "text/x-r-source",
   "name": "R",
   "pygments_lexer": "r",
   "version": "4.4.1"
  }
 },
 "nbformat": 4,
 "nbformat_minor": 5
}
