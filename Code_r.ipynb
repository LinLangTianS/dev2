{
 "cells": [
  {
   "cell_type": "code",
   "execution_count": 66,
   "metadata": {
    "vscode": {
     "languageId": "r"
    }
   },
   "outputs": [],
   "source": [
    "library(arules)\n",
    "library(ggplot2)\n",
    "library(recommenderlab)"
   ]
  },
  {
   "cell_type": "markdown",
   "metadata": {},
   "source": [
    "# 14.1 关联规则"
   ]
  },
  {
   "cell_type": "markdown",
   "metadata": {},
   "source": [
    "e.g.1:手机保护壳交易数据库中的关联规则"
   ]
  },
  {
   "cell_type": "code",
   "execution_count": 56,
   "metadata": {
    "vscode": {
     "languageId": "r"
    }
   },
   "outputs": [
    {
     "name": "stdout",
     "output_type": "stream",
     "text": [
      "     items                    \n",
      "[1]  {Red, White, Green}      \n",
      "[2]  {White, Orange}          \n",
      "[3]  {White, Blue}            \n",
      "[4]  {Red, White, Orange}     \n",
      "[5]  {Red, Blue}              \n",
      "[6]  {White, Blue}            \n",
      "[7]  {Red, Blue}              \n",
      "[8]  {Red, White, Blue, Green}\n",
      "[9]  {Red, White, Blue}       \n",
      "[10] {Yellow}                 \n"
     ]
    }
   ],
   "source": [
    "fp.df <- read.csv(\"Data/Faceplate.csv\")\n",
    "\n",
    "fp.mat <- as.matrix(fp.df[, -1])\n",
    "fp.trans <- as(fp.mat, \"transactions\")\n",
    "inspect(fp.trans)"
   ]
  },
  {
   "cell_type": "code",
   "execution_count": 57,
   "metadata": {
    "vscode": {
     "languageId": "r"
    }
   },
   "outputs": [
    {
     "name": "stdout",
     "output_type": "stream",
     "text": [
      "Apriori\n",
      "\n",
      "Parameter specification:\n",
      " confidence minval smax arem  aval originalSupport maxtime support minlen\n",
      "        0.5    0.1    1 none FALSE            TRUE       5     0.2      1\n",
      " maxlen target  ext\n",
      "     10  rules TRUE\n",
      "\n",
      "Algorithmic control:\n",
      " filter tree heap memopt load sort verbose\n",
      "    0.1 TRUE TRUE  FALSE TRUE    2    TRUE\n",
      "\n",
      "Absolute minimum support count: 2 \n",
      "\n",
      "set item appearances ...[0 item(s)] done [0.00s].\n",
      "set transactions ...[6 item(s), 10 transaction(s)] done [0.00s].\n",
      "sorting and recoding items ... [5 item(s)] done [0.00s].\n",
      "creating transaction tree ... done [0.00s].\n",
      "checking subsets of size 1 2 3 done [0.00s].\n",
      "writing ... [18 rule(s)] done [0.00s].\n",
      "creating S4 object  ... done [0.00s].\n"
     ]
    },
    {
     "name": "stdout",
     "output_type": "stream",
     "text": [
      "    lhs               rhs     support confidence coverage lift     count\n",
      "[1] {Red, White}   => {Green} 0.2     0.5        0.4      2.500000 2    \n",
      "[2] {Green}        => {Red}   0.2     1.0        0.2      1.666667 2    \n",
      "[3] {White, Green} => {Red}   0.2     1.0        0.2      1.666667 2    \n",
      "[4] {Orange}       => {White} 0.2     1.0        0.2      1.428571 2    \n",
      "[5] {Green}        => {White} 0.2     1.0        0.2      1.428571 2    \n",
      "[6] {Red, Green}   => {White} 0.2     1.0        0.2      1.428571 2    \n"
     ]
    }
   ],
   "source": [
    "rules <- apriori(fp.trans, parameter = list(support = 0.2, confidence = 0.5, target = \"rules\"))\n",
    "inspect(head(sort(rules, by = \"lift\"), n = 6))"
   ]
  },
  {
   "cell_type": "markdown",
   "metadata": {},
   "source": [
    "e.g.2:图书购买交易数据库中的关联规则"
   ]
  },
  {
   "cell_type": "code",
   "execution_count": 58,
   "metadata": {
    "vscode": {
     "languageId": "r"
    }
   },
   "outputs": [
    {
     "name": "stdout",
     "output_type": "stream",
     "text": [
      "     items                                         \n",
      "[1]  {YouthBks, CookBks}                           \n",
      "[2]  {}                                            \n",
      "[3]  {YouthBks, CookBks, RefBks, GeogBks, ItalCook}\n",
      "[4]  {}                                            \n",
      "[5]  {}                                            \n",
      "[6]  {}                                            \n",
      "[7]  {GeogBks}                                     \n",
      "[8]  {}                                            \n",
      "[9]  {}                                            \n",
      "[10] {CookBks}                                     \n",
      "[11] {CookBks}                                     \n",
      "[12] {ArtBks, Florence}                            \n",
      "[13] {Florence}                                    \n",
      "[14] {}                                            \n",
      "[15] {}                                            \n"
     ]
    }
   ],
   "source": [
    "book_df <- read.csv(\"Data/CharlesBookClub.csv\")\n",
    "\n",
    "count_book_df <- book_df[, 8:18]\n",
    "incid_book_df <- ifelse(count_book_df > 0, 1, 0)\n",
    "incid_book_mat <- as.matrix(incid_book_df[, -1])\n",
    "\n",
    "books_trans <- as(incid_book_mat, \"transactions\")\n",
    "inspect(head((books_trans),n = 15))"
   ]
  },
  {
   "cell_type": "code",
   "execution_count": 59,
   "metadata": {
    "vscode": {
     "languageId": "r"
    }
   },
   "outputs": [
    {
     "data": {
      "image/png": "[encoded data removed]",
      "text/plain": [
       "plot without title"
      ]
     },
     "metadata": {
      "image/png": {
       "height": 420,
       "width": 420
      }
     },
     "output_type": "display_data"
    }
   ],
   "source": [
    "item_freq <- itemFrequency(books_trans, type = \"absolute\")\n",
    "item_freq_df <- data.frame(\n",
    "  item = names(item_freq),\n",
    "  frequency = item_freq\n",
    ")\n",
    "\n",
    "ggplot(item_freq_df, aes(x = reorder(item, -frequency), y = frequency)) +\n",
    "  geom_bar(stat = \"identity\") +xlab(\"Item\") +ylab(\"Frequency\") +ggtitle(\"Item Frequency Plot\") +\n",
    "  theme(axis.text.x = element_text(angle = 90, hjust = 1))"
   ]
  },
  {
   "cell_type": "code",
   "execution_count": 60,
   "metadata": {
    "vscode": {
     "languageId": "r"
    }
   },
   "outputs": [
    {
     "name": "stdout",
     "output_type": "stream",
     "text": [
      "Apriori\n",
      "\n",
      "Parameter specification:\n",
      " confidence minval smax arem  aval originalSupport maxtime support minlen\n",
      "        0.5    0.1    1 none FALSE            TRUE       5    0.05      1\n",
      " maxlen target  ext\n",
      "     10  rules TRUE\n",
      "\n",
      "Algorithmic control:\n",
      " filter tree heap memopt load sort verbose\n",
      "    0.1 TRUE TRUE  FALSE TRUE    2    TRUE\n",
      "\n",
      "Absolute minimum support count: 200 \n",
      "\n",
      "set item appearances ...[0 item(s)] done [0.00s].\n",
      "set transactions ...[10 item(s), 4000 transaction(s)] done [0.00s].\n",
      "sorting and recoding items ... [8 item(s)] done [0.00s].\n",
      "creating transaction tree ... done [0.00s].\n",
      "checking subsets of size 1 2 3 4 done [0.00s].\n",
      "writing ... [21 rule(s)] done [0.00s].\n",
      "creating S4 object  ... done [0.00s].\n",
      "    lhs                    rhs        support confidence coverage lift    \n",
      "[1] {DoItYBks, GeogBks} => {YouthBks} 0.05450 0.5396040  0.10100  2.264864\n",
      "[2] {CookBks, GeogBks}  => {YouthBks} 0.08025 0.5136000  0.15625  2.155719\n",
      "[3] {CookBks, RefBks}   => {DoItYBks} 0.07450 0.5330948  0.13975  2.092619\n",
      "[4] {YouthBks, GeogBks} => {DoItYBks} 0.05450 0.5215311  0.10450  2.047227\n",
      "[5] {YouthBks, CookBks} => {DoItYBks} 0.08375 0.5201863  0.16100  2.041948\n",
      "[6] {YouthBks, RefBks}  => {CookBks}  0.06825 0.8400000  0.08125  2.021661\n",
      "    count\n",
      "[1] 218  \n",
      "[2] 321  \n",
      "[3] 298  \n",
      "[4] 218  \n",
      "[5] 335  \n",
      "[6] 273  \n"
     ]
    }
   ],
   "source": [
    "rules <- apriori(books_trans, parameter = list(supp = 200/4000, conf = 0.5, target = \"rules\"))\n",
    "inspect(head(sort(rules, by = \"lift\"), n = 6))"
   ]
  },
  {
   "cell_type": "markdown",
   "metadata": {},
   "source": [
    "# 14.2 协同过滤"
   ]
  },
  {
   "cell_type": "code",
   "execution_count": 61,
   "metadata": {
    "vscode": {
     "languageId": "r"
    }
   },
   "outputs": [
    {
     "data": {
      "image/png": "[encoded data removed]",
      "text/plain": [
       "plot without title"
      ]
     },
     "metadata": {
      "image/png": {
       "height": 420,
       "width": 420
      }
     },
     "output_type": "display_data"
    }
   ],
   "source": [
    "m <- matrix(nrow = 1000, ncol = 1000)\n",
    "m[sample.int(100*1000, 1000)] <- ceiling(runif(1000, 0, 5))\n",
    "r <- as(m, \"realRatingMatrix\")\n",
    "image(r)"
   ]
  },
  {
   "cell_type": "code",
   "execution_count": 68,
   "metadata": {
    "vscode": {
     "languageId": "r"
    }
   },
   "outputs": [
    {
     "data": {
      "text/html": [
       "<table class=\"dataframe\">\n",
       "<caption>A matrix: 1000 × 1000 of type dbl</caption>\n",
       "<tbody>\n",
       "\t<tr><th scope=row>1</th><td>      NA</td><td>NA</td><td>      NA</td><td>NA</td><td>      NA</td><td>      NA</td><td>NA</td><td> NA</td><td>      NA</td><td>      NA</td><td>⋯</td><td>NA</td><td>NA</td><td>NA</td><td>NA</td><td>NA</td><td>NA</td><td>NA</td><td>NA</td><td>NA</td><td>NA</td></tr>\n",
       "\t<tr><th scope=row>2</th><td>      NA</td><td>NA</td><td>      NA</td><td>NA</td><td>      NA</td><td>      NA</td><td>NA</td><td> NA</td><td>      NA</td><td>      NA</td><td>⋯</td><td>NA</td><td>NA</td><td>NA</td><td>NA</td><td>NA</td><td>NA</td><td>NA</td><td>NA</td><td>NA</td><td>NA</td></tr>\n",
       "\t<tr><th scope=row>3</th><td>3.333333</td><td>NA</td><td>      NA</td><td>NA</td><td>      NA</td><td>      NA</td><td>NA</td><td> NA</td><td>      NA</td><td>      NA</td><td>⋯</td><td>NA</td><td>NA</td><td>NA</td><td>NA</td><td>NA</td><td>NA</td><td>NA</td><td>NA</td><td>NA</td><td>NA</td></tr>\n",
       "\t<tr><th scope=row>4</th><td>      NA</td><td>NA</td><td>      NA</td><td>NA</td><td>      NA</td><td>      NA</td><td>NA</td><td> NA</td><td>      NA</td><td>      NA</td><td>⋯</td><td>NA</td><td>NA</td><td>NA</td><td>NA</td><td>NA</td><td>NA</td><td>NA</td><td>NA</td><td>NA</td><td>NA</td></tr>\n",
       "\t<tr><th scope=row>5</th><td>      NA</td><td>NA</td><td>      NA</td><td>NA</td><td>      NA</td><td>4.166667</td><td>NA</td><td> NA</td><td>3.666667</td><td>      NA</td><td>⋯</td><td>NA</td><td>NA</td><td>NA</td><td>NA</td><td>NA</td><td>NA</td><td>NA</td><td>NA</td><td>NA</td><td>NA</td></tr>\n",
       "\t<tr><th scope=row>6</th><td>      NA</td><td>NA</td><td>      NA</td><td>NA</td><td>      NA</td><td>      NA</td><td>NA</td><td> NA</td><td>      NA</td><td>      NA</td><td>⋯</td><td>NA</td><td>NA</td><td>NA</td><td>NA</td><td>NA</td><td>NA</td><td>NA</td><td>NA</td><td>NA</td><td>NA</td></tr>\n",
       "\t<tr><th scope=row>7</th><td>      NA</td><td>NA</td><td>1.500000</td><td>NA</td><td>      NA</td><td>2.000000</td><td>NA</td><td> NA</td><td>2.666667</td><td>      NA</td><td>⋯</td><td>NA</td><td>NA</td><td>NA</td><td>NA</td><td>NA</td><td>NA</td><td>NA</td><td>NA</td><td>NA</td><td>NA</td></tr>\n",
       "\t<tr><th scope=row>8</th><td>      NA</td><td>NA</td><td>      NA</td><td>NA</td><td>      NA</td><td>      NA</td><td>NA</td><td> NA</td><td>      NA</td><td>      NA</td><td>⋯</td><td>NA</td><td>NA</td><td>NA</td><td>NA</td><td>NA</td><td>NA</td><td>NA</td><td>NA</td><td>NA</td><td>NA</td></tr>\n",
       "\t<tr><th scope=row>9</th><td>      NA</td><td>NA</td><td>      NA</td><td>NA</td><td>      NA</td><td>      NA</td><td>NA</td><td> NA</td><td>      NA</td><td>      NA</td><td>⋯</td><td>NA</td><td>NA</td><td>NA</td><td>NA</td><td>NA</td><td>NA</td><td>NA</td><td>NA</td><td>NA</td><td>NA</td></tr>\n",
       "\t<tr><th scope=row>10</th><td>      NA</td><td>NA</td><td>      NA</td><td>NA</td><td>      NA</td><td>      NA</td><td>NA</td><td> NA</td><td>      NA</td><td>      NA</td><td>⋯</td><td>NA</td><td>NA</td><td>NA</td><td>NA</td><td>NA</td><td>NA</td><td>NA</td><td>NA</td><td>NA</td><td>NA</td></tr>\n",
       "\t<tr><th scope=row>11</th><td>      NA</td><td>NA</td><td>      NA</td><td>NA</td><td>      NA</td><td>      NA</td><td>NA</td><td> NA</td><td>      NA</td><td>      NA</td><td>⋯</td><td>NA</td><td>NA</td><td>NA</td><td>NA</td><td>NA</td><td>NA</td><td>NA</td><td>NA</td><td>NA</td><td>NA</td></tr>\n",
       "\t<tr><th scope=row>12</th><td>      NA</td><td>NA</td><td>      NA</td><td>NA</td><td>      NA</td><td>      NA</td><td>NA</td><td> NA</td><td>      NA</td><td>      NA</td><td>⋯</td><td>NA</td><td>NA</td><td>NA</td><td>NA</td><td>NA</td><td>NA</td><td>NA</td><td>NA</td><td>NA</td><td>NA</td></tr>\n",
       "\t<tr><th scope=row>13</th><td>      NA</td><td>NA</td><td>      NA</td><td>NA</td><td>2.666667</td><td>      NA</td><td>NA</td><td> NA</td><td>      NA</td><td>      NA</td><td>⋯</td><td>NA</td><td>NA</td><td>NA</td><td>NA</td><td>NA</td><td>NA</td><td>NA</td><td>NA</td><td>NA</td><td>NA</td></tr>\n",
       "\t<tr><th scope=row>14</th><td>      NA</td><td>NA</td><td>1.500000</td><td>NA</td><td>      NA</td><td>2.500000</td><td>NA</td><td>0.5</td><td>      NA</td><td>      NA</td><td>⋯</td><td>NA</td><td>NA</td><td>NA</td><td>NA</td><td>NA</td><td>NA</td><td>NA</td><td>NA</td><td>NA</td><td>NA</td></tr>\n",
       "\t<tr><th scope=row>15</th><td>      NA</td><td>NA</td><td>      NA</td><td>NA</td><td>      NA</td><td>      NA</td><td>NA</td><td> NA</td><td>      NA</td><td>      NA</td><td>⋯</td><td>NA</td><td>NA</td><td>NA</td><td>NA</td><td>NA</td><td>NA</td><td>NA</td><td>NA</td><td>NA</td><td>NA</td></tr>\n",
       "\t<tr><th scope=row>16</th><td>      NA</td><td>NA</td><td>      NA</td><td>NA</td><td>      NA</td><td>      NA</td><td>NA</td><td> NA</td><td>      NA</td><td>      NA</td><td>⋯</td><td>NA</td><td>NA</td><td>NA</td><td>NA</td><td>NA</td><td>NA</td><td>NA</td><td>NA</td><td>NA</td><td>NA</td></tr>\n",
       "\t<tr><th scope=row>17</th><td>      NA</td><td>NA</td><td>2.666667</td><td>NA</td><td>      NA</td><td>3.000000</td><td>NA</td><td> NA</td><td>      NA</td><td>      NA</td><td>⋯</td><td>NA</td><td>NA</td><td>NA</td><td>NA</td><td>NA</td><td>NA</td><td>NA</td><td>NA</td><td>NA</td><td>NA</td></tr>\n",
       "\t<tr><th scope=row>18</th><td>      NA</td><td>NA</td><td>      NA</td><td>NA</td><td>      NA</td><td>2.500000</td><td>NA</td><td> NA</td><td>      NA</td><td>      NA</td><td>⋯</td><td>NA</td><td>NA</td><td>NA</td><td>NA</td><td>NA</td><td>NA</td><td>NA</td><td>NA</td><td>NA</td><td>NA</td></tr>\n",
       "\t<tr><th scope=row>19</th><td>      NA</td><td>NA</td><td>      NA</td><td>NA</td><td>      NA</td><td>2.666667</td><td>NA</td><td> NA</td><td>      NA</td><td>      NA</td><td>⋯</td><td>NA</td><td>NA</td><td>NA</td><td>NA</td><td>NA</td><td>NA</td><td>NA</td><td>NA</td><td>NA</td><td>NA</td></tr>\n",
       "\t<tr><th scope=row>20</th><td>      NA</td><td>NA</td><td>      NA</td><td>NA</td><td>      NA</td><td>      NA</td><td>NA</td><td> NA</td><td>      NA</td><td>      NA</td><td>⋯</td><td>NA</td><td>NA</td><td>NA</td><td>NA</td><td>NA</td><td>NA</td><td>NA</td><td>NA</td><td>NA</td><td>NA</td></tr>\n",
       "\t<tr><th scope=row>21</th><td>      NA</td><td>NA</td><td>      NA</td><td>NA</td><td>      NA</td><td>      NA</td><td>NA</td><td> NA</td><td>      NA</td><td>      NA</td><td>⋯</td><td>NA</td><td>NA</td><td>NA</td><td>NA</td><td>NA</td><td>NA</td><td>NA</td><td>NA</td><td>NA</td><td>NA</td></tr>\n",
       "\t<tr><th scope=row>22</th><td>      NA</td><td>NA</td><td>      NA</td><td>NA</td><td>      NA</td><td>      NA</td><td>NA</td><td> NA</td><td>      NA</td><td>      NA</td><td>⋯</td><td>NA</td><td>NA</td><td>NA</td><td>NA</td><td>NA</td><td>NA</td><td>NA</td><td>NA</td><td>NA</td><td>NA</td></tr>\n",
       "\t<tr><th scope=row>23</th><td>      NA</td><td>NA</td><td>      NA</td><td>NA</td><td>      NA</td><td>      NA</td><td>NA</td><td> NA</td><td>      NA</td><td>      NA</td><td>⋯</td><td>NA</td><td>NA</td><td>NA</td><td>NA</td><td>NA</td><td>NA</td><td>NA</td><td>NA</td><td>NA</td><td>NA</td></tr>\n",
       "\t<tr><th scope=row>24</th><td>      NA</td><td>NA</td><td>      NA</td><td>NA</td><td>      NA</td><td>      NA</td><td>NA</td><td> NA</td><td>      NA</td><td>      NA</td><td>⋯</td><td>NA</td><td>NA</td><td>NA</td><td>NA</td><td>NA</td><td>NA</td><td>NA</td><td>NA</td><td>NA</td><td>NA</td></tr>\n",
       "\t<tr><th scope=row>25</th><td>      NA</td><td>NA</td><td>      NA</td><td>NA</td><td>      NA</td><td>      NA</td><td>NA</td><td> NA</td><td>      NA</td><td>      NA</td><td>⋯</td><td>NA</td><td>NA</td><td>NA</td><td>NA</td><td>NA</td><td>NA</td><td>NA</td><td>NA</td><td>NA</td><td>NA</td></tr>\n",
       "\t<tr><th scope=row>26</th><td>      NA</td><td>NA</td><td>      NA</td><td>NA</td><td>      NA</td><td>      NA</td><td>NA</td><td> NA</td><td>      NA</td><td>      NA</td><td>⋯</td><td>NA</td><td>NA</td><td>NA</td><td>NA</td><td>NA</td><td>NA</td><td>NA</td><td>NA</td><td>NA</td><td>NA</td></tr>\n",
       "\t<tr><th scope=row>27</th><td>3.500000</td><td>NA</td><td>      NA</td><td>NA</td><td>      NA</td><td>3.000000</td><td>NA</td><td>1.0</td><td>3.666667</td><td>      NA</td><td>⋯</td><td>NA</td><td>NA</td><td>NA</td><td>NA</td><td>NA</td><td>NA</td><td>NA</td><td>NA</td><td>NA</td><td>NA</td></tr>\n",
       "\t<tr><th scope=row>28</th><td>      NA</td><td>NA</td><td>      NA</td><td>NA</td><td>      NA</td><td>      NA</td><td>NA</td><td> NA</td><td>      NA</td><td>2.333333</td><td>⋯</td><td>NA</td><td>NA</td><td>NA</td><td>NA</td><td>NA</td><td>NA</td><td>NA</td><td>NA</td><td>NA</td><td>NA</td></tr>\n",
       "\t<tr><th scope=row>29</th><td>      NA</td><td>NA</td><td>      NA</td><td>NA</td><td>      NA</td><td>      NA</td><td>NA</td><td> NA</td><td>      NA</td><td>      NA</td><td>⋯</td><td>NA</td><td>NA</td><td>NA</td><td>NA</td><td>NA</td><td>NA</td><td>NA</td><td>NA</td><td>NA</td><td>NA</td></tr>\n",
       "\t<tr><th scope=row>30</th><td>      NA</td><td>NA</td><td>      NA</td><td>NA</td><td>      NA</td><td>2.500000</td><td>NA</td><td> NA</td><td>      NA</td><td>      NA</td><td>⋯</td><td>NA</td><td>NA</td><td>NA</td><td>NA</td><td>NA</td><td>NA</td><td>NA</td><td>NA</td><td>NA</td><td>NA</td></tr>\n",
       "\t<tr><th scope=row>⋮</th><td>⋮</td><td>⋮</td><td>⋮</td><td>⋮</td><td>⋮</td><td>⋮</td><td>⋮</td><td>⋮</td><td>⋮</td><td>⋮</td><td>⋱</td><td>⋮</td><td>⋮</td><td>⋮</td><td>⋮</td><td>⋮</td><td>⋮</td><td>⋮</td><td>⋮</td><td>⋮</td><td>⋮</td></tr>\n",
       "\t<tr><th scope=row>971</th><td>       NA</td><td>NA</td><td>  NA</td><td>NA</td><td>NA</td><td>      NA</td><td>       NA</td><td>      NA</td><td>NA</td><td>      NA</td><td>⋯</td><td>NA</td><td>NA</td><td>NA</td><td>NA</td><td>NA</td><td>NA</td><td>NA</td><td>NA</td><td>NA</td><td>NA</td></tr>\n",
       "\t<tr><th scope=row>972</th><td>       NA</td><td>NA</td><td>3.25</td><td>NA</td><td>NA</td><td>      NA</td><td>       NA</td><td>      NA</td><td>NA</td><td>      NA</td><td>⋯</td><td>NA</td><td>NA</td><td>NA</td><td>NA</td><td>NA</td><td>NA</td><td>NA</td><td>NA</td><td>NA</td><td>NA</td></tr>\n",
       "\t<tr><th scope=row>973</th><td>       NA</td><td>NA</td><td>  NA</td><td>NA</td><td>NA</td><td>      NA</td><td>       NA</td><td>      NA</td><td>NA</td><td>      NA</td><td>⋯</td><td>NA</td><td>NA</td><td>NA</td><td>NA</td><td>NA</td><td>NA</td><td>NA</td><td>NA</td><td>NA</td><td>NA</td></tr>\n",
       "\t<tr><th scope=row>974</th><td>       NA</td><td>NA</td><td>  NA</td><td>NA</td><td>NA</td><td>      NA</td><td>       NA</td><td>      NA</td><td>NA</td><td>      NA</td><td>⋯</td><td>NA</td><td>NA</td><td>NA</td><td>NA</td><td>NA</td><td>NA</td><td>NA</td><td>NA</td><td>NA</td><td>NA</td></tr>\n",
       "\t<tr><th scope=row>975</th><td>       NA</td><td>NA</td><td>  NA</td><td>NA</td><td>NA</td><td>      NA</td><td>       NA</td><td>      NA</td><td>NA</td><td>      NA</td><td>⋯</td><td>NA</td><td>NA</td><td>NA</td><td>NA</td><td>NA</td><td>NA</td><td>NA</td><td>NA</td><td>NA</td><td>NA</td></tr>\n",
       "\t<tr><th scope=row>976</th><td> 1.000000</td><td>NA</td><td>  NA</td><td>NA</td><td>NA</td><td>      NA</td><td>       NA</td><td>      NA</td><td>NA</td><td>      NA</td><td>⋯</td><td>NA</td><td>NA</td><td>NA</td><td>NA</td><td>NA</td><td>NA</td><td>NA</td><td>NA</td><td>NA</td><td>NA</td></tr>\n",
       "\t<tr><th scope=row>977</th><td>       NA</td><td>NA</td><td>  NA</td><td>NA</td><td>NA</td><td>      NA</td><td>       NA</td><td>      NA</td><td>NA</td><td>      NA</td><td>⋯</td><td>NA</td><td>NA</td><td>NA</td><td>NA</td><td>NA</td><td>NA</td><td>NA</td><td>NA</td><td>NA</td><td>NA</td></tr>\n",
       "\t<tr><th scope=row>978</th><td>       NA</td><td>NA</td><td>  NA</td><td>NA</td><td>NA</td><td>      NA</td><td>       NA</td><td>      NA</td><td>NA</td><td>      NA</td><td>⋯</td><td>NA</td><td>NA</td><td>NA</td><td>NA</td><td>NA</td><td>NA</td><td>NA</td><td>NA</td><td>NA</td><td>NA</td></tr>\n",
       "\t<tr><th scope=row>979</th><td>       NA</td><td>NA</td><td>  NA</td><td>NA</td><td>NA</td><td>      NA</td><td>       NA</td><td>      NA</td><td>NA</td><td>      NA</td><td>⋯</td><td>NA</td><td>NA</td><td>NA</td><td>NA</td><td>NA</td><td>NA</td><td>NA</td><td>NA</td><td>NA</td><td>NA</td></tr>\n",
       "\t<tr><th scope=row>980</th><td>       NA</td><td>NA</td><td>  NA</td><td>NA</td><td>NA</td><td>      NA</td><td>       NA</td><td>      NA</td><td>NA</td><td>      NA</td><td>⋯</td><td>NA</td><td>NA</td><td>NA</td><td>NA</td><td>NA</td><td>NA</td><td>NA</td><td>NA</td><td>NA</td><td>NA</td></tr>\n",
       "\t<tr><th scope=row>981</th><td>       NA</td><td>NA</td><td>  NA</td><td>NA</td><td>NA</td><td>      NA</td><td>       NA</td><td>      NA</td><td>NA</td><td>      NA</td><td>⋯</td><td>NA</td><td>NA</td><td>NA</td><td>NA</td><td>NA</td><td>NA</td><td>NA</td><td>NA</td><td>NA</td><td>NA</td></tr>\n",
       "\t<tr><th scope=row>982</th><td>       NA</td><td>NA</td><td>  NA</td><td>NA</td><td>NA</td><td>      NA</td><td>       NA</td><td>      NA</td><td>NA</td><td>      NA</td><td>⋯</td><td>NA</td><td>NA</td><td>NA</td><td>NA</td><td>NA</td><td>NA</td><td>NA</td><td>NA</td><td>NA</td><td>NA</td></tr>\n",
       "\t<tr><th scope=row>983</th><td>       NA</td><td>NA</td><td>  NA</td><td>NA</td><td>NA</td><td>      NA</td><td>       NA</td><td>      NA</td><td>NA</td><td>      NA</td><td>⋯</td><td>NA</td><td>NA</td><td>NA</td><td>NA</td><td>NA</td><td>NA</td><td>NA</td><td>NA</td><td>NA</td><td>NA</td></tr>\n",
       "\t<tr><th scope=row>984</th><td>       NA</td><td>NA</td><td>1.00</td><td>NA</td><td>NA</td><td>1.000000</td><td>       NA</td><td>1.666667</td><td>NA</td><td>      NA</td><td>⋯</td><td>NA</td><td>NA</td><td>NA</td><td>NA</td><td>NA</td><td>NA</td><td>NA</td><td>NA</td><td>NA</td><td>NA</td></tr>\n",
       "\t<tr><th scope=row>985</th><td>-0.333333</td><td>NA</td><td>1.00</td><td>NA</td><td>NA</td><td>      NA</td><td>       NA</td><td>      NA</td><td>NA</td><td>      NA</td><td>⋯</td><td>NA</td><td>NA</td><td>NA</td><td>NA</td><td>NA</td><td>NA</td><td>NA</td><td>NA</td><td>NA</td><td>NA</td></tr>\n",
       "\t<tr><th scope=row>986</th><td> 3.333333</td><td>NA</td><td>  NA</td><td>NA</td><td>NA</td><td>      NA</td><td>       NA</td><td>      NA</td><td>NA</td><td>      NA</td><td>⋯</td><td>NA</td><td>NA</td><td>NA</td><td>NA</td><td>NA</td><td>NA</td><td>NA</td><td>NA</td><td>NA</td><td>NA</td></tr>\n",
       "\t<tr><th scope=row>987</th><td>       NA</td><td>NA</td><td>0.00</td><td>NA</td><td>NA</td><td>1.000000</td><td>       NA</td><td>      NA</td><td>NA</td><td>      NA</td><td>⋯</td><td>NA</td><td>NA</td><td>NA</td><td>NA</td><td>NA</td><td>NA</td><td>NA</td><td>NA</td><td>NA</td><td>NA</td></tr>\n",
       "\t<tr><th scope=row>988</th><td>       NA</td><td>NA</td><td>  NA</td><td>NA</td><td>NA</td><td>      NA</td><td>       NA</td><td>      NA</td><td>NA</td><td>      NA</td><td>⋯</td><td>NA</td><td>NA</td><td>NA</td><td>NA</td><td>NA</td><td>NA</td><td>NA</td><td>NA</td><td>NA</td><td>NA</td></tr>\n",
       "\t<tr><th scope=row>989</th><td>       NA</td><td>NA</td><td>  NA</td><td>NA</td><td>NA</td><td>      NA</td><td>       NA</td><td>      NA</td><td>NA</td><td>      NA</td><td>⋯</td><td>NA</td><td>NA</td><td>NA</td><td>NA</td><td>NA</td><td>NA</td><td>NA</td><td>NA</td><td>NA</td><td>NA</td></tr>\n",
       "\t<tr><th scope=row>990</th><td>       NA</td><td>NA</td><td>  NA</td><td>NA</td><td>NA</td><td>      NA</td><td>       NA</td><td>      NA</td><td>NA</td><td>      NA</td><td>⋯</td><td>NA</td><td>NA</td><td>NA</td><td>NA</td><td>NA</td><td>NA</td><td>NA</td><td>NA</td><td>NA</td><td>NA</td></tr>\n",
       "\t<tr><th scope=row>991</th><td>       NA</td><td>NA</td><td>  NA</td><td>NA</td><td>NA</td><td>      NA</td><td>       NA</td><td>      NA</td><td>NA</td><td>      NA</td><td>⋯</td><td>NA</td><td>NA</td><td>NA</td><td>NA</td><td>NA</td><td>NA</td><td>NA</td><td>NA</td><td>NA</td><td>NA</td></tr>\n",
       "\t<tr><th scope=row>992</th><td>       NA</td><td>NA</td><td>  NA</td><td>NA</td><td>NA</td><td>      NA</td><td>       NA</td><td>      NA</td><td>NA</td><td>      NA</td><td>⋯</td><td>NA</td><td>NA</td><td>NA</td><td>NA</td><td>NA</td><td>NA</td><td>NA</td><td>NA</td><td>NA</td><td>NA</td></tr>\n",
       "\t<tr><th scope=row>993</th><td>       NA</td><td>NA</td><td>  NA</td><td>NA</td><td>NA</td><td>      NA</td><td>       NA</td><td>      NA</td><td>NA</td><td>1.333333</td><td>⋯</td><td>NA</td><td>NA</td><td>NA</td><td>NA</td><td>NA</td><td>NA</td><td>NA</td><td>NA</td><td>NA</td><td>NA</td></tr>\n",
       "\t<tr><th scope=row>994</th><td> 1.833333</td><td>NA</td><td>  NA</td><td>NA</td><td>NA</td><td>      NA</td><td> 1.833333</td><td>      NA</td><td>NA</td><td>      NA</td><td>⋯</td><td>NA</td><td>NA</td><td>NA</td><td>NA</td><td>NA</td><td>NA</td><td>NA</td><td>NA</td><td>NA</td><td>NA</td></tr>\n",
       "\t<tr><th scope=row>995</th><td>       NA</td><td>NA</td><td>  NA</td><td>NA</td><td>NA</td><td>      NA</td><td>       NA</td><td>      NA</td><td>NA</td><td>      NA</td><td>⋯</td><td>NA</td><td>NA</td><td>NA</td><td>NA</td><td>NA</td><td>NA</td><td>NA</td><td>NA</td><td>NA</td><td>NA</td></tr>\n",
       "\t<tr><th scope=row>996</th><td>       NA</td><td>NA</td><td>  NA</td><td>NA</td><td>NA</td><td>      NA</td><td>       NA</td><td>      NA</td><td>NA</td><td>1.666667</td><td>⋯</td><td>NA</td><td>NA</td><td>NA</td><td>NA</td><td>NA</td><td>NA</td><td>NA</td><td>NA</td><td>NA</td><td>NA</td></tr>\n",
       "\t<tr><th scope=row>997</th><td>       NA</td><td>NA</td><td>  NA</td><td>NA</td><td>NA</td><td>2.333333</td><td>       NA</td><td>      NA</td><td>NA</td><td>      NA</td><td>⋯</td><td>NA</td><td>NA</td><td>NA</td><td>NA</td><td>NA</td><td>NA</td><td>NA</td><td>NA</td><td>NA</td><td>NA</td></tr>\n",
       "\t<tr><th scope=row>998</th><td>       NA</td><td>NA</td><td>  NA</td><td>NA</td><td>NA</td><td>      NA</td><td>       NA</td><td>      NA</td><td>NA</td><td>      NA</td><td>⋯</td><td>NA</td><td>NA</td><td>NA</td><td>NA</td><td>NA</td><td>NA</td><td>NA</td><td>NA</td><td>NA</td><td>NA</td></tr>\n",
       "\t<tr><th scope=row>999</th><td>       NA</td><td>NA</td><td>  NA</td><td>NA</td><td>NA</td><td>1.000000</td><td>-0.666667</td><td>      NA</td><td>NA</td><td>      NA</td><td>⋯</td><td>NA</td><td>NA</td><td>NA</td><td>NA</td><td>NA</td><td>NA</td><td>NA</td><td>NA</td><td>NA</td><td>NA</td></tr>\n",
       "\t<tr><th scope=row>1000</th><td>       NA</td><td>NA</td><td>  NA</td><td>NA</td><td>NA</td><td>      NA</td><td>       NA</td><td>      NA</td><td>NA</td><td>      NA</td><td>⋯</td><td>NA</td><td>NA</td><td>NA</td><td>NA</td><td>NA</td><td>NA</td><td>NA</td><td>NA</td><td>NA</td><td>NA</td></tr>\n",
       "</tbody>\n",
       "</table>\n"
      ],
      "text/latex": [
       "A matrix: 1000 × 1000 of type dbl\n",
       "\\begin{tabular}{r|lllllllllllllllllllll}\n",
       "\t1 &       NA & NA &       NA & NA &       NA &       NA & NA &  NA &       NA &       NA & ⋯ & NA & NA & NA & NA & NA & NA & NA & NA & NA & NA\\\\\n",
       "\t2 &       NA & NA &       NA & NA &       NA &       NA & NA &  NA &       NA &       NA & ⋯ & NA & NA & NA & NA & NA & NA & NA & NA & NA & NA\\\\\n",
       "\t3 & 3.333333 & NA &       NA & NA &       NA &       NA & NA &  NA &       NA &       NA & ⋯ & NA & NA & NA & NA & NA & NA & NA & NA & NA & NA\\\\\n",
       "\t4 &       NA & NA &       NA & NA &       NA &       NA & NA &  NA &       NA &       NA & ⋯ & NA & NA & NA & NA & NA & NA & NA & NA & NA & NA\\\\\n",
       "\t5 &       NA & NA &       NA & NA &       NA & 4.166667 & NA &  NA & 3.666667 &       NA & ⋯ & NA & NA & NA & NA & NA & NA & NA & NA & NA & NA\\\\\n",
       "\t6 &       NA & NA &       NA & NA &       NA &       NA & NA &  NA &       NA &       NA & ⋯ & NA & NA & NA & NA & NA & NA & NA & NA & NA & NA\\\\\n",
       "\t7 &       NA & NA & 1.500000 & NA &       NA & 2.000000 & NA &  NA & 2.666667 &       NA & ⋯ & NA & NA & NA & NA & NA & NA & NA & NA & NA & NA\\\\\n",
       "\t8 &       NA & NA &       NA & NA &       NA &       NA & NA &  NA &       NA &       NA & ⋯ & NA & NA & NA & NA & NA & NA & NA & NA & NA & NA\\\\\n",
       "\t9 &       NA & NA &       NA & NA &       NA &       NA & NA &  NA &       NA &       NA & ⋯ & NA & NA & NA & NA & NA & NA & NA & NA & NA & NA\\\\\n",
       "\t10 &       NA & NA &       NA & NA &       NA &       NA & NA &  NA &       NA &       NA & ⋯ & NA & NA & NA & NA & NA & NA & NA & NA & NA & NA\\\\\n",
       "\t11 &       NA & NA &       NA & NA &       NA &       NA & NA &  NA &       NA &       NA & ⋯ & NA & NA & NA & NA & NA & NA & NA & NA & NA & NA\\\\\n",
       "\t12 &       NA & NA &       NA & NA &       NA &       NA & NA &  NA &       NA &       NA & ⋯ & NA & NA & NA & NA & NA & NA & NA & NA & NA & NA\\\\\n",
       "\t13 &       NA & NA &       NA & NA & 2.666667 &       NA & NA &  NA &       NA &       NA & ⋯ & NA & NA & NA & NA & NA & NA & NA & NA & NA & NA\\\\\n",
       "\t14 &       NA & NA & 1.500000 & NA &       NA & 2.500000 & NA & 0.5 &       NA &       NA & ⋯ & NA & NA & NA & NA & NA & NA & NA & NA & NA & NA\\\\\n",
       "\t15 &       NA & NA &       NA & NA &       NA &       NA & NA &  NA &       NA &       NA & ⋯ & NA & NA & NA & NA & NA & NA & NA & NA & NA & NA\\\\\n",
       "\t16 &       NA & NA &       NA & NA &       NA &       NA & NA &  NA &       NA &       NA & ⋯ & NA & NA & NA & NA & NA & NA & NA & NA & NA & NA\\\\\n",
       "\t17 &       NA & NA & 2.666667 & NA &       NA & 3.000000 & NA &  NA &       NA &       NA & ⋯ & NA & NA & NA & NA & NA & NA & NA & NA & NA & NA\\\\\n",
       "\t18 &       NA & NA &       NA & NA &       NA & 2.500000 & NA &  NA &       NA &       NA & ⋯ & NA & NA & NA & NA & NA & NA & NA & NA & NA & NA\\\\\n",
       "\t19 &       NA & NA &       NA & NA &       NA & 2.666667 & NA &  NA &       NA &       NA & ⋯ & NA & NA & NA & NA & NA & NA & NA & NA & NA & NA\\\\\n",
       "\t20 &       NA & NA &       NA & NA &       NA &       NA & NA &  NA &       NA &       NA & ⋯ & NA & NA & NA & NA & NA & NA & NA & NA & NA & NA\\\\\n",
       "\t21 &       NA & NA &       NA & NA &       NA &       NA & NA &  NA &       NA &       NA & ⋯ & NA & NA & NA & NA & NA & NA & NA & NA & NA & NA\\\\\n",
       "\t22 &       NA & NA &       NA & NA &       NA &       NA & NA &  NA &       NA &       NA & ⋯ & NA & NA & NA & NA & NA & NA & NA & NA & NA & NA\\\\\n",
       "\t23 &       NA & NA &       NA & NA &       NA &       NA & NA &  NA &       NA &       NA & ⋯ & NA & NA & NA & NA & NA & NA & NA & NA & NA & NA\\\\\n",
       "\t24 &       NA & NA &       NA & NA &       NA &       NA & NA &  NA &       NA &       NA & ⋯ & NA & NA & NA & NA & NA & NA & NA & NA & NA & NA\\\\\n",
       "\t25 &       NA & NA &       NA & NA &       NA &       NA & NA &  NA &       NA &       NA & ⋯ & NA & NA & NA & NA & NA & NA & NA & NA & NA & NA\\\\\n",
       "\t26 &       NA & NA &       NA & NA &       NA &       NA & NA &  NA &       NA &       NA & ⋯ & NA & NA & NA & NA & NA & NA & NA & NA & NA & NA\\\\\n",
       "\t27 & 3.500000 & NA &       NA & NA &       NA & 3.000000 & NA & 1.0 & 3.666667 &       NA & ⋯ & NA & NA & NA & NA & NA & NA & NA & NA & NA & NA\\\\\n",
       "\t28 &       NA & NA &       NA & NA &       NA &       NA & NA &  NA &       NA & 2.333333 & ⋯ & NA & NA & NA & NA & NA & NA & NA & NA & NA & NA\\\\\n",
       "\t29 &       NA & NA &       NA & NA &       NA &       NA & NA &  NA &       NA &       NA & ⋯ & NA & NA & NA & NA & NA & NA & NA & NA & NA & NA\\\\\n",
       "\t30 &       NA & NA &       NA & NA &       NA & 2.500000 & NA &  NA &       NA &       NA & ⋯ & NA & NA & NA & NA & NA & NA & NA & NA & NA & NA\\\\\n",
       "\t⋮ & ⋮ & ⋮ & ⋮ & ⋮ & ⋮ & ⋮ & ⋮ & ⋮ & ⋮ & ⋮ & ⋱ & ⋮ & ⋮ & ⋮ & ⋮ & ⋮ & ⋮ & ⋮ & ⋮ & ⋮ & ⋮\\\\\n",
       "\t971 &        NA & NA &   NA & NA & NA &       NA &        NA &       NA & NA &       NA & ⋯ & NA & NA & NA & NA & NA & NA & NA & NA & NA & NA\\\\\n",
       "\t972 &        NA & NA & 3.25 & NA & NA &       NA &        NA &       NA & NA &       NA & ⋯ & NA & NA & NA & NA & NA & NA & NA & NA & NA & NA\\\\\n",
       "\t973 &        NA & NA &   NA & NA & NA &       NA &        NA &       NA & NA &       NA & ⋯ & NA & NA & NA & NA & NA & NA & NA & NA & NA & NA\\\\\n",
       "\t974 &        NA & NA &   NA & NA & NA &       NA &        NA &       NA & NA &       NA & ⋯ & NA & NA & NA & NA & NA & NA & NA & NA & NA & NA\\\\\n",
       "\t975 &        NA & NA &   NA & NA & NA &       NA &        NA &       NA & NA &       NA & ⋯ & NA & NA & NA & NA & NA & NA & NA & NA & NA & NA\\\\\n",
       "\t976 &  1.000000 & NA &   NA & NA & NA &       NA &        NA &       NA & NA &       NA & ⋯ & NA & NA & NA & NA & NA & NA & NA & NA & NA & NA\\\\\n",
       "\t977 &        NA & NA &   NA & NA & NA &       NA &        NA &       NA & NA &       NA & ⋯ & NA & NA & NA & NA & NA & NA & NA & NA & NA & NA\\\\\n",
       "\t978 &        NA & NA &   NA & NA & NA &       NA &        NA &       NA & NA &       NA & ⋯ & NA & NA & NA & NA & NA & NA & NA & NA & NA & NA\\\\\n",
       "\t979 &        NA & NA &   NA & NA & NA &       NA &        NA &       NA & NA &       NA & ⋯ & NA & NA & NA & NA & NA & NA & NA & NA & NA & NA\\\\\n",
       "\t980 &        NA & NA &   NA & NA & NA &       NA &        NA &       NA & NA &       NA & ⋯ & NA & NA & NA & NA & NA & NA & NA & NA & NA & NA\\\\\n",
       "\t981 &        NA & NA &   NA & NA & NA &       NA &        NA &       NA & NA &       NA & ⋯ & NA & NA & NA & NA & NA & NA & NA & NA & NA & NA\\\\\n",
       "\t982 &        NA & NA &   NA & NA & NA &       NA &        NA &       NA & NA &       NA & ⋯ & NA & NA & NA & NA & NA & NA & NA & NA & NA & NA\\\\\n",
       "\t983 &        NA & NA &   NA & NA & NA &       NA &        NA &       NA & NA &       NA & ⋯ & NA & NA & NA & NA & NA & NA & NA & NA & NA & NA\\\\\n",
       "\t984 &        NA & NA & 1.00 & NA & NA & 1.000000 &        NA & 1.666667 & NA &       NA & ⋯ & NA & NA & NA & NA & NA & NA & NA & NA & NA & NA\\\\\n",
       "\t985 & -0.333333 & NA & 1.00 & NA & NA &       NA &        NA &       NA & NA &       NA & ⋯ & NA & NA & NA & NA & NA & NA & NA & NA & NA & NA\\\\\n",
       "\t986 &  3.333333 & NA &   NA & NA & NA &       NA &        NA &       NA & NA &       NA & ⋯ & NA & NA & NA & NA & NA & NA & NA & NA & NA & NA\\\\\n",
       "\t987 &        NA & NA & 0.00 & NA & NA & 1.000000 &        NA &       NA & NA &       NA & ⋯ & NA & NA & NA & NA & NA & NA & NA & NA & NA & NA\\\\\n",
       "\t988 &        NA & NA &   NA & NA & NA &       NA &        NA &       NA & NA &       NA & ⋯ & NA & NA & NA & NA & NA & NA & NA & NA & NA & NA\\\\\n",
       "\t989 &        NA & NA &   NA & NA & NA &       NA &        NA &       NA & NA &       NA & ⋯ & NA & NA & NA & NA & NA & NA & NA & NA & NA & NA\\\\\n",
       "\t990 &        NA & NA &   NA & NA & NA &       NA &        NA &       NA & NA &       NA & ⋯ & NA & NA & NA & NA & NA & NA & NA & NA & NA & NA\\\\\n",
       "\t991 &        NA & NA &   NA & NA & NA &       NA &        NA &       NA & NA &       NA & ⋯ & NA & NA & NA & NA & NA & NA & NA & NA & NA & NA\\\\\n",
       "\t992 &        NA & NA &   NA & NA & NA &       NA &        NA &       NA & NA &       NA & ⋯ & NA & NA & NA & NA & NA & NA & NA & NA & NA & NA\\\\\n",
       "\t993 &        NA & NA &   NA & NA & NA &       NA &        NA &       NA & NA & 1.333333 & ⋯ & NA & NA & NA & NA & NA & NA & NA & NA & NA & NA\\\\\n",
       "\t994 &  1.833333 & NA &   NA & NA & NA &       NA &  1.833333 &       NA & NA &       NA & ⋯ & NA & NA & NA & NA & NA & NA & NA & NA & NA & NA\\\\\n",
       "\t995 &        NA & NA &   NA & NA & NA &       NA &        NA &       NA & NA &       NA & ⋯ & NA & NA & NA & NA & NA & NA & NA & NA & NA & NA\\\\\n",
       "\t996 &        NA & NA &   NA & NA & NA &       NA &        NA &       NA & NA & 1.666667 & ⋯ & NA & NA & NA & NA & NA & NA & NA & NA & NA & NA\\\\\n",
       "\t997 &        NA & NA &   NA & NA & NA & 2.333333 &        NA &       NA & NA &       NA & ⋯ & NA & NA & NA & NA & NA & NA & NA & NA & NA & NA\\\\\n",
       "\t998 &        NA & NA &   NA & NA & NA &       NA &        NA &       NA & NA &       NA & ⋯ & NA & NA & NA & NA & NA & NA & NA & NA & NA & NA\\\\\n",
       "\t999 &        NA & NA &   NA & NA & NA & 1.000000 & -0.666667 &       NA & NA &       NA & ⋯ & NA & NA & NA & NA & NA & NA & NA & NA & NA & NA\\\\\n",
       "\t1000 &        NA & NA &   NA & NA & NA &       NA &        NA &       NA & NA &       NA & ⋯ & NA & NA & NA & NA & NA & NA & NA & NA & NA & NA\\\\\n",
       "\\end{tabular}\n"
      ],
      "text/markdown": [
       "\n",
       "A matrix: 1000 × 1000 of type dbl\n",
       "\n",
       "| 1 |       NA | NA |       NA | NA |       NA |       NA | NA |  NA |       NA |       NA | ⋯ | NA | NA | NA | NA | NA | NA | NA | NA | NA | NA |\n",
       "| 2 |       NA | NA |       NA | NA |       NA |       NA | NA |  NA |       NA |       NA | ⋯ | NA | NA | NA | NA | NA | NA | NA | NA | NA | NA |\n",
       "| 3 | 3.333333 | NA |       NA | NA |       NA |       NA | NA |  NA |       NA |       NA | ⋯ | NA | NA | NA | NA | NA | NA | NA | NA | NA | NA |\n",
       "| 4 |       NA | NA |       NA | NA |       NA |       NA | NA |  NA |       NA |       NA | ⋯ | NA | NA | NA | NA | NA | NA | NA | NA | NA | NA |\n",
       "| 5 |       NA | NA |       NA | NA |       NA | 4.166667 | NA |  NA | 3.666667 |       NA | ⋯ | NA | NA | NA | NA | NA | NA | NA | NA | NA | NA |\n",
       "| 6 |       NA | NA |       NA | NA |       NA |       NA | NA |  NA |       NA |       NA | ⋯ | NA | NA | NA | NA | NA | NA | NA | NA | NA | NA |\n",
       "| 7 |       NA | NA | 1.500000 | NA |       NA | 2.000000 | NA |  NA | 2.666667 |       NA | ⋯ | NA | NA | NA | NA | NA | NA | NA | NA | NA | NA |\n",
       "| 8 |       NA | NA |       NA | NA |       NA |       NA | NA |  NA |       NA |       NA | ⋯ | NA | NA | NA | NA | NA | NA | NA | NA | NA | NA |\n",
       "| 9 |       NA | NA |       NA | NA |       NA |       NA | NA |  NA |       NA |       NA | ⋯ | NA | NA | NA | NA | NA | NA | NA | NA | NA | NA |\n",
       "| 10 |       NA | NA |       NA | NA |       NA |       NA | NA |  NA |       NA |       NA | ⋯ | NA | NA | NA | NA | NA | NA | NA | NA | NA | NA |\n",
       "| 11 |       NA | NA |       NA | NA |       NA |       NA | NA |  NA |       NA |       NA | ⋯ | NA | NA | NA | NA | NA | NA | NA | NA | NA | NA |\n",
       "| 12 |       NA | NA |       NA | NA |       NA |       NA | NA |  NA |       NA |       NA | ⋯ | NA | NA | NA | NA | NA | NA | NA | NA | NA | NA |\n",
       "| 13 |       NA | NA |       NA | NA | 2.666667 |       NA | NA |  NA |       NA |       NA | ⋯ | NA | NA | NA | NA | NA | NA | NA | NA | NA | NA |\n",
       "| 14 |       NA | NA | 1.500000 | NA |       NA | 2.500000 | NA | 0.5 |       NA |       NA | ⋯ | NA | NA | NA | NA | NA | NA | NA | NA | NA | NA |\n",
       "| 15 |       NA | NA |       NA | NA |       NA |       NA | NA |  NA |       NA |       NA | ⋯ | NA | NA | NA | NA | NA | NA | NA | NA | NA | NA |\n",
       "| 16 |       NA | NA |       NA | NA |       NA |       NA | NA |  NA |       NA |       NA | ⋯ | NA | NA | NA | NA | NA | NA | NA | NA | NA | NA |\n",
       "| 17 |       NA | NA | 2.666667 | NA |       NA | 3.000000 | NA |  NA |       NA |       NA | ⋯ | NA | NA | NA | NA | NA | NA | NA | NA | NA | NA |\n",
       "| 18 |       NA | NA |       NA | NA |       NA | 2.500000 | NA |  NA |       NA |       NA | ⋯ | NA | NA | NA | NA | NA | NA | NA | NA | NA | NA |\n",
       "| 19 |       NA | NA |       NA | NA |       NA | 2.666667 | NA |  NA |       NA |       NA | ⋯ | NA | NA | NA | NA | NA | NA | NA | NA | NA | NA |\n",
       "| 20 |       NA | NA |       NA | NA |       NA |       NA | NA |  NA |       NA |       NA | ⋯ | NA | NA | NA | NA | NA | NA | NA | NA | NA | NA |\n",
       "| 21 |       NA | NA |       NA | NA |       NA |       NA | NA |  NA |       NA |       NA | ⋯ | NA | NA | NA | NA | NA | NA | NA | NA | NA | NA |\n",
       "| 22 |       NA | NA |       NA | NA |       NA |       NA | NA |  NA |       NA |       NA | ⋯ | NA | NA | NA | NA | NA | NA | NA | NA | NA | NA |\n",
       "| 23 |       NA | NA |       NA | NA |       NA |       NA | NA |  NA |       NA |       NA | ⋯ | NA | NA | NA | NA | NA | NA | NA | NA | NA | NA |\n",
       "| 24 |       NA | NA |       NA | NA |       NA |       NA | NA |  NA |       NA |       NA | ⋯ | NA | NA | NA | NA | NA | NA | NA | NA | NA | NA |\n",
       "| 25 |       NA | NA |       NA | NA |       NA |       NA | NA |  NA |       NA |       NA | ⋯ | NA | NA | NA | NA | NA | NA | NA | NA | NA | NA |\n",
       "| 26 |       NA | NA |       NA | NA |       NA |       NA | NA |  NA |       NA |       NA | ⋯ | NA | NA | NA | NA | NA | NA | NA | NA | NA | NA |\n",
       "| 27 | 3.500000 | NA |       NA | NA |       NA | 3.000000 | NA | 1.0 | 3.666667 |       NA | ⋯ | NA | NA | NA | NA | NA | NA | NA | NA | NA | NA |\n",
       "| 28 |       NA | NA |       NA | NA |       NA |       NA | NA |  NA |       NA | 2.333333 | ⋯ | NA | NA | NA | NA | NA | NA | NA | NA | NA | NA |\n",
       "| 29 |       NA | NA |       NA | NA |       NA |       NA | NA |  NA |       NA |       NA | ⋯ | NA | NA | NA | NA | NA | NA | NA | NA | NA | NA |\n",
       "| 30 |       NA | NA |       NA | NA |       NA | 2.500000 | NA |  NA |       NA |       NA | ⋯ | NA | NA | NA | NA | NA | NA | NA | NA | NA | NA |\n",
       "| ⋮ | ⋮ | ⋮ | ⋮ | ⋮ | ⋮ | ⋮ | ⋮ | ⋮ | ⋮ | ⋮ | ⋱ | ⋮ | ⋮ | ⋮ | ⋮ | ⋮ | ⋮ | ⋮ | ⋮ | ⋮ | ⋮ |\n",
       "| 971 |        NA | NA |   NA | NA | NA |       NA |        NA |       NA | NA |       NA | ⋯ | NA | NA | NA | NA | NA | NA | NA | NA | NA | NA |\n",
       "| 972 |        NA | NA | 3.25 | NA | NA |       NA |        NA |       NA | NA |       NA | ⋯ | NA | NA | NA | NA | NA | NA | NA | NA | NA | NA |\n",
       "| 973 |        NA | NA |   NA | NA | NA |       NA |        NA |       NA | NA |       NA | ⋯ | NA | NA | NA | NA | NA | NA | NA | NA | NA | NA |\n",
       "| 974 |        NA | NA |   NA | NA | NA |       NA |        NA |       NA | NA |       NA | ⋯ | NA | NA | NA | NA | NA | NA | NA | NA | NA | NA |\n",
       "| 975 |        NA | NA |   NA | NA | NA |       NA |        NA |       NA | NA |       NA | ⋯ | NA | NA | NA | NA | NA | NA | NA | NA | NA | NA |\n",
       "| 976 |  1.000000 | NA |   NA | NA | NA |       NA |        NA |       NA | NA |       NA | ⋯ | NA | NA | NA | NA | NA | NA | NA | NA | NA | NA |\n",
       "| 977 |        NA | NA |   NA | NA | NA |       NA |        NA |       NA | NA |       NA | ⋯ | NA | NA | NA | NA | NA | NA | NA | NA | NA | NA |\n",
       "| 978 |        NA | NA |   NA | NA | NA |       NA |        NA |       NA | NA |       NA | ⋯ | NA | NA | NA | NA | NA | NA | NA | NA | NA | NA |\n",
       "| 979 |        NA | NA |   NA | NA | NA |       NA |        NA |       NA | NA |       NA | ⋯ | NA | NA | NA | NA | NA | NA | NA | NA | NA | NA |\n",
       "| 980 |        NA | NA |   NA | NA | NA |       NA |        NA |       NA | NA |       NA | ⋯ | NA | NA | NA | NA | NA | NA | NA | NA | NA | NA |\n",
       "| 981 |        NA | NA |   NA | NA | NA |       NA |        NA |       NA | NA |       NA | ⋯ | NA | NA | NA | NA | NA | NA | NA | NA | NA | NA |\n",
       "| 982 |        NA | NA |   NA | NA | NA |       NA |        NA |       NA | NA |       NA | ⋯ | NA | NA | NA | NA | NA | NA | NA | NA | NA | NA |\n",
       "| 983 |        NA | NA |   NA | NA | NA |       NA |        NA |       NA | NA |       NA | ⋯ | NA | NA | NA | NA | NA | NA | NA | NA | NA | NA |\n",
       "| 984 |        NA | NA | 1.00 | NA | NA | 1.000000 |        NA | 1.666667 | NA |       NA | ⋯ | NA | NA | NA | NA | NA | NA | NA | NA | NA | NA |\n",
       "| 985 | -0.333333 | NA | 1.00 | NA | NA |       NA |        NA |       NA | NA |       NA | ⋯ | NA | NA | NA | NA | NA | NA | NA | NA | NA | NA |\n",
       "| 986 |  3.333333 | NA |   NA | NA | NA |       NA |        NA |       NA | NA |       NA | ⋯ | NA | NA | NA | NA | NA | NA | NA | NA | NA | NA |\n",
       "| 987 |        NA | NA | 0.00 | NA | NA | 1.000000 |        NA |       NA | NA |       NA | ⋯ | NA | NA | NA | NA | NA | NA | NA | NA | NA | NA |\n",
       "| 988 |        NA | NA |   NA | NA | NA |       NA |        NA |       NA | NA |       NA | ⋯ | NA | NA | NA | NA | NA | NA | NA | NA | NA | NA |\n",
       "| 989 |        NA | NA |   NA | NA | NA |       NA |        NA |       NA | NA |       NA | ⋯ | NA | NA | NA | NA | NA | NA | NA | NA | NA | NA |\n",
       "| 990 |        NA | NA |   NA | NA | NA |       NA |        NA |       NA | NA |       NA | ⋯ | NA | NA | NA | NA | NA | NA | NA | NA | NA | NA |\n",
       "| 991 |        NA | NA |   NA | NA | NA |       NA |        NA |       NA | NA |       NA | ⋯ | NA | NA | NA | NA | NA | NA | NA | NA | NA | NA |\n",
       "| 992 |        NA | NA |   NA | NA | NA |       NA |        NA |       NA | NA |       NA | ⋯ | NA | NA | NA | NA | NA | NA | NA | NA | NA | NA |\n",
       "| 993 |        NA | NA |   NA | NA | NA |       NA |        NA |       NA | NA | 1.333333 | ⋯ | NA | NA | NA | NA | NA | NA | NA | NA | NA | NA |\n",
       "| 994 |  1.833333 | NA |   NA | NA | NA |       NA |  1.833333 |       NA | NA |       NA | ⋯ | NA | NA | NA | NA | NA | NA | NA | NA | NA | NA |\n",
       "| 995 |        NA | NA |   NA | NA | NA |       NA |        NA |       NA | NA |       NA | ⋯ | NA | NA | NA | NA | NA | NA | NA | NA | NA | NA |\n",
       "| 996 |        NA | NA |   NA | NA | NA |       NA |        NA |       NA | NA | 1.666667 | ⋯ | NA | NA | NA | NA | NA | NA | NA | NA | NA | NA |\n",
       "| 997 |        NA | NA |   NA | NA | NA | 2.333333 |        NA |       NA | NA |       NA | ⋯ | NA | NA | NA | NA | NA | NA | NA | NA | NA | NA |\n",
       "| 998 |        NA | NA |   NA | NA | NA |       NA |        NA |       NA | NA |       NA | ⋯ | NA | NA | NA | NA | NA | NA | NA | NA | NA | NA |\n",
       "| 999 |        NA | NA |   NA | NA | NA | 1.000000 | -0.666667 |       NA | NA |       NA | ⋯ | NA | NA | NA | NA | NA | NA | NA | NA | NA | NA |\n",
       "| 1000 |        NA | NA |   NA | NA | NA |       NA |        NA |       NA | NA |       NA | ⋯ | NA | NA | NA | NA | NA | NA | NA | NA | NA | NA |\n",
       "\n"
      ],
      "text/plain": [
       "     [,1]      [,2] [,3]     [,4] [,5]     [,6]     [,7]      [,8]     [,9]    \n",
       "1          NA  NA         NA NA         NA       NA NA         NA            NA\n",
       "2          NA  NA         NA NA         NA       NA NA         NA            NA\n",
       "3    3.333333  NA         NA NA         NA       NA NA         NA            NA\n",
       "4          NA  NA         NA NA         NA       NA NA         NA            NA\n",
       "5          NA  NA         NA NA         NA 4.166667 NA         NA      3.666667\n",
       "6          NA  NA         NA NA         NA       NA NA         NA            NA\n",
       "7          NA  NA   1.500000 NA         NA 2.000000 NA         NA      2.666667\n",
       "8          NA  NA         NA NA         NA       NA NA         NA            NA\n",
       "9          NA  NA         NA NA         NA       NA NA         NA            NA\n",
       "10         NA  NA         NA NA         NA       NA NA         NA            NA\n",
       "11         NA  NA         NA NA         NA       NA NA         NA            NA\n",
       "12         NA  NA         NA NA         NA       NA NA         NA            NA\n",
       "13         NA  NA         NA NA   2.666667       NA NA         NA            NA\n",
       "14         NA  NA   1.500000 NA         NA 2.500000 NA        0.5            NA\n",
       "15         NA  NA         NA NA         NA       NA NA         NA            NA\n",
       "16         NA  NA         NA NA         NA       NA NA         NA            NA\n",
       "17         NA  NA   2.666667 NA         NA 3.000000 NA         NA            NA\n",
       "18         NA  NA         NA NA         NA 2.500000 NA         NA            NA\n",
       "19         NA  NA         NA NA         NA 2.666667 NA         NA            NA\n",
       "20         NA  NA         NA NA         NA       NA NA         NA            NA\n",
       "21         NA  NA         NA NA         NA       NA NA         NA            NA\n",
       "22         NA  NA         NA NA         NA       NA NA         NA            NA\n",
       "23         NA  NA         NA NA         NA       NA NA         NA            NA\n",
       "24         NA  NA         NA NA         NA       NA NA         NA            NA\n",
       "25         NA  NA         NA NA         NA       NA NA         NA            NA\n",
       "26         NA  NA         NA NA         NA       NA NA         NA            NA\n",
       "27   3.500000  NA         NA NA         NA 3.000000 NA        1.0      3.666667\n",
       "28         NA  NA         NA NA         NA       NA NA         NA            NA\n",
       "29         NA  NA         NA NA         NA       NA NA         NA            NA\n",
       "30         NA  NA         NA NA         NA 2.500000 NA         NA            NA\n",
       "⋮    ⋮         ⋮    ⋮        ⋮    ⋮        ⋮        ⋮         ⋮        ⋮       \n",
       "971         NA NA     NA     NA   NA             NA        NA       NA NA      \n",
       "972         NA NA   3.25     NA   NA             NA        NA       NA NA      \n",
       "973         NA NA     NA     NA   NA             NA        NA       NA NA      \n",
       "974         NA NA     NA     NA   NA             NA        NA       NA NA      \n",
       "975         NA NA     NA     NA   NA             NA        NA       NA NA      \n",
       "976   1.000000 NA     NA     NA   NA             NA        NA       NA NA      \n",
       "977         NA NA     NA     NA   NA             NA        NA       NA NA      \n",
       "978         NA NA     NA     NA   NA             NA        NA       NA NA      \n",
       "979         NA NA     NA     NA   NA             NA        NA       NA NA      \n",
       "980         NA NA     NA     NA   NA             NA        NA       NA NA      \n",
       "981         NA NA     NA     NA   NA             NA        NA       NA NA      \n",
       "982         NA NA     NA     NA   NA             NA        NA       NA NA      \n",
       "983         NA NA     NA     NA   NA             NA        NA       NA NA      \n",
       "984         NA NA   1.00     NA   NA       1.000000        NA 1.666667 NA      \n",
       "985  -0.333333 NA   1.00     NA   NA             NA        NA       NA NA      \n",
       "986   3.333333 NA     NA     NA   NA             NA        NA       NA NA      \n",
       "987         NA NA   0.00     NA   NA       1.000000        NA       NA NA      \n",
       "988         NA NA     NA     NA   NA             NA        NA       NA NA      \n",
       "989         NA NA     NA     NA   NA             NA        NA       NA NA      \n",
       "990         NA NA     NA     NA   NA             NA        NA       NA NA      \n",
       "991         NA NA     NA     NA   NA             NA        NA       NA NA      \n",
       "992         NA NA     NA     NA   NA             NA        NA       NA NA      \n",
       "993         NA NA     NA     NA   NA             NA        NA       NA NA      \n",
       "994   1.833333 NA     NA     NA   NA             NA  1.833333       NA NA      \n",
       "995         NA NA     NA     NA   NA             NA        NA       NA NA      \n",
       "996         NA NA     NA     NA   NA             NA        NA       NA NA      \n",
       "997         NA NA     NA     NA   NA       2.333333        NA       NA NA      \n",
       "998         NA NA     NA     NA   NA             NA        NA       NA NA      \n",
       "999         NA NA     NA     NA   NA       1.000000 -0.666667       NA NA      \n",
       "1000        NA NA     NA     NA   NA             NA        NA       NA NA      \n",
       "     [,10]    [,11] [,12] [,13] [,14] [,15] [,16] [,17] [,18] [,19] [,20] [,21]\n",
       "1          NA ⋯     NA    NA    NA    NA    NA    NA    NA    NA    NA    NA   \n",
       "2          NA ⋯     NA    NA    NA    NA    NA    NA    NA    NA    NA    NA   \n",
       "3          NA ⋯     NA    NA    NA    NA    NA    NA    NA    NA    NA    NA   \n",
       "4          NA ⋯     NA    NA    NA    NA    NA    NA    NA    NA    NA    NA   \n",
       "5          NA ⋯     NA    NA    NA    NA    NA    NA    NA    NA    NA    NA   \n",
       "6          NA ⋯     NA    NA    NA    NA    NA    NA    NA    NA    NA    NA   \n",
       "7          NA ⋯     NA    NA    NA    NA    NA    NA    NA    NA    NA    NA   \n",
       "8          NA ⋯     NA    NA    NA    NA    NA    NA    NA    NA    NA    NA   \n",
       "9          NA ⋯     NA    NA    NA    NA    NA    NA    NA    NA    NA    NA   \n",
       "10         NA ⋯     NA    NA    NA    NA    NA    NA    NA    NA    NA    NA   \n",
       "11         NA ⋯     NA    NA    NA    NA    NA    NA    NA    NA    NA    NA   \n",
       "12         NA ⋯     NA    NA    NA    NA    NA    NA    NA    NA    NA    NA   \n",
       "13         NA ⋯     NA    NA    NA    NA    NA    NA    NA    NA    NA    NA   \n",
       "14         NA ⋯     NA    NA    NA    NA    NA    NA    NA    NA    NA    NA   \n",
       "15         NA ⋯     NA    NA    NA    NA    NA    NA    NA    NA    NA    NA   \n",
       "16         NA ⋯     NA    NA    NA    NA    NA    NA    NA    NA    NA    NA   \n",
       "17         NA ⋯     NA    NA    NA    NA    NA    NA    NA    NA    NA    NA   \n",
       "18         NA ⋯     NA    NA    NA    NA    NA    NA    NA    NA    NA    NA   \n",
       "19         NA ⋯     NA    NA    NA    NA    NA    NA    NA    NA    NA    NA   \n",
       "20         NA ⋯     NA    NA    NA    NA    NA    NA    NA    NA    NA    NA   \n",
       "21         NA ⋯     NA    NA    NA    NA    NA    NA    NA    NA    NA    NA   \n",
       "22         NA ⋯     NA    NA    NA    NA    NA    NA    NA    NA    NA    NA   \n",
       "23         NA ⋯     NA    NA    NA    NA    NA    NA    NA    NA    NA    NA   \n",
       "24         NA ⋯     NA    NA    NA    NA    NA    NA    NA    NA    NA    NA   \n",
       "25         NA ⋯     NA    NA    NA    NA    NA    NA    NA    NA    NA    NA   \n",
       "26         NA ⋯     NA    NA    NA    NA    NA    NA    NA    NA    NA    NA   \n",
       "27         NA ⋯     NA    NA    NA    NA    NA    NA    NA    NA    NA    NA   \n",
       "28   2.333333 ⋯     NA    NA    NA    NA    NA    NA    NA    NA    NA    NA   \n",
       "29         NA ⋯     NA    NA    NA    NA    NA    NA    NA    NA    NA    NA   \n",
       "30         NA ⋯     NA    NA    NA    NA    NA    NA    NA    NA    NA    NA   \n",
       "⋮    ⋮        ⋱     ⋮     ⋮     ⋮     ⋮     ⋮     ⋮     ⋮     ⋮     ⋮     ⋮    \n",
       "971        NA ⋯     NA    NA    NA    NA    NA    NA    NA    NA    NA    NA   \n",
       "972        NA ⋯     NA    NA    NA    NA    NA    NA    NA    NA    NA    NA   \n",
       "973        NA ⋯     NA    NA    NA    NA    NA    NA    NA    NA    NA    NA   \n",
       "974        NA ⋯     NA    NA    NA    NA    NA    NA    NA    NA    NA    NA   \n",
       "975        NA ⋯     NA    NA    NA    NA    NA    NA    NA    NA    NA    NA   \n",
       "976        NA ⋯     NA    NA    NA    NA    NA    NA    NA    NA    NA    NA   \n",
       "977        NA ⋯     NA    NA    NA    NA    NA    NA    NA    NA    NA    NA   \n",
       "978        NA ⋯     NA    NA    NA    NA    NA    NA    NA    NA    NA    NA   \n",
       "979        NA ⋯     NA    NA    NA    NA    NA    NA    NA    NA    NA    NA   \n",
       "980        NA ⋯     NA    NA    NA    NA    NA    NA    NA    NA    NA    NA   \n",
       "981        NA ⋯     NA    NA    NA    NA    NA    NA    NA    NA    NA    NA   \n",
       "982        NA ⋯     NA    NA    NA    NA    NA    NA    NA    NA    NA    NA   \n",
       "983        NA ⋯     NA    NA    NA    NA    NA    NA    NA    NA    NA    NA   \n",
       "984        NA ⋯     NA    NA    NA    NA    NA    NA    NA    NA    NA    NA   \n",
       "985        NA ⋯     NA    NA    NA    NA    NA    NA    NA    NA    NA    NA   \n",
       "986        NA ⋯     NA    NA    NA    NA    NA    NA    NA    NA    NA    NA   \n",
       "987        NA ⋯     NA    NA    NA    NA    NA    NA    NA    NA    NA    NA   \n",
       "988        NA ⋯     NA    NA    NA    NA    NA    NA    NA    NA    NA    NA   \n",
       "989        NA ⋯     NA    NA    NA    NA    NA    NA    NA    NA    NA    NA   \n",
       "990        NA ⋯     NA    NA    NA    NA    NA    NA    NA    NA    NA    NA   \n",
       "991        NA ⋯     NA    NA    NA    NA    NA    NA    NA    NA    NA    NA   \n",
       "992        NA ⋯     NA    NA    NA    NA    NA    NA    NA    NA    NA    NA   \n",
       "993  1.333333 ⋯     NA    NA    NA    NA    NA    NA    NA    NA    NA    NA   \n",
       "994        NA ⋯     NA    NA    NA    NA    NA    NA    NA    NA    NA    NA   \n",
       "995        NA ⋯     NA    NA    NA    NA    NA    NA    NA    NA    NA    NA   \n",
       "996  1.666667 ⋯     NA    NA    NA    NA    NA    NA    NA    NA    NA    NA   \n",
       "997        NA ⋯     NA    NA    NA    NA    NA    NA    NA    NA    NA    NA   \n",
       "998        NA ⋯     NA    NA    NA    NA    NA    NA    NA    NA    NA    NA   \n",
       "999        NA ⋯     NA    NA    NA    NA    NA    NA    NA    NA    NA    NA   \n",
       "1000       NA ⋯     NA    NA    NA    NA    NA    NA    NA    NA    NA    NA   "
      ]
     },
     "metadata": {},
     "output_type": "display_data"
    }
   ],
   "source": [
    "UB.Rec <- Recommender(r, method = \"UBCF\")\n",
    "pred <- predict(UB.Rec, r, type=\"ratings\")\n",
    "as(pred, \"matrix\")"
   ]
  },
  {
   "cell_type": "code",
   "execution_count": null,
   "metadata": {
    "vscode": {
     "languageId": "r"
    }
   },
   "outputs": [],
   "source": []
  }
 ],
 "metadata": {
  "kernelspec": {
   "display_name": "R 4.4.1",
   "language": "R",
   "name": "ir"
  },
  "language_info": {
   "codemirror_mode": "r",
   "file_extension": ".r",
   "mimetype": "text/x-r-source",
   "name": "R",
   "pygments_lexer": "r",
   "version": "4.4.1"
  }
 },
 "nbformat": 4,
 "nbformat_minor": 2
}
