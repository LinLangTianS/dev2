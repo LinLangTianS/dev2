{
 "cells": [
  {
   "cell_type": "code",
   "execution_count": 1,
   "metadata": {
    "vscode": {
     "languageId": "r"
    }
   },
   "outputs": [
    {
     "name": "stderr",
     "output_type": "stream",
     "text": [
      "Loading required package: Matrix\n",
      "\n",
      "\n",
      "Attaching package: 'arules'\n",
      "\n",
      "\n",
      "The following objects are masked from 'package:base':\n",
      "\n",
      "    abbreviate, write\n",
      "\n",
      "\n",
      "Loading required package: proxy\n",
      "\n",
      "\n",
      "Attaching package: 'proxy'\n",
      "\n",
      "\n",
      "The following object is masked from 'package:Matrix':\n",
      "\n",
      "    as.matrix\n",
      "\n",
      "\n",
      "The following objects are masked from 'package:stats':\n",
      "\n",
      "    as.dist, dist\n",
      "\n",
      "\n",
      "The following object is masked from 'package:base':\n",
      "\n",
      "    as.matrix\n",
      "\n",
      "\n",
      "Registered S3 methods overwritten by 'registry':\n",
      "  method               from \n",
      "  print.registry_field proxy\n",
      "  print.registry_entry proxy\n",
      "\n"
     ]
    }
   ],
   "source": [
    "library(arules)\n",
    "library(ggplot2)\n",
    "library(recommenderlab)"
   ]
  },
  {
   "cell_type": "markdown",
   "metadata": {},
   "source": [
    "# 14.1 关联规则"
   ]
  },
  {
   "cell_type": "markdown",
   "metadata": {},
   "source": [
    "e.g.1:手机保护壳交易数据库中的关联规则"
   ]
  },
  {
   "cell_type": "code",
   "execution_count": 2,
   "metadata": {
    "vscode": {
     "languageId": "r"
    }
   },
   "outputs": [
    {
     "name": "stdout",
     "output_type": "stream",
     "text": [
      "     items                    \n",
      "[1]  {Red, White, Green}      \n",
      "[2]  {White, Orange}          \n",
      "[3]  {White, Blue}            \n",
      "[4]  {Red, White, Orange}     \n",
      "[5]  {Red, Blue}              \n",
      "[6]  {White, Blue}            \n",
      "[7]  {Red, Blue}              \n",
      "[8]  {Red, White, Blue, Green}\n",
      "[9]  {Red, White, Blue}       \n",
      "[10] {Yellow}                 \n"
     ]
    }
   ],
   "source": [
    "load('Data/Faceplate.rda')\n",
    "fp.mat <- as.matrix(Faceplate[, -1])\n",
    "fp.trans <- as(fp.mat, \"transactions\")\n",
    "inspect(fp.trans)"
   ]
  },
  {
   "cell_type": "code",
   "execution_count": 3,
   "metadata": {
    "vscode": {
     "languageId": "r"
    }
   },
   "outputs": [
    {
     "name": "stdout",
     "output_type": "stream",
     "text": [
      "     items                    \n",
      "[1]  {Red, White, Green}      \n",
      "[2]  {White, Orange}          \n",
      "[3]  {White, Blue}            \n",
      "[4]  {Red, White, Orange}     \n",
      "[5]  {Red, Blue}              \n",
      "[6]  {White, Blue}            \n",
      "[7]  {Red, Blue}              \n",
      "[8]  {Red, White, Blue, Green}\n",
      "[9]  {Red, White, Blue}       \n",
      "[10] {Yellow}                 \n"
     ]
    }
   ],
   "source": [
    "fp.df <- read.csv(\"Data/Faceplate.csv\")\n",
    "fp.mat <- as.matrix(fp.df[, -1])\n",
    "fp.trans <- as(fp.mat, \"transactions\")\n",
    "inspect(fp.trans)"
   ]
  },
  {
   "cell_type": "code",
   "execution_count": 4,
   "metadata": {
    "vscode": {
     "languageId": "r"
    }
   },
   "outputs": [
    {
     "name": "stdout",
     "output_type": "stream",
     "text": [
      "Apriori\n",
      "\n",
      "Parameter specification:\n",
      " confidence minval smax arem  aval originalSupport maxtime support minlen\n",
      "        0.5    0.1    1 none FALSE            TRUE       5     0.2      1\n",
      " maxlen target  ext\n",
      "     10  rules TRUE\n",
      "\n",
      "Algorithmic control:\n",
      " filter tree heap memopt load sort verbose\n",
      "    0.1 TRUE TRUE  FALSE TRUE    2    TRUE\n",
      "\n",
      "Absolute minimum support count: 2 \n",
      "\n",
      "set item appearances ...[0 item(s)] done [0.00s].\n",
      "set transactions ...[6 item(s), 10 transaction(s)] done [0.00s].\n",
      "sorting and recoding items ... [5 item(s)] done [0.00s].\n",
      "creating transaction tree ... done [0.00s].\n",
      "checking subsets of size 1 2 3 done [0.00s].\n",
      "writing ... [18 rule(s)] done [0.00s].\n",
      "creating S4 object  ... done [0.00s].\n",
      "    lhs               rhs     support confidence coverage lift     count\n",
      "[1] {Red, White}   => {Green} 0.2     0.5        0.4      2.500000 2    \n",
      "[2] {Green}        => {Red}   0.2     1.0        0.2      1.666667 2    \n",
      "[3] {White, Green} => {Red}   0.2     1.0        0.2      1.666667 2    \n",
      "[4] {Orange}       => {White} 0.2     1.0        0.2      1.428571 2    \n",
      "[5] {Green}        => {White} 0.2     1.0        0.2      1.428571 2    \n",
      "[6] {Red, Green}   => {White} 0.2     1.0        0.2      1.428571 2    \n"
     ]
    }
   ],
   "source": [
    "rules <- apriori(fp.trans, parameter = list(support = 0.2, confidence = 0.5, target = \"rules\"))\n",
    "inspect(head(sort(rules, by = \"lift\"), n = 6))"
   ]
  },
  {
   "cell_type": "markdown",
   "metadata": {},
   "source": [
    "e.g.2:图书购买交易数据库中的关联规则"
   ]
  },
  {
   "cell_type": "code",
   "execution_count": 5,
   "metadata": {
    "vscode": {
     "languageId": "r"
    }
   },
   "outputs": [
    {
     "name": "stdout",
     "output_type": "stream",
     "text": [
      "     items                                         \n",
      "[1]  {YouthBks, CookBks}                           \n",
      "[2]  {}                                            \n",
      "[3]  {YouthBks, CookBks, RefBks, GeogBks, ItalCook}\n",
      "[4]  {}                                            \n",
      "[5]  {}                                            \n",
      "[6]  {}                                            \n",
      "[7]  {GeogBks}                                     \n",
      "[8]  {}                                            \n",
      "[9]  {}                                            \n",
      "[10] {CookBks}                                     \n",
      "[11] {CookBks}                                     \n",
      "[12] {ArtBks, Florence}                            \n",
      "[13] {Florence}                                    \n",
      "[14] {}                                            \n",
      "[15] {}                                            \n"
     ]
    }
   ],
   "source": [
    "book_df <- read.csv(\"Data/CharlesBookClub.csv\")\n",
    "\n",
    "count_book_df <- book_df[, 8:18]\n",
    "incid_book_df <- ifelse(count_book_df > 0, 1, 0)\n",
    "incid_book_mat <- as.matrix(incid_book_df[, -1])\n",
    "\n",
    "books_trans <- as(incid_book_mat, \"transactions\")\n",
    "inspect(head((books_trans),n = 15))"
   ]
  },
  {
   "cell_type": "code",
   "execution_count": 6,
   "metadata": {
    "vscode": {
     "languageId": "r"
    }
   },
   "outputs": [
    {
     "data": {
      "image/png": "[encoded data removed]",
      "text/plain": [
       "plot without title"
      ]
     },
     "metadata": {
      "image/png": {
       "height": 420,
       "width": 420
      }
     },
     "output_type": "display_data"
    }
   ],
   "source": [
    "item_freq <- itemFrequency(books_trans, type = \"absolute\")\n",
    "item_freq_df <- data.frame(\n",
    "  item = names(item_freq),\n",
    "  frequency = item_freq\n",
    ")\n",
    "\n",
    "ggplot(item_freq_df, aes(x=reorder(item, -frequency), y=frequency, fill=item)) +\n",
    "  geom_bar(stat = \"identity\") + xlab(\"Item\") + ylab(\"Frequency\") + ggtitle(\"Item Frequency Plot\") +\n",
    "  theme(axis.text.x=element_text(angle=90, hjust=1))"
   ]
  },
  {
   "cell_type": "code",
   "execution_count": 7,
   "metadata": {
    "vscode": {
     "languageId": "r"
    }
   },
   "outputs": [
    {
     "name": "stdout",
     "output_type": "stream",
     "text": [
      "Apriori\n",
      "\n",
      "Parameter specification:\n",
      " confidence minval smax arem  aval originalSupport maxtime support minlen\n",
      "        0.5    0.1    1 none FALSE            TRUE       5    0.05      1\n",
      " maxlen target  ext\n",
      "     10  rules TRUE\n",
      "\n",
      "Algorithmic control:\n",
      " filter tree heap memopt load sort verbose\n",
      "    0.1 TRUE TRUE  FALSE TRUE    2    TRUE\n",
      "\n",
      "Absolute minimum support count: 200 \n",
      "\n",
      "set item appearances ...[0 item(s)] done [0.00s].\n",
      "set transactions ...[10 item(s), 4000 transaction(s)] done [0.00s].\n",
      "sorting and recoding items ... [8 item(s)] done [0.00s].\n",
      "creating transaction tree ... done [0.00s].\n",
      "checking subsets of size 1 2 3 4 done [0.00s].\n",
      "writing ... [21 rule(s)] done [0.00s].\n",
      "creating S4 object  ... done [0.00s].\n"
     ]
    },
    {
     "name": "stdout",
     "output_type": "stream",
     "text": [
      "    lhs                    rhs        support confidence coverage lift    \n",
      "[1] {DoItYBks, GeogBks} => {YouthBks} 0.05450 0.5396040  0.10100  2.264864\n",
      "[2] {CookBks, GeogBks}  => {YouthBks} 0.08025 0.5136000  0.15625  2.155719\n",
      "[3] {CookBks, RefBks}   => {DoItYBks} 0.07450 0.5330948  0.13975  2.092619\n",
      "[4] {YouthBks, GeogBks} => {DoItYBks} 0.05450 0.5215311  0.10450  2.047227\n",
      "[5] {YouthBks, CookBks} => {DoItYBks} 0.08375 0.5201863  0.16100  2.041948\n",
      "[6] {YouthBks, RefBks}  => {CookBks}  0.06825 0.8400000  0.08125  2.021661\n",
      "    count\n",
      "[1] 218  \n",
      "[2] 321  \n",
      "[3] 298  \n",
      "[4] 218  \n",
      "[5] 335  \n",
      "[6] 273  \n"
     ]
    }
   ],
   "source": [
    "rules <- apriori(books_trans, parameter = list(supp = 200/4000, conf = 0.5, target = \"rules\"))\n",
    "inspect(head(sort(rules, by = \"lift\"), n = 6))"
   ]
  },
  {
   "cell_type": "markdown",
   "metadata": {},
   "source": [
    "# 14.2 协同过滤"
   ]
  },
  {
   "cell_type": "code",
   "execution_count": 8,
   "metadata": {
    "vscode": {
     "languageId": "r"
    }
   },
   "outputs": [],
   "source": [
    "library(arules)\n",
    "library(ggplot2)\n",
    "library(recommenderlab)"
   ]
  },
  {
   "cell_type": "code",
   "execution_count": 9,
   "metadata": {
    "vscode": {
     "languageId": "r"
    }
   },
   "outputs": [],
   "source": [
    "load('Data/MovieLensMovies.rda')\n",
    "load('Data/MovieLensRatings.rda')\n",
    "ratings <- get(\"MovieLensRatings\")\n",
    "movies <- get(\"MovieLensMovies\")"
   ]
  },
  {
   "cell_type": "code",
   "execution_count": 10,
   "metadata": {
    "vscode": {
     "languageId": "r"
    }
   },
   "outputs": [],
   "source": [
    "# convert ratings to rating matrix \n",
    "idxUserId <- sort(unique(ratings$userId)) \n",
    "idxMovieId <- sort(unique(ratings$movieId)) \n",
    "m <- matrix(NA, nrow=length(idxUserId), ncol=length(idxMovieId), \n",
    "dimnames=list( \n",
    "user=paste(\"u\", 1:length(idxUserId), sep=''), \n",
    "item=movies$title[match(idxMovieId, movies$movieId)] \n",
    ")) \n",
    "for (i in 1:nrow(ratings)) { \n",
    "rating <- ratings[i,] \n",
    "irow <- match(rating$userId, idxUserId) \n",
    "icol <- match(rating$movieId, idxMovieId) \n",
    "m[irow, icol] <- rating$rating \n",
    "} \n",
    "ratingMatrix <- as(m, \"realRatingMatrix\") "
   ]
  },
  {
   "cell_type": "code",
   "execution_count": 20,
   "metadata": {
    "vscode": {
     "languageId": "r"
    }
   },
   "outputs": [
    {
     "data": {
      "text/html": [
       "<table class=\"dataframe\">\n",
       "<caption>A data.frame: 100836 × 3</caption>\n",
       "<thead>\n",
       "\t<tr><th></th><th scope=col>user</th><th scope=col>item</th><th scope=col>rating</th></tr>\n",
       "\t<tr><th></th><th scope=col>&lt;chr&gt;</th><th scope=col>&lt;chr&gt;</th><th scope=col>&lt;dbl&gt;</th></tr>\n",
       "</thead>\n",
       "<tbody>\n",
       "\t<tr><th scope=row>1</th><td>u1</td><td>Toy Story (1995)                         </td><td>4</td></tr>\n",
       "\t<tr><th scope=row>326</th><td>u1</td><td>Grumpier Old Men (1995)                  </td><td>4</td></tr>\n",
       "\t<tr><th scope=row>434</th><td>u1</td><td>Heat (1995)                              </td><td>4</td></tr>\n",
       "\t<tr><th scope=row>2108</th><td>u1</td><td>Seven (a.k.a. Se7en) (1995)              </td><td>5</td></tr>\n",
       "\t<tr><th scope=row>2380</th><td>u1</td><td>Usual Suspects, The (1995)               </td><td>5</td></tr>\n",
       "\t<tr><th scope=row>2860</th><td>u1</td><td>From Dusk Till Dawn (1996)               </td><td>3</td></tr>\n",
       "\t<tr><th scope=row>3207</th><td>u1</td><td>Bottle Rocket (1996)                     </td><td>5</td></tr>\n",
       "\t<tr><th scope=row>3388</th><td>u1</td><td>Braveheart (1995)                        </td><td>4</td></tr>\n",
       "\t<tr><th scope=row>4255</th><td>u1</td><td>Rob Roy (1995)                           </td><td>5</td></tr>\n",
       "\t<tr><th scope=row>4459</th><td>u1</td><td>Canadian Bacon (1995)                    </td><td>5</td></tr>\n",
       "\t<tr><th scope=row>4723</th><td>u1</td><td>Desperado (1995)                         </td><td>5</td></tr>\n",
       "\t<tr><th scope=row>5854</th><td>u1</td><td>Billy Madison (1995)                     </td><td>5</td></tr>\n",
       "\t<tr><th scope=row>5941</th><td>u1</td><td>Clerks (1994)                            </td><td>3</td></tr>\n",
       "\t<tr><th scope=row>6193</th><td>u1</td><td><span style=white-space:pre-wrap>Dumb &amp; Dumber (Dumb and Dumber) (1994)   </span></td><td>5</td></tr>\n",
       "\t<tr><th scope=row>6369</th><td>u1</td><td>Ed Wood (1994)                           </td><td>4</td></tr>\n",
       "\t<tr><th scope=row>6854</th><td>u1</td><td>Star Wars: Episode IV - A New Hope (1977)</td><td>5</td></tr>\n",
       "\t<tr><th scope=row>7861</th><td>u1</td><td>Pulp Fiction (1994)                      </td><td>3</td></tr>\n",
       "\t<tr><th scope=row>8432</th><td>u1</td><td>Stargate (1994)                          </td><td>3</td></tr>\n",
       "\t<tr><th scope=row>9186</th><td>u1</td><td>Tommy Boy (1995)                         </td><td>5</td></tr>\n",
       "\t<tr><th scope=row>9722</th><td>u1</td><td>Clear and Present Danger (1994)          </td><td>4</td></tr>\n",
       "\t<tr><th scope=row>10020</th><td>u1</td><td>Forrest Gump (1994)                      </td><td>4</td></tr>\n",
       "\t<tr><th scope=row>10487</th><td>u1</td><td>Jungle Book, The (1994)                  </td><td>5</td></tr>\n",
       "\t<tr><th scope=row>10711</th><td>u1</td><td>Mask, The (1994)                         </td><td>4</td></tr>\n",
       "\t<tr><th scope=row>11863</th><td>u1</td><td>Blown Away (1994)                        </td><td>3</td></tr>\n",
       "\t<tr><th scope=row>12291</th><td>u1</td><td>Dazed and Confused (1993)                </td><td>4</td></tr>\n",
       "\t<tr><th scope=row>12608</th><td>u1</td><td>Fugitive, The (1993)                     </td><td>5</td></tr>\n",
       "\t<tr><th scope=row>13086</th><td>u1</td><td>Jurassic Park (1993)                     </td><td>4</td></tr>\n",
       "\t<tr><th scope=row>13568</th><td>u1</td><td>Mrs. Doubtfire (1993)                    </td><td>3</td></tr>\n",
       "\t<tr><th scope=row>14107</th><td>u1</td><td>Schindler's List (1993)                  </td><td>5</td></tr>\n",
       "\t<tr><th scope=row>14746</th><td>u1</td><td>So I Married an Axe Murderer (1993)      </td><td>4</td></tr>\n",
       "\t<tr><th scope=row>⋮</th><td>⋮</td><td>⋮</td><td>⋮</td></tr>\n",
       "\t<tr><th scope=row>99650</th><td>u610</td><td>Close Range (2015)                 </td><td>3.0</td></tr>\n",
       "\t<tr><th scope=row>99711</th><td>u610</td><td>10 Cloverfield Lane (2016)         </td><td>4.0</td></tr>\n",
       "\t<tr><th scope=row>99745</th><td>u610</td><td>Zootopia (2016)                    </td><td>4.0</td></tr>\n",
       "\t<tr><th scope=row>99758</th><td>u610</td><td>Southbound (2016)                  </td><td>3.5</td></tr>\n",
       "\t<tr><th scope=row>99774</th><td>u610</td><td>The Neon Demon (2016)              </td><td>3.5</td></tr>\n",
       "\t<tr><th scope=row>99795</th><td>u610</td><td>Everybody Wants Some (2016)        </td><td>5.0</td></tr>\n",
       "\t<tr><th scope=row>99813</th><td>u610</td><td>Hush (2016)                        </td><td>4.5</td></tr>\n",
       "\t<tr><th scope=row>99836</th><td>u610</td><td>Finding Dory (2016)                </td><td>4.0</td></tr>\n",
       "\t<tr><th scope=row>99869</th><td>u610</td><td>The Nice Guys (2016)               </td><td>5.0</td></tr>\n",
       "\t<tr><th scope=row>99875</th><td>u610</td><td>Gen-X Cops (1999)                  </td><td>3.5</td></tr>\n",
       "\t<tr><th scope=row>99891</th><td>u610</td><td>Sausage Party (2016)               </td><td>3.5</td></tr>\n",
       "\t<tr><th scope=row>99895</th><td>u610</td><td>Kill Command (2016)                </td><td>3.0</td></tr>\n",
       "\t<tr><th scope=row>99917</th><td>u610</td><td>Now You See Me 2 (2016)            </td><td>3.0</td></tr>\n",
       "\t<tr><th scope=row>99951</th><td>u610</td><td>Ghostbusters (2016)                </td><td>3.0</td></tr>\n",
       "\t<tr><th scope=row>99957</th><td>u610</td><td>Bloodmoon (1997)                   </td><td>2.5</td></tr>\n",
       "\t<tr><th scope=row>99970</th><td>u610</td><td>Sympathy for the Underdog (1971)   </td><td>4.5</td></tr>\n",
       "\t<tr><th scope=row>99984</th><td>u610</td><td>Lights Out (2016)                  </td><td>3.0</td></tr>\n",
       "\t<tr><th scope=row>99992</th><td>u610</td><td>Hazard (2005)                      </td><td>3.0</td></tr>\n",
       "\t<tr><th scope=row>100032</th><td>u610</td><td>Hell or High Water (2016)          </td><td>4.0</td></tr>\n",
       "\t<tr><th scope=row>100038</th><td>u610</td><td>Don't Breathe (2016)               </td><td>4.0</td></tr>\n",
       "\t<tr><th scope=row>100051</th><td>u610</td><td>The Magnificent Seven (2016)       </td><td>3.5</td></tr>\n",
       "\t<tr><th scope=row>100097</th><td>u610</td><td>Blair Witch (2016)                 </td><td>3.5</td></tr>\n",
       "\t<tr><th scope=row>100098</th><td>u610</td><td>31 (2016)                          </td><td>3.5</td></tr>\n",
       "\t<tr><th scope=row>100125</th><td>u610</td><td>Arrival (2016)                     </td><td>5.0</td></tr>\n",
       "\t<tr><th scope=row>100227</th><td>u610</td><td>Rogue One: A Star Wars Story (2016)</td><td>4.0</td></tr>\n",
       "\t<tr><th scope=row>100233</th><td>u610</td><td>Split (2017)                       </td><td>4.0</td></tr>\n",
       "\t<tr><th scope=row>100295</th><td>u610</td><td>John Wick: Chapter Two (2017)      </td><td>5.0</td></tr>\n",
       "\t<tr><th scope=row>100310</th><td>u610</td><td>Get Out (2017)                     </td><td>5.0</td></tr>\n",
       "\t<tr><th scope=row>100335</th><td>u610</td><td>Logan (2017)                       </td><td>5.0</td></tr>\n",
       "\t<tr><th scope=row>100412</th><td>u610</td><td>The Fate of the Furious (2017)     </td><td>3.0</td></tr>\n",
       "</tbody>\n",
       "</table>\n"
      ],
      "text/latex": [
       "A data.frame: 100836 × 3\n",
       "\\begin{tabular}{r|lll}\n",
       "  & user & item & rating\\\\\n",
       "  & <chr> & <chr> & <dbl>\\\\\n",
       "\\hline\n",
       "\t1 & u1 & Toy Story (1995)                          & 4\\\\\n",
       "\t326 & u1 & Grumpier Old Men (1995)                   & 4\\\\\n",
       "\t434 & u1 & Heat (1995)                               & 4\\\\\n",
       "\t2108 & u1 & Seven (a.k.a. Se7en) (1995)               & 5\\\\\n",
       "\t2380 & u1 & Usual Suspects, The (1995)                & 5\\\\\n",
       "\t2860 & u1 & From Dusk Till Dawn (1996)                & 3\\\\\n",
       "\t3207 & u1 & Bottle Rocket (1996)                      & 5\\\\\n",
       "\t3388 & u1 & Braveheart (1995)                         & 4\\\\\n",
       "\t4255 & u1 & Rob Roy (1995)                            & 5\\\\\n",
       "\t4459 & u1 & Canadian Bacon (1995)                     & 5\\\\\n",
       "\t4723 & u1 & Desperado (1995)                          & 5\\\\\n",
       "\t5854 & u1 & Billy Madison (1995)                      & 5\\\\\n",
       "\t5941 & u1 & Clerks (1994)                             & 3\\\\\n",
       "\t6193 & u1 & Dumb \\& Dumber (Dumb and Dumber) (1994)    & 5\\\\\n",
       "\t6369 & u1 & Ed Wood (1994)                            & 4\\\\\n",
       "\t6854 & u1 & Star Wars: Episode IV - A New Hope (1977) & 5\\\\\n",
       "\t7861 & u1 & Pulp Fiction (1994)                       & 3\\\\\n",
       "\t8432 & u1 & Stargate (1994)                           & 3\\\\\n",
       "\t9186 & u1 & Tommy Boy (1995)                          & 5\\\\\n",
       "\t9722 & u1 & Clear and Present Danger (1994)           & 4\\\\\n",
       "\t10020 & u1 & Forrest Gump (1994)                       & 4\\\\\n",
       "\t10487 & u1 & Jungle Book, The (1994)                   & 5\\\\\n",
       "\t10711 & u1 & Mask, The (1994)                          & 4\\\\\n",
       "\t11863 & u1 & Blown Away (1994)                         & 3\\\\\n",
       "\t12291 & u1 & Dazed and Confused (1993)                 & 4\\\\\n",
       "\t12608 & u1 & Fugitive, The (1993)                      & 5\\\\\n",
       "\t13086 & u1 & Jurassic Park (1993)                      & 4\\\\\n",
       "\t13568 & u1 & Mrs. Doubtfire (1993)                     & 3\\\\\n",
       "\t14107 & u1 & Schindler's List (1993)                   & 5\\\\\n",
       "\t14746 & u1 & So I Married an Axe Murderer (1993)       & 4\\\\\n",
       "\t⋮ & ⋮ & ⋮ & ⋮\\\\\n",
       "\t99650 & u610 & Close Range (2015)                  & 3.0\\\\\n",
       "\t99711 & u610 & 10 Cloverfield Lane (2016)          & 4.0\\\\\n",
       "\t99745 & u610 & Zootopia (2016)                     & 4.0\\\\\n",
       "\t99758 & u610 & Southbound (2016)                   & 3.5\\\\\n",
       "\t99774 & u610 & The Neon Demon (2016)               & 3.5\\\\\n",
       "\t99795 & u610 & Everybody Wants Some (2016)         & 5.0\\\\\n",
       "\t99813 & u610 & Hush (2016)                         & 4.5\\\\\n",
       "\t99836 & u610 & Finding Dory (2016)                 & 4.0\\\\\n",
       "\t99869 & u610 & The Nice Guys (2016)                & 5.0\\\\\n",
       "\t99875 & u610 & Gen-X Cops (1999)                   & 3.5\\\\\n",
       "\t99891 & u610 & Sausage Party (2016)                & 3.5\\\\\n",
       "\t99895 & u610 & Kill Command (2016)                 & 3.0\\\\\n",
       "\t99917 & u610 & Now You See Me 2 (2016)             & 3.0\\\\\n",
       "\t99951 & u610 & Ghostbusters (2016)                 & 3.0\\\\\n",
       "\t99957 & u610 & Bloodmoon (1997)                    & 2.5\\\\\n",
       "\t99970 & u610 & Sympathy for the Underdog (1971)    & 4.5\\\\\n",
       "\t99984 & u610 & Lights Out (2016)                   & 3.0\\\\\n",
       "\t99992 & u610 & Hazard (2005)                       & 3.0\\\\\n",
       "\t100032 & u610 & Hell or High Water (2016)           & 4.0\\\\\n",
       "\t100038 & u610 & Don't Breathe (2016)                & 4.0\\\\\n",
       "\t100051 & u610 & The Magnificent Seven (2016)        & 3.5\\\\\n",
       "\t100097 & u610 & Blair Witch (2016)                  & 3.5\\\\\n",
       "\t100098 & u610 & 31 (2016)                           & 3.5\\\\\n",
       "\t100125 & u610 & Arrival (2016)                      & 5.0\\\\\n",
       "\t100227 & u610 & Rogue One: A Star Wars Story (2016) & 4.0\\\\\n",
       "\t100233 & u610 & Split (2017)                        & 4.0\\\\\n",
       "\t100295 & u610 & John Wick: Chapter Two (2017)       & 5.0\\\\\n",
       "\t100310 & u610 & Get Out (2017)                      & 5.0\\\\\n",
       "\t100335 & u610 & Logan (2017)                        & 5.0\\\\\n",
       "\t100412 & u610 & The Fate of the Furious (2017)      & 3.0\\\\\n",
       "\\end{tabular}\n"
      ],
      "text/markdown": [
       "\n",
       "A data.frame: 100836 × 3\n",
       "\n",
       "| <!--/--> | user &lt;chr&gt; | item &lt;chr&gt; | rating &lt;dbl&gt; |\n",
       "|---|---|---|---|\n",
       "| 1 | u1 | Toy Story (1995)                          | 4 |\n",
       "| 326 | u1 | Grumpier Old Men (1995)                   | 4 |\n",
       "| 434 | u1 | Heat (1995)                               | 4 |\n",
       "| 2108 | u1 | Seven (a.k.a. Se7en) (1995)               | 5 |\n",
       "| 2380 | u1 | Usual Suspects, The (1995)                | 5 |\n",
       "| 2860 | u1 | From Dusk Till Dawn (1996)                | 3 |\n",
       "| 3207 | u1 | Bottle Rocket (1996)                      | 5 |\n",
       "| 3388 | u1 | Braveheart (1995)                         | 4 |\n",
       "| 4255 | u1 | Rob Roy (1995)                            | 5 |\n",
       "| 4459 | u1 | Canadian Bacon (1995)                     | 5 |\n",
       "| 4723 | u1 | Desperado (1995)                          | 5 |\n",
       "| 5854 | u1 | Billy Madison (1995)                      | 5 |\n",
       "| 5941 | u1 | Clerks (1994)                             | 3 |\n",
       "| 6193 | u1 | Dumb &amp; Dumber (Dumb and Dumber) (1994)    | 5 |\n",
       "| 6369 | u1 | Ed Wood (1994)                            | 4 |\n",
       "| 6854 | u1 | Star Wars: Episode IV - A New Hope (1977) | 5 |\n",
       "| 7861 | u1 | Pulp Fiction (1994)                       | 3 |\n",
       "| 8432 | u1 | Stargate (1994)                           | 3 |\n",
       "| 9186 | u1 | Tommy Boy (1995)                          | 5 |\n",
       "| 9722 | u1 | Clear and Present Danger (1994)           | 4 |\n",
       "| 10020 | u1 | Forrest Gump (1994)                       | 4 |\n",
       "| 10487 | u1 | Jungle Book, The (1994)                   | 5 |\n",
       "| 10711 | u1 | Mask, The (1994)                          | 4 |\n",
       "| 11863 | u1 | Blown Away (1994)                         | 3 |\n",
       "| 12291 | u1 | Dazed and Confused (1993)                 | 4 |\n",
       "| 12608 | u1 | Fugitive, The (1993)                      | 5 |\n",
       "| 13086 | u1 | Jurassic Park (1993)                      | 4 |\n",
       "| 13568 | u1 | Mrs. Doubtfire (1993)                     | 3 |\n",
       "| 14107 | u1 | Schindler's List (1993)                   | 5 |\n",
       "| 14746 | u1 | So I Married an Axe Murderer (1993)       | 4 |\n",
       "| ⋮ | ⋮ | ⋮ | ⋮ |\n",
       "| 99650 | u610 | Close Range (2015)                  | 3.0 |\n",
       "| 99711 | u610 | 10 Cloverfield Lane (2016)          | 4.0 |\n",
       "| 99745 | u610 | Zootopia (2016)                     | 4.0 |\n",
       "| 99758 | u610 | Southbound (2016)                   | 3.5 |\n",
       "| 99774 | u610 | The Neon Demon (2016)               | 3.5 |\n",
       "| 99795 | u610 | Everybody Wants Some (2016)         | 5.0 |\n",
       "| 99813 | u610 | Hush (2016)                         | 4.5 |\n",
       "| 99836 | u610 | Finding Dory (2016)                 | 4.0 |\n",
       "| 99869 | u610 | The Nice Guys (2016)                | 5.0 |\n",
       "| 99875 | u610 | Gen-X Cops (1999)                   | 3.5 |\n",
       "| 99891 | u610 | Sausage Party (2016)                | 3.5 |\n",
       "| 99895 | u610 | Kill Command (2016)                 | 3.0 |\n",
       "| 99917 | u610 | Now You See Me 2 (2016)             | 3.0 |\n",
       "| 99951 | u610 | Ghostbusters (2016)                 | 3.0 |\n",
       "| 99957 | u610 | Bloodmoon (1997)                    | 2.5 |\n",
       "| 99970 | u610 | Sympathy for the Underdog (1971)    | 4.5 |\n",
       "| 99984 | u610 | Lights Out (2016)                   | 3.0 |\n",
       "| 99992 | u610 | Hazard (2005)                       | 3.0 |\n",
       "| 100032 | u610 | Hell or High Water (2016)           | 4.0 |\n",
       "| 100038 | u610 | Don't Breathe (2016)                | 4.0 |\n",
       "| 100051 | u610 | The Magnificent Seven (2016)        | 3.5 |\n",
       "| 100097 | u610 | Blair Witch (2016)                  | 3.5 |\n",
       "| 100098 | u610 | 31 (2016)                           | 3.5 |\n",
       "| 100125 | u610 | Arrival (2016)                      | 5.0 |\n",
       "| 100227 | u610 | Rogue One: A Star Wars Story (2016) | 4.0 |\n",
       "| 100233 | u610 | Split (2017)                        | 4.0 |\n",
       "| 100295 | u610 | John Wick: Chapter Two (2017)       | 5.0 |\n",
       "| 100310 | u610 | Get Out (2017)                      | 5.0 |\n",
       "| 100335 | u610 | Logan (2017)                        | 5.0 |\n",
       "| 100412 | u610 | The Fate of the Furious (2017)      | 3.0 |\n",
       "\n"
      ],
      "text/plain": [
       "       user item                                      rating\n",
       "1      u1   Toy Story (1995)                          4     \n",
       "326    u1   Grumpier Old Men (1995)                   4     \n",
       "434    u1   Heat (1995)                               4     \n",
       "2108   u1   Seven (a.k.a. Se7en) (1995)               5     \n",
       "2380   u1   Usual Suspects, The (1995)                5     \n",
       "2860   u1   From Dusk Till Dawn (1996)                3     \n",
       "3207   u1   Bottle Rocket (1996)                      5     \n",
       "3388   u1   Braveheart (1995)                         4     \n",
       "4255   u1   Rob Roy (1995)                            5     \n",
       "4459   u1   Canadian Bacon (1995)                     5     \n",
       "4723   u1   Desperado (1995)                          5     \n",
       "5854   u1   Billy Madison (1995)                      5     \n",
       "5941   u1   Clerks (1994)                             3     \n",
       "6193   u1   Dumb & Dumber (Dumb and Dumber) (1994)    5     \n",
       "6369   u1   Ed Wood (1994)                            4     \n",
       "6854   u1   Star Wars: Episode IV - A New Hope (1977) 5     \n",
       "7861   u1   Pulp Fiction (1994)                       3     \n",
       "8432   u1   Stargate (1994)                           3     \n",
       "9186   u1   Tommy Boy (1995)                          5     \n",
       "9722   u1   Clear and Present Danger (1994)           4     \n",
       "10020  u1   Forrest Gump (1994)                       4     \n",
       "10487  u1   Jungle Book, The (1994)                   5     \n",
       "10711  u1   Mask, The (1994)                          4     \n",
       "11863  u1   Blown Away (1994)                         3     \n",
       "12291  u1   Dazed and Confused (1993)                 4     \n",
       "12608  u1   Fugitive, The (1993)                      5     \n",
       "13086  u1   Jurassic Park (1993)                      4     \n",
       "13568  u1   Mrs. Doubtfire (1993)                     3     \n",
       "14107  u1   Schindler's List (1993)                   5     \n",
       "14746  u1   So I Married an Axe Murderer (1993)       4     \n",
       "⋮      ⋮    ⋮                                         ⋮     \n",
       "99650  u610 Close Range (2015)                        3.0   \n",
       "99711  u610 10 Cloverfield Lane (2016)                4.0   \n",
       "99745  u610 Zootopia (2016)                           4.0   \n",
       "99758  u610 Southbound (2016)                         3.5   \n",
       "99774  u610 The Neon Demon (2016)                     3.5   \n",
       "99795  u610 Everybody Wants Some (2016)               5.0   \n",
       "99813  u610 Hush (2016)                               4.5   \n",
       "99836  u610 Finding Dory (2016)                       4.0   \n",
       "99869  u610 The Nice Guys (2016)                      5.0   \n",
       "99875  u610 Gen-X Cops (1999)                         3.5   \n",
       "99891  u610 Sausage Party (2016)                      3.5   \n",
       "99895  u610 Kill Command (2016)                       3.0   \n",
       "99917  u610 Now You See Me 2 (2016)                   3.0   \n",
       "99951  u610 Ghostbusters (2016)                       3.0   \n",
       "99957  u610 Bloodmoon (1997)                          2.5   \n",
       "99970  u610 Sympathy for the Underdog (1971)          4.5   \n",
       "99984  u610 Lights Out (2016)                         3.0   \n",
       "99992  u610 Hazard (2005)                             3.0   \n",
       "100032 u610 Hell or High Water (2016)                 4.0   \n",
       "100038 u610 Don't Breathe (2016)                      4.0   \n",
       "100051 u610 The Magnificent Seven (2016)              3.5   \n",
       "100097 u610 Blair Witch (2016)                        3.5   \n",
       "100098 u610 31 (2016)                                 3.5   \n",
       "100125 u610 Arrival (2016)                            5.0   \n",
       "100227 u610 Rogue One: A Star Wars Story (2016)       4.0   \n",
       "100233 u610 Split (2017)                              4.0   \n",
       "100295 u610 John Wick: Chapter Two (2017)             5.0   \n",
       "100310 u610 Get Out (2017)                            5.0   \n",
       "100335 u610 Logan (2017)                              5.0   \n",
       "100412 u610 The Fate of the Furious (2017)            3.0   "
      ]
     },
     "metadata": {},
     "output_type": "display_data"
    },
    {
     "name": "stdout",
     "output_type": "stream",
     "text": [
      "Formal class 'realRatingMatrix' [package \"recommenderlab\"] with 2 slots\n",
      "  ..@ data     :Formal class 'dgCMatrix' [package \"Matrix\"] with 6 slots\n",
      "  .. .. ..@ i       : int [1:100836] 0 4 6 14 16 17 18 20 26 30 ...\n",
      "  .. .. ..@ p       : int [1:9725] 0 215 325 377 384 433 535 589 597 613 ...\n",
      "  .. .. ..@ Dim     : int [1:2] 610 9724\n",
      "  .. .. ..@ Dimnames:List of 2\n",
      "  .. .. .. ..$ user: chr [1:610] \"u1\" \"u2\" \"u3\" \"u4\" ...\n",
      "  .. .. .. ..$ item: chr [1:9724] \"Toy Story (1995)\" \"Jumanji (1995)\" \"Grumpier Old Men (1995)\" \"Waiting to Exhale (1995)\" ...\n",
      "  .. .. ..@ x       : num [1:100836] 4 4 4.5 2.5 4.5 3.5 4 3.5 3 5 ...\n",
      "  .. .. ..@ factors : list()\n",
      "  ..@ normalize: NULL\n"
     ]
    }
   ],
   "source": [
    "# 将 ratingMatrix 转换为 data.frame\n",
    "rating_df <- as(ratingMatrix, \"data.frame\")\n",
    "\n",
    "# 查看前几行数据\n",
    "rating_df\n",
    "str(ratingMatrix)"
   ]
  },
  {
   "cell_type": "code",
   "execution_count": 21,
   "metadata": {
    "vscode": {
     "languageId": "r"
    }
   },
   "outputs": [
    {
     "data": {
      "text/plain": [
       "          Length            Class             Mode \n",
       "               1 realRatingMatrix               S4 "
      ]
     },
     "metadata": {},
     "output_type": "display_data"
    }
   ],
   "source": [
    "summary(ratingMatrix)"
   ]
  },
  {
   "cell_type": "code",
   "execution_count": 11,
   "metadata": {
    "vscode": {
     "languageId": "r"
    }
   },
   "outputs": [
    {
     "data": {
      "text/html": [
       "<strong>$`0`</strong> = <style>\n",
       ".list-inline {list-style: none; margin:0; padding: 0}\n",
       ".list-inline>li {display: inline-block}\n",
       ".list-inline>li:not(:last-child)::after {content: \"\\00b7\"; padding: 0 .5ex}\n",
       "</style>\n",
       "<ol class=list-inline><li>'Bossa Nova (2000)'</li><li>'Maltese Falcon, The (1941)'</li><li>'Michael Clayton (2007)'</li><li>'3-Iron (Bin-jip) (2004)'</li><li>'Battlestar Galactica (2003)'</li><li>'Enemy at the Gates (2001)'</li><li>'Watchmen (2009)'</li><li>'Walk to Remember, A (2002)'</li><li>'Tristan &amp; Isolde (2006)'</li><li>'Atonement (2007)'</li></ol>\n"
      ],
      "text/latex": [
       "\\textbf{\\$`0`} = \\begin{enumerate*}\n",
       "\\item 'Bossa Nova (2000)'\n",
       "\\item 'Maltese Falcon, The (1941)'\n",
       "\\item 'Michael Clayton (2007)'\n",
       "\\item '3-Iron (Bin-jip) (2004)'\n",
       "\\item 'Battlestar Galactica (2003)'\n",
       "\\item 'Enemy at the Gates (2001)'\n",
       "\\item 'Watchmen (2009)'\n",
       "\\item 'Walk to Remember, A (2002)'\n",
       "\\item 'Tristan \\& Isolde (2006)'\n",
       "\\item 'Atonement (2007)'\n",
       "\\end{enumerate*}\n"
      ],
      "text/markdown": [
       "**$`0`** = 1. 'Bossa Nova (2000)'\n",
       "2. 'Maltese Falcon, The (1941)'\n",
       "3. 'Michael Clayton (2007)'\n",
       "4. '3-Iron (Bin-jip) (2004)'\n",
       "5. 'Battlestar Galactica (2003)'\n",
       "6. 'Enemy at the Gates (2001)'\n",
       "7. 'Watchmen (2009)'\n",
       "8. 'Walk to Remember, A (2002)'\n",
       "9. 'Tristan &amp; Isolde (2006)'\n",
       "10. 'Atonement (2007)'\n",
       "\n",
       "\n"
      ],
      "text/plain": [
       "$`0`\n",
       " [1] \"Bossa Nova (2000)\"           \"Maltese Falcon, The (1941)\" \n",
       " [3] \"Michael Clayton (2007)\"      \"3-Iron (Bin-jip) (2004)\"    \n",
       " [5] \"Battlestar Galactica (2003)\" \"Enemy at the Gates (2001)\"  \n",
       " [7] \"Watchmen (2009)\"             \"Walk to Remember, A (2002)\" \n",
       " [9] \"Tristan & Isolde (2006)\"     \"Atonement (2007)\"           \n"
      ]
     },
     "metadata": {},
     "output_type": "display_data"
    }
   ],
   "source": [
    "# UBCF model and prediction \n",
    "recommender <- Recommender(ratingMatrix[-1], method=\"UBCF\") \n",
    "pred <- predict(recommender, ratingMatrix[1]) \n",
    "as(pred, 'list') "
   ]
  },
  {
   "cell_type": "code",
   "execution_count": 12,
   "metadata": {
    "vscode": {
     "languageId": "r"
    }
   },
   "outputs": [
    {
     "data": {
      "text/html": [
       "<strong>$`0`</strong> = <style>\n",
       ".list-inline {list-style: none; margin:0; padding: 0}\n",
       ".list-inline>li {display: inline-block}\n",
       ".list-inline>li:not(:last-child)::after {content: \"\\00b7\"; padding: 0 .5ex}\n",
       "</style>\n",
       "<ol class=list-inline><li>'NeverEnding Story III, The (1994)'</li><li>'Amateur (1994)'</li><li>'Mute Witness (1994)'</li><li>'My Crazy Life (Mi vida loca) (1993)'</li><li>'Miami Rhapsody (1995)'</li><li>'Pushing Hands (Tui shou) (1992)'</li><li>'Suture (1993)'</li><li>'Double Happiness (1994)'</li><li>'Being Human (1993)'</li><li>'Lassie (1994)'</li></ol>\n"
      ],
      "text/latex": [
       "\\textbf{\\$`0`} = \\begin{enumerate*}\n",
       "\\item 'NeverEnding Story III, The (1994)'\n",
       "\\item 'Amateur (1994)'\n",
       "\\item 'Mute Witness (1994)'\n",
       "\\item 'My Crazy Life (Mi vida loca) (1993)'\n",
       "\\item 'Miami Rhapsody (1995)'\n",
       "\\item 'Pushing Hands (Tui shou) (1992)'\n",
       "\\item 'Suture (1993)'\n",
       "\\item 'Double Happiness (1994)'\n",
       "\\item 'Being Human (1993)'\n",
       "\\item 'Lassie (1994)'\n",
       "\\end{enumerate*}\n"
      ],
      "text/markdown": [
       "**$`0`** = 1. 'NeverEnding Story III, The (1994)'\n",
       "2. 'Amateur (1994)'\n",
       "3. 'Mute Witness (1994)'\n",
       "4. 'My Crazy Life (Mi vida loca) (1993)'\n",
       "5. 'Miami Rhapsody (1995)'\n",
       "6. 'Pushing Hands (Tui shou) (1992)'\n",
       "7. 'Suture (1993)'\n",
       "8. 'Double Happiness (1994)'\n",
       "9. 'Being Human (1993)'\n",
       "10. 'Lassie (1994)'\n",
       "\n",
       "\n"
      ],
      "text/plain": [
       "$`0`\n",
       " [1] \"NeverEnding Story III, The (1994)\"   \"Amateur (1994)\"                     \n",
       " [3] \"Mute Witness (1994)\"                 \"My Crazy Life (Mi vida loca) (1993)\"\n",
       " [5] \"Miami Rhapsody (1995)\"               \"Pushing Hands (Tui shou) (1992)\"    \n",
       " [7] \"Suture (1993)\"                       \"Double Happiness (1994)\"            \n",
       " [9] \"Being Human (1993)\"                  \"Lassie (1994)\"                      \n"
      ]
     },
     "metadata": {},
     "output_type": "display_data"
    }
   ],
   "source": [
    "                      \n",
    "# IBCF model and prediction \n",
    "recommender <- Recommender(ratingMatrix[-1], method=\"IBCF\") \n",
    "pred <- predict(recommender, ratingMatrix[1]) \n",
    "as(pred, 'list') "
   ]
  },
  {
   "cell_type": "code",
   "execution_count": 13,
   "metadata": {
    "vscode": {
     "languageId": "r"
    }
   },
   "outputs": [
    {
     "data": {
      "text/html": [
       "<table class=\"dataframe\">\n",
       "<caption>A matrix: 3 × 3 of type dbl</caption>\n",
       "<thead>\n",
       "\t<tr><th></th><th scope=col>RMSE</th><th scope=col>MSE</th><th scope=col>MAE</th></tr>\n",
       "</thead>\n",
       "<tbody>\n",
       "\t<tr><th scope=row>UBCF</th><td>1.155608</td><td>1.335429</td><td>0.8943074</td></tr>\n",
       "\t<tr><th scope=row>IBCF</th><td>1.314356</td><td>1.727531</td><td>1.0543478</td></tr>\n",
       "\t<tr><th scope=row>RANDOM</th><td>1.780208</td><td>3.169139</td><td>1.4539972</td></tr>\n",
       "</tbody>\n",
       "</table>\n"
      ],
      "text/latex": [
       "A matrix: 3 × 3 of type dbl\n",
       "\\begin{tabular}{r|lll}\n",
       "  & RMSE & MSE & MAE\\\\\n",
       "\\hline\n",
       "\tUBCF & 1.155608 & 1.335429 & 0.8943074\\\\\n",
       "\tIBCF & 1.314356 & 1.727531 & 1.0543478\\\\\n",
       "\tRANDOM & 1.780208 & 3.169139 & 1.4539972\\\\\n",
       "\\end{tabular}\n"
      ],
      "text/markdown": [
       "\n",
       "A matrix: 3 × 3 of type dbl\n",
       "\n",
       "| <!--/--> | RMSE | MSE | MAE |\n",
       "|---|---|---|---|\n",
       "| UBCF | 1.155608 | 1.335429 | 0.8943074 |\n",
       "| IBCF | 1.314356 | 1.727531 | 1.0543478 |\n",
       "| RANDOM | 1.780208 | 3.169139 | 1.4539972 |\n",
       "\n"
      ],
      "text/plain": [
       "       RMSE     MSE      MAE      \n",
       "UBCF   1.155608 1.335429 0.8943074\n",
       "IBCF   1.314356 1.727531 1.0543478\n",
       "RANDOM 1.780208 3.169139 1.4539972"
      ]
     },
     "metadata": {},
     "output_type": "display_data"
    }
   ],
   "source": [
    "set.seed(1) \n",
    "e <- evaluationScheme(ratingMatrix, method=\"split\", train=0.9, given=10) \n",
    "\n",
    "r1 <- Recommender(getData(e, \"train\"), \"UBCF\") \n",
    "r2 <- Recommender(getData(e, \"train\"), \"IBCF\") \n",
    "r3 <- Recommender(getData(e, \"train\"), \"RANDOM\") \n",
    "\n",
    "p1 <- predict(r1, getData(e, \"known\"), type=\"ratings\") \n",
    "p2 <- predict(r2, getData(e, \"known\"), type=\"ratings\") \n",
    "p3 <- predict(r3, getData(e, \"known\"), type=\"ratings\") \n",
    "error <- rbind( \n",
    "UBCF = calcPredictionAccuracy(p1, getData(e, \"unknown\")), \n",
    "IBCF = calcPredictionAccuracy(p2, getData(e, \"unknown\")), \n",
    "RANDOM = calcPredictionAccuracy(p3, getData(e, \"unknown\")) \n",
    ") \n",
    "error "
   ]
  },
  {
   "cell_type": "code",
   "execution_count": null,
   "metadata": {
    "vscode": {
     "languageId": "r"
    }
   },
   "outputs": [],
   "source": []
  },
  {
   "cell_type": "code",
   "execution_count": 15,
   "metadata": {
    "vscode": {
     "languageId": "r"
    }
   },
   "outputs": [
    {
     "ename": "ERROR",
     "evalue": "Error in melt(m, varnames = c(\"User\", \"Item\"), value.name = \"Rating\", : could not find function \"melt\"\n",
     "output_type": "error",
     "traceback": [
      "Error in melt(m, varnames = c(\"User\", \"Item\"), value.name = \"Rating\", : could not find function \"melt\"\nTraceback:\n"
     ]
    }
   ],
   "source": [
    "# 生成1000个用户对100部电影的评分矩阵\n",
    "m <- matrix(nrow = 1000, ncol = 100)\n",
    "m[sample.int(1000*100, 1000)] <- ceiling(runif(1000, 0, 5))\n",
    "r <- as(m, \"realRatingMatrix\")\n",
    "# image(r)\n",
    "rating_data <- melt(m, varnames = c(\"User\", \"Item\"), value.name = \"Rating\", na.rm = TRUE)\n",
    "\n",
    "# 绘制热力图\n",
    "# 绘制散点图\n",
    "ggplot(rating_data, aes(x = Item, y = User, color = Rating)) +\n",
    "  geom_point() +\n",
    "  scale_color_gradient(low = \"yellow\", high = \"green\") +\n",
    "  theme_minimal() +\n",
    "  labs(title = \"评分矩阵散点图\", x = \"物品\", y = \"用户\")"
   ]
  },
  {
   "cell_type": "code",
   "execution_count": null,
   "metadata": {
    "vscode": {
     "languageId": "r"
    }
   },
   "outputs": [],
   "source": [
    "# 基于用户的协同过滤\n",
    "UB.Rec <- Recommender(r, method = \"UBCF\")\n",
    "pred <- predict(UB.Rec, r, type=\"ratings\")\n",
    "as(pred, \"matrix\")[1:15, 1:15]"
   ]
  },
  {
   "cell_type": "code",
   "execution_count": null,
   "metadata": {
    "vscode": {
     "languageId": "r"
    }
   },
   "outputs": [],
   "source": [
    "# 基于电影的协同过滤\n",
    "IB.Rec <- Recommender(r, method = \"IBCF\")\n",
    "pred <- predict(IB.Rec, r, type=\"ratings\")\n",
    "as(pred, \"matrix\")[1:15, 1:15]"
   ]
  }
 ],
 "metadata": {
  "kernelspec": {
   "display_name": "R 4.4.1",
   "language": "R",
   "name": "ir"
  },
  "language_info": {
   "codemirror_mode": "r",
   "file_extension": ".r",
   "mimetype": "text/x-r-source",
   "name": "R",
   "pygments_lexer": "r",
   "version": "4.4.1"
  }
 },
 "nbformat": 4,
 "nbformat_minor": 2
}
