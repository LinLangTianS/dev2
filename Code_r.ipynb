{
 "cells": [
  {
   "cell_type": "code",
   "execution_count": 49,
   "metadata": {
    "vscode": {
     "languageId": "r"
    }
   },
   "outputs": [],
   "source": [
    "library(arules)\n",
    "library(ggplot2)\n",
    "library(recommenderlab)"
   ]
  },
  {
   "cell_type": "markdown",
   "metadata": {},
   "source": [
    "# 14.1 关联规则"
   ]
  },
  {
   "cell_type": "markdown",
   "metadata": {},
   "source": [
    "e.g.1:手机保护壳交易数据库中的关联规则"
   ]
  },
  {
   "cell_type": "code",
   "execution_count": 50,
   "metadata": {
    "vscode": {
     "languageId": "r"
    }
   },
   "outputs": [
    {
     "name": "stdout",
     "output_type": "stream",
     "text": [
      "     items                    \n",
      "[1]  {Red, White, Green}      \n",
      "[2]  {White, Orange}          \n",
      "[3]  {White, Blue}            \n",
      "[4]  {Red, White, Orange}     \n",
      "[5]  {Red, Blue}              \n",
      "[6]  {White, Blue}            \n",
      "[7]  {Red, Blue}              \n",
      "[8]  {Red, White, Blue, Green}\n",
      "[9]  {Red, White, Blue}       \n",
      "[10] {Yellow}                 \n"
     ]
    }
   ],
   "source": [
    "fp.df <- read.csv(\"Data/Faceplate.csv\")\n",
    "\n",
    "fp.mat <- as.matrix(fp.df[, -1])\n",
    "fp.trans <- as(fp.mat, \"transactions\")\n",
    "inspect(fp.trans)"
   ]
  },
  {
   "cell_type": "code",
   "execution_count": 51,
   "metadata": {
    "vscode": {
     "languageId": "r"
    }
   },
   "outputs": [
    {
     "name": "stdout",
     "output_type": "stream",
     "text": [
      "Apriori\n",
      "\n",
      "Parameter specification:\n",
      " confidence minval smax arem  aval originalSupport maxtime support minlen\n",
      "        0.5    0.1    1 none FALSE            TRUE       5     0.2      1\n",
      " maxlen target  ext\n",
      "     10  rules TRUE\n",
      "\n",
      "Algorithmic control:\n",
      " filter tree heap memopt load sort verbose\n",
      "    0.1 TRUE TRUE  FALSE TRUE    2    TRUE\n",
      "\n",
      "Absolute minimum support count: 2 \n",
      "\n",
      "set item appearances ...[0 item(s)] done [0.00s].\n",
      "set transactions ...[6 item(s), 10 transaction(s)] done [0.00s].\n",
      "sorting and recoding items ... [5 item(s)] done [0.00s].\n",
      "creating transaction tree ... done [0.00s].\n",
      "checking subsets of size 1 2 3 done [0.00s].\n",
      "writing ... [18 rule(s)] done [0.00s].\n",
      "creating S4 object  ... done [0.00s].\n"
     ]
    },
    {
     "name": "stdout",
     "output_type": "stream",
     "text": [
      "    lhs               rhs     support confidence coverage lift     count\n",
      "[1] {Red, White}   => {Green} 0.2     0.5        0.4      2.500000 2    \n",
      "[2] {Green}        => {Red}   0.2     1.0        0.2      1.666667 2    \n",
      "[3] {White, Green} => {Red}   0.2     1.0        0.2      1.666667 2    \n",
      "[4] {Orange}       => {White} 0.2     1.0        0.2      1.428571 2    \n",
      "[5] {Green}        => {White} 0.2     1.0        0.2      1.428571 2    \n",
      "[6] {Red, Green}   => {White} 0.2     1.0        0.2      1.428571 2    \n"
     ]
    }
   ],
   "source": [
    "rules <- apriori(fp.trans, parameter = list(support = 0.2, confidence = 0.5, target = \"rules\"))\n",
    "inspect(head(sort(rules, by = \"lift\"), n = 6))"
   ]
  },
  {
   "cell_type": "markdown",
   "metadata": {},
   "source": [
    "e.g.2:图书购买交易数据库中的关联规则"
   ]
  },
  {
   "cell_type": "code",
   "execution_count": 52,
   "metadata": {
    "vscode": {
     "languageId": "r"
    }
   },
   "outputs": [
    {
     "name": "stdout",
     "output_type": "stream",
     "text": [
      "     items                                         \n",
      "[1]  {YouthBks, CookBks}                           \n",
      "[2]  {}                                            \n",
      "[3]  {YouthBks, CookBks, RefBks, GeogBks, ItalCook}\n",
      "[4]  {}                                            \n",
      "[5]  {}                                            \n",
      "[6]  {}                                            \n",
      "[7]  {GeogBks}                                     \n",
      "[8]  {}                                            \n",
      "[9]  {}                                            \n",
      "[10] {CookBks}                                     \n",
      "[11] {CookBks}                                     \n",
      "[12] {ArtBks, Florence}                            \n",
      "[13] {Florence}                                    \n",
      "[14] {}                                            \n",
      "[15] {}                                            \n"
     ]
    }
   ],
   "source": [
    "book_df <- read.csv(\"Data/CharlesBookClub.csv\")\n",
    "\n",
    "count_book_df <- book_df[, 8:18]\n",
    "incid_book_df <- ifelse(count_book_df > 0, 1, 0)\n",
    "incid_book_mat <- as.matrix(incid_book_df[, -1])\n",
    "\n",
    "books_trans <- as(incid_book_mat, \"transactions\")\n",
    "inspect(head((books_trans),n = 15))"
   ]
  },
  {
   "cell_type": "code",
   "execution_count": 53,
   "metadata": {
    "vscode": {
     "languageId": "r"
    }
   },
   "outputs": [
    {
     "data": {
      "image/png": "[encoded data removed]",
      "text/plain": [
       "plot without title"
      ]
     },
     "metadata": {
      "image/png": {
       "height": 420,
       "width": 420
      }
     },
     "output_type": "display_data"
    }
   ],
   "source": [
    "item_freq <- itemFrequency(books_trans, type = \"absolute\")\n",
    "item_freq_df <- data.frame(\n",
    "  item = names(item_freq),\n",
    "  frequency = item_freq\n",
    ")\n",
    "\n",
    "ggplot(item_freq_df, aes(x=reorder(item, -frequency), y=frequency, fill=item)) +\n",
    "  geom_bar(stat = \"identity\") + xlab(\"Item\") + ylab(\"Frequency\") + ggtitle(\"Item Frequency Plot\") +\n",
    "  theme(axis.text.x=element_text(angle=90, hjust=1))"
   ]
  },
  {
   "cell_type": "code",
   "execution_count": 54,
   "metadata": {
    "vscode": {
     "languageId": "r"
    }
   },
   "outputs": [
    {
     "name": "stdout",
     "output_type": "stream",
     "text": [
      "Apriori\n",
      "\n",
      "Parameter specification:\n",
      " confidence minval smax arem  aval originalSupport maxtime support minlen\n",
      "        0.5    0.1    1 none FALSE            TRUE       5    0.05      1\n",
      " maxlen target  ext\n",
      "     10  rules TRUE\n",
      "\n",
      "Algorithmic control:\n",
      " filter tree heap memopt load sort verbose\n",
      "    0.1 TRUE TRUE  FALSE TRUE    2    TRUE\n",
      "\n",
      "Absolute minimum support count: 200 \n",
      "\n",
      "set item appearances ...[0 item(s)] done [0.00s].\n",
      "set transactions ...[10 item(s), 4000 transaction(s)] done [0.00s].\n",
      "sorting and recoding items ... [8 item(s)] done [0.00s].\n",
      "creating transaction tree ... done [0.00s].\n",
      "checking subsets of size 1 2 3 4 done [0.00s].\n",
      "writing ... [21 rule(s)] done [0.00s].\n",
      "creating S4 object  ... done [0.00s].\n",
      "    lhs                    rhs        support confidence coverage lift    \n",
      "[1] {DoItYBks, GeogBks} => {YouthBks} 0.05450 0.5396040  0.10100  2.264864\n",
      "[2] {CookBks, GeogBks}  => {YouthBks} 0.08025 0.5136000  0.15625  2.155719\n",
      "[3] {CookBks, RefBks}   => {DoItYBks} 0.07450 0.5330948  0.13975  2.092619\n",
      "[4] {YouthBks, GeogBks} => {DoItYBks} 0.05450 0.5215311  0.10450  2.047227\n",
      "[5] {YouthBks, CookBks} => {DoItYBks} 0.08375 0.5201863  0.16100  2.041948\n",
      "[6] {YouthBks, RefBks}  => {CookBks}  0.06825 0.8400000  0.08125  2.021661\n",
      "    count\n",
      "[1] 218  \n",
      "[2] 321  \n",
      "[3] 298  \n",
      "[4] 218  \n",
      "[5] 335  \n",
      "[6] 273  \n"
     ]
    }
   ],
   "source": [
    "rules <- apriori(books_trans, parameter = list(supp = 200/4000, conf = 0.5, target = \"rules\"))\n",
    "inspect(head(sort(rules, by = \"lift\"), n = 6))"
   ]
  },
  {
   "cell_type": "markdown",
   "metadata": {},
   "source": [
    "# 14.2 协同过滤"
   ]
  },
  {
   "cell_type": "code",
   "execution_count": 55,
   "metadata": {
    "vscode": {
     "languageId": "r"
    }
   },
   "outputs": [
    {
     "data": {
      "image/png": "[encoded data removed]",
      "text/plain": [
       "plot without title"
      ]
     },
     "metadata": {
      "image/png": {
       "height": 420,
       "width": 420
      }
     },
     "output_type": "display_data"
    }
   ],
   "source": [
    "# 生成1000个用户对100部电影的评分矩阵\n",
    "m <- matrix(nrow = 1000, ncol = 100)\n",
    "m[sample.int(1000*100, 1000)] <- ceiling(runif(1000, 0, 5))\n",
    "r <- as(m, \"realRatingMatrix\")\n",
    "# image(r)\n",
    "rating_data <- melt(m, varnames = c(\"User\", \"Item\"), value.name = \"Rating\", na.rm = TRUE)\n",
    "\n",
    "# 绘制热力图\n",
    "# 绘制散点图\n",
    "ggplot(rating_data, aes(x = Item, y = User, color = Rating)) +\n",
    "  geom_point() +\n",
    "  scale_color_gradient(low = \"yellow\", high = \"green\") +\n",
    "  theme_minimal() +\n",
    "  labs(title = \"评分矩阵散点图\", x = \"物品\", y = \"用户\")"
   ]
  },
  {
   "cell_type": "code",
   "execution_count": 56,
   "metadata": {
    "vscode": {
     "languageId": "r"
    }
   },
   "outputs": [
    {
     "data": {
      "text/html": [
       "<table class=\"dataframe\">\n",
       "<caption>A matrix: 15 × 15 of type dbl</caption>\n",
       "<tbody>\n",
       "\t<tr><th scope=row>1</th><td>  NA</td><td>   NA</td><td> NA</td><td>NA</td><td>NA</td><td>NA</td><td>NA</td><td>2.500000</td><td>      NA</td><td>3.75</td><td>NA</td><td>NA</td><td>  NA</td><td>NA</td><td>NA</td></tr>\n",
       "\t<tr><th scope=row>2</th><td>0.75</td><td>   NA</td><td> NA</td><td>NA</td><td>NA</td><td>NA</td><td> 0</td><td>      NA</td><td>      NA</td><td>2.75</td><td>NA</td><td>NA</td><td>  NA</td><td>NA</td><td>NA</td></tr>\n",
       "\t<tr><th scope=row>3</th><td>  NA</td><td>   NA</td><td> NA</td><td>NA</td><td>NA</td><td>NA</td><td>NA</td><td>      NA</td><td>      NA</td><td>  NA</td><td>NA</td><td>NA</td><td>  NA</td><td>NA</td><td>NA</td></tr>\n",
       "\t<tr><th scope=row>4</th><td>  NA</td><td>   NA</td><td> NA</td><td>NA</td><td>NA</td><td>NA</td><td>NA</td><td>      NA</td><td>      NA</td><td>  NA</td><td>NA</td><td>NA</td><td>  NA</td><td>NA</td><td>NA</td></tr>\n",
       "\t<tr><th scope=row>5</th><td>  NA</td><td>   NA</td><td> NA</td><td>NA</td><td>NA</td><td>NA</td><td>NA</td><td>      NA</td><td>      NA</td><td>  NA</td><td>NA</td><td>NA</td><td>  NA</td><td>NA</td><td>NA</td></tr>\n",
       "\t<tr><th scope=row>6</th><td>  NA</td><td>   NA</td><td> NA</td><td>NA</td><td>NA</td><td>NA</td><td>NA</td><td>      NA</td><td>      NA</td><td>  NA</td><td>NA</td><td>NA</td><td>  NA</td><td>NA</td><td>NA</td></tr>\n",
       "\t<tr><th scope=row>7</th><td>  NA</td><td> 1.00</td><td> NA</td><td>NA</td><td>NA</td><td>NA</td><td>NA</td><td>0.500000</td><td>      NA</td><td>  NA</td><td>NA</td><td>NA</td><td>  NA</td><td>NA</td><td>NA</td></tr>\n",
       "\t<tr><th scope=row>8</th><td>  NA</td><td>   NA</td><td> NA</td><td>NA</td><td>NA</td><td>NA</td><td>NA</td><td>      NA</td><td>      NA</td><td>  NA</td><td>NA</td><td>NA</td><td>  NA</td><td>NA</td><td>NA</td></tr>\n",
       "\t<tr><th scope=row>9</th><td>  NA</td><td> 4.75</td><td> NA</td><td> 4</td><td>NA</td><td>NA</td><td>NA</td><td>      NA</td><td>      NA</td><td>3.75</td><td>NA</td><td>NA</td><td>  NA</td><td>NA</td><td>NA</td></tr>\n",
       "\t<tr><th scope=row>10</th><td>  NA</td><td>   NA</td><td> NA</td><td>NA</td><td>NA</td><td>NA</td><td>NA</td><td>      NA</td><td>      NA</td><td>  NA</td><td>NA</td><td>NA</td><td>  NA</td><td>NA</td><td>NA</td></tr>\n",
       "\t<tr><th scope=row>11</th><td>  NA</td><td>   NA</td><td> NA</td><td>NA</td><td>NA</td><td>NA</td><td>NA</td><td>      NA</td><td>      NA</td><td>  NA</td><td>NA</td><td>NA</td><td>  NA</td><td>NA</td><td>NA</td></tr>\n",
       "\t<tr><th scope=row>12</th><td>  NA</td><td>-0.25</td><td> NA</td><td>NA</td><td>NA</td><td>NA</td><td>NA</td><td>      NA</td><td>      NA</td><td>  NA</td><td>NA</td><td>NA</td><td>-0.5</td><td>NA</td><td>NA</td></tr>\n",
       "\t<tr><th scope=row>13</th><td>  NA</td><td>   NA</td><td> NA</td><td>NA</td><td>NA</td><td>NA</td><td>NA</td><td>      NA</td><td>      NA</td><td>  NA</td><td>NA</td><td>NA</td><td>  NA</td><td>NA</td><td>NA</td></tr>\n",
       "\t<tr><th scope=row>14</th><td>  NA</td><td>   NA</td><td>5.5</td><td>NA</td><td>NA</td><td>NA</td><td>NA</td><td>      NA</td><td>      NA</td><td>  NA</td><td>NA</td><td>NA</td><td>  NA</td><td>NA</td><td>NA</td></tr>\n",
       "\t<tr><th scope=row>15</th><td>  NA</td><td>   NA</td><td> NA</td><td>NA</td><td>NA</td><td>NA</td><td>NA</td><td>6.583333</td><td>4.333333</td><td>  NA</td><td>NA</td><td>NA</td><td>  NA</td><td>NA</td><td>NA</td></tr>\n",
       "</tbody>\n",
       "</table>\n"
      ],
      "text/latex": [
       "A matrix: 15 × 15 of type dbl\n",
       "\\begin{tabular}{r|lllllllllllllll}\n",
       "\t1 &   NA &    NA &  NA & NA & NA & NA & NA & 2.500000 &       NA & 3.75 & NA & NA &   NA & NA & NA\\\\\n",
       "\t2 & 0.75 &    NA &  NA & NA & NA & NA &  0 &       NA &       NA & 2.75 & NA & NA &   NA & NA & NA\\\\\n",
       "\t3 &   NA &    NA &  NA & NA & NA & NA & NA &       NA &       NA &   NA & NA & NA &   NA & NA & NA\\\\\n",
       "\t4 &   NA &    NA &  NA & NA & NA & NA & NA &       NA &       NA &   NA & NA & NA &   NA & NA & NA\\\\\n",
       "\t5 &   NA &    NA &  NA & NA & NA & NA & NA &       NA &       NA &   NA & NA & NA &   NA & NA & NA\\\\\n",
       "\t6 &   NA &    NA &  NA & NA & NA & NA & NA &       NA &       NA &   NA & NA & NA &   NA & NA & NA\\\\\n",
       "\t7 &   NA &  1.00 &  NA & NA & NA & NA & NA & 0.500000 &       NA &   NA & NA & NA &   NA & NA & NA\\\\\n",
       "\t8 &   NA &    NA &  NA & NA & NA & NA & NA &       NA &       NA &   NA & NA & NA &   NA & NA & NA\\\\\n",
       "\t9 &   NA &  4.75 &  NA &  4 & NA & NA & NA &       NA &       NA & 3.75 & NA & NA &   NA & NA & NA\\\\\n",
       "\t10 &   NA &    NA &  NA & NA & NA & NA & NA &       NA &       NA &   NA & NA & NA &   NA & NA & NA\\\\\n",
       "\t11 &   NA &    NA &  NA & NA & NA & NA & NA &       NA &       NA &   NA & NA & NA &   NA & NA & NA\\\\\n",
       "\t12 &   NA & -0.25 &  NA & NA & NA & NA & NA &       NA &       NA &   NA & NA & NA & -0.5 & NA & NA\\\\\n",
       "\t13 &   NA &    NA &  NA & NA & NA & NA & NA &       NA &       NA &   NA & NA & NA &   NA & NA & NA\\\\\n",
       "\t14 &   NA &    NA & 5.5 & NA & NA & NA & NA &       NA &       NA &   NA & NA & NA &   NA & NA & NA\\\\\n",
       "\t15 &   NA &    NA &  NA & NA & NA & NA & NA & 6.583333 & 4.333333 &   NA & NA & NA &   NA & NA & NA\\\\\n",
       "\\end{tabular}\n"
      ],
      "text/markdown": [
       "\n",
       "A matrix: 15 × 15 of type dbl\n",
       "\n",
       "| 1 |   NA |    NA |  NA | NA | NA | NA | NA | 2.500000 |       NA | 3.75 | NA | NA |   NA | NA | NA |\n",
       "| 2 | 0.75 |    NA |  NA | NA | NA | NA |  0 |       NA |       NA | 2.75 | NA | NA |   NA | NA | NA |\n",
       "| 3 |   NA |    NA |  NA | NA | NA | NA | NA |       NA |       NA |   NA | NA | NA |   NA | NA | NA |\n",
       "| 4 |   NA |    NA |  NA | NA | NA | NA | NA |       NA |       NA |   NA | NA | NA |   NA | NA | NA |\n",
       "| 5 |   NA |    NA |  NA | NA | NA | NA | NA |       NA |       NA |   NA | NA | NA |   NA | NA | NA |\n",
       "| 6 |   NA |    NA |  NA | NA | NA | NA | NA |       NA |       NA |   NA | NA | NA |   NA | NA | NA |\n",
       "| 7 |   NA |  1.00 |  NA | NA | NA | NA | NA | 0.500000 |       NA |   NA | NA | NA |   NA | NA | NA |\n",
       "| 8 |   NA |    NA |  NA | NA | NA | NA | NA |       NA |       NA |   NA | NA | NA |   NA | NA | NA |\n",
       "| 9 |   NA |  4.75 |  NA |  4 | NA | NA | NA |       NA |       NA | 3.75 | NA | NA |   NA | NA | NA |\n",
       "| 10 |   NA |    NA |  NA | NA | NA | NA | NA |       NA |       NA |   NA | NA | NA |   NA | NA | NA |\n",
       "| 11 |   NA |    NA |  NA | NA | NA | NA | NA |       NA |       NA |   NA | NA | NA |   NA | NA | NA |\n",
       "| 12 |   NA | -0.25 |  NA | NA | NA | NA | NA |       NA |       NA |   NA | NA | NA | -0.5 | NA | NA |\n",
       "| 13 |   NA |    NA |  NA | NA | NA | NA | NA |       NA |       NA |   NA | NA | NA |   NA | NA | NA |\n",
       "| 14 |   NA |    NA | 5.5 | NA | NA | NA | NA |       NA |       NA |   NA | NA | NA |   NA | NA | NA |\n",
       "| 15 |   NA |    NA |  NA | NA | NA | NA | NA | 6.583333 | 4.333333 |   NA | NA | NA |   NA | NA | NA |\n",
       "\n"
      ],
      "text/plain": [
       "   [,1] [,2]  [,3] [,4] [,5] [,6] [,7] [,8]     [,9]     [,10] [,11] [,12]\n",
       "1    NA    NA  NA  NA   NA   NA   NA   2.500000       NA 3.75  NA    NA   \n",
       "2  0.75    NA  NA  NA   NA   NA    0         NA       NA 2.75  NA    NA   \n",
       "3    NA    NA  NA  NA   NA   NA   NA         NA       NA   NA  NA    NA   \n",
       "4    NA    NA  NA  NA   NA   NA   NA         NA       NA   NA  NA    NA   \n",
       "5    NA    NA  NA  NA   NA   NA   NA         NA       NA   NA  NA    NA   \n",
       "6    NA    NA  NA  NA   NA   NA   NA         NA       NA   NA  NA    NA   \n",
       "7    NA  1.00  NA  NA   NA   NA   NA   0.500000       NA   NA  NA    NA   \n",
       "8    NA    NA  NA  NA   NA   NA   NA         NA       NA   NA  NA    NA   \n",
       "9    NA  4.75  NA   4   NA   NA   NA         NA       NA 3.75  NA    NA   \n",
       "10   NA    NA  NA  NA   NA   NA   NA         NA       NA   NA  NA    NA   \n",
       "11   NA    NA  NA  NA   NA   NA   NA         NA       NA   NA  NA    NA   \n",
       "12   NA -0.25  NA  NA   NA   NA   NA         NA       NA   NA  NA    NA   \n",
       "13   NA    NA  NA  NA   NA   NA   NA         NA       NA   NA  NA    NA   \n",
       "14   NA    NA 5.5  NA   NA   NA   NA         NA       NA   NA  NA    NA   \n",
       "15   NA    NA  NA  NA   NA   NA   NA   6.583333 4.333333   NA  NA    NA   \n",
       "   [,13] [,14] [,15]\n",
       "1    NA  NA    NA   \n",
       "2    NA  NA    NA   \n",
       "3    NA  NA    NA   \n",
       "4    NA  NA    NA   \n",
       "5    NA  NA    NA   \n",
       "6    NA  NA    NA   \n",
       "7    NA  NA    NA   \n",
       "8    NA  NA    NA   \n",
       "9    NA  NA    NA   \n",
       "10   NA  NA    NA   \n",
       "11   NA  NA    NA   \n",
       "12 -0.5  NA    NA   \n",
       "13   NA  NA    NA   \n",
       "14   NA  NA    NA   \n",
       "15   NA  NA    NA   "
      ]
     },
     "metadata": {},
     "output_type": "display_data"
    }
   ],
   "source": [
    "# 基于用户的协同过滤\n",
    "UB.Rec <- Recommender(r, method = \"UBCF\")\n",
    "pred <- predict(UB.Rec, r, type=\"ratings\")\n",
    "as(pred, \"matrix\")[1:15, 1:15]"
   ]
  },
  {
   "cell_type": "code",
   "execution_count": 57,
   "metadata": {
    "vscode": {
     "languageId": "r"
    }
   },
   "outputs": [
    {
     "data": {
      "text/html": [
       "<table class=\"dataframe\">\n",
       "<caption>A matrix: 15 × 15 of type dbl</caption>\n",
       "<thead>\n",
       "\t<tr><th scope=col>1</th><th scope=col>2</th><th scope=col>3</th><th scope=col>4</th><th scope=col>5</th><th scope=col>6</th><th scope=col>7</th><th scope=col>8</th><th scope=col>9</th><th scope=col>10</th><th scope=col>11</th><th scope=col>12</th><th scope=col>13</th><th scope=col>14</th><th scope=col>15</th></tr>\n",
       "</thead>\n",
       "<tbody>\n",
       "\t<tr><td>NA</td><td>NA</td><td>NA</td><td>NA</td><td>NA</td><td>NA</td><td>NA</td><td> 3</td><td>NA</td><td> 3</td><td>NA</td><td>NA</td><td>NA</td><td>NA</td><td>NA</td></tr>\n",
       "\t<tr><td> 2</td><td>NA</td><td>NA</td><td>NA</td><td>NA</td><td>NA</td><td> 2</td><td>NA</td><td>NA</td><td> 2</td><td>NA</td><td>NA</td><td>NA</td><td>NA</td><td>NA</td></tr>\n",
       "\t<tr><td>NA</td><td>NA</td><td>NA</td><td>NA</td><td>NA</td><td>NA</td><td>NA</td><td>NA</td><td>NA</td><td>NA</td><td>NA</td><td>NA</td><td>NA</td><td>NA</td><td>NA</td></tr>\n",
       "\t<tr><td>NA</td><td>NA</td><td>NA</td><td>NA</td><td>NA</td><td>NA</td><td>NA</td><td>NA</td><td>NA</td><td>NA</td><td>NA</td><td>NA</td><td>NA</td><td>NA</td><td>NA</td></tr>\n",
       "\t<tr><td>NA</td><td>NA</td><td>NA</td><td>NA</td><td>NA</td><td>NA</td><td>NA</td><td>NA</td><td>NA</td><td>NA</td><td>NA</td><td>NA</td><td>NA</td><td>NA</td><td>NA</td></tr>\n",
       "\t<tr><td>NA</td><td>NA</td><td>NA</td><td>NA</td><td>NA</td><td>NA</td><td> 4</td><td>NA</td><td>NA</td><td>NA</td><td>NA</td><td>NA</td><td>NA</td><td>NA</td><td>NA</td></tr>\n",
       "\t<tr><td> 1</td><td> 1</td><td>NA</td><td>NA</td><td>NA</td><td>NA</td><td>NA</td><td> 2</td><td>NA</td><td>NA</td><td>NA</td><td>NA</td><td>NA</td><td>NA</td><td>NA</td></tr>\n",
       "\t<tr><td>NA</td><td>NA</td><td>NA</td><td>NA</td><td>NA</td><td>NA</td><td>NA</td><td>NA</td><td>NA</td><td>NA</td><td>NA</td><td>NA</td><td>NA</td><td>NA</td><td>NA</td></tr>\n",
       "\t<tr><td>NA</td><td> 3</td><td>NA</td><td> 3</td><td>NA</td><td>NA</td><td>NA</td><td>NA</td><td>NA</td><td> 3</td><td>NA</td><td>NA</td><td>NA</td><td>NA</td><td>NA</td></tr>\n",
       "\t<tr><td>NA</td><td>NA</td><td>NA</td><td>NA</td><td>NA</td><td>NA</td><td>NA</td><td>NA</td><td>NA</td><td>NA</td><td>NA</td><td>NA</td><td>NA</td><td>NA</td><td>NA</td></tr>\n",
       "\t<tr><td>NA</td><td>NA</td><td>NA</td><td>NA</td><td>NA</td><td>NA</td><td>NA</td><td>NA</td><td>NA</td><td>NA</td><td>NA</td><td>NA</td><td>NA</td><td>NA</td><td>NA</td></tr>\n",
       "\t<tr><td>NA</td><td> 1</td><td>NA</td><td>NA</td><td>NA</td><td>NA</td><td>NA</td><td>NA</td><td>NA</td><td>NA</td><td>NA</td><td>NA</td><td> 1</td><td>NA</td><td>NA</td></tr>\n",
       "\t<tr><td>NA</td><td>NA</td><td>NA</td><td>NA</td><td>NA</td><td>NA</td><td>NA</td><td>NA</td><td>NA</td><td>NA</td><td>NA</td><td>NA</td><td>NA</td><td>NA</td><td>NA</td></tr>\n",
       "\t<tr><td>NA</td><td>NA</td><td> 4</td><td>NA</td><td>NA</td><td>NA</td><td>NA</td><td>NA</td><td>NA</td><td>NA</td><td>NA</td><td>NA</td><td>NA</td><td>NA</td><td>NA</td></tr>\n",
       "\t<tr><td> 5</td><td>NA</td><td>NA</td><td>NA</td><td>NA</td><td>NA</td><td>NA</td><td> 4</td><td> 4</td><td>NA</td><td>NA</td><td>NA</td><td>NA</td><td>NA</td><td>NA</td></tr>\n",
       "</tbody>\n",
       "</table>\n"
      ],
      "text/latex": [
       "A matrix: 15 × 15 of type dbl\n",
       "\\begin{tabular}{lllllllllllllll}\n",
       " 1 & 2 & 3 & 4 & 5 & 6 & 7 & 8 & 9 & 10 & 11 & 12 & 13 & 14 & 15\\\\\n",
       "\\hline\n",
       "\t NA & NA & NA & NA & NA & NA & NA &  3 & NA &  3 & NA & NA & NA & NA & NA\\\\\n",
       "\t  2 & NA & NA & NA & NA & NA &  2 & NA & NA &  2 & NA & NA & NA & NA & NA\\\\\n",
       "\t NA & NA & NA & NA & NA & NA & NA & NA & NA & NA & NA & NA & NA & NA & NA\\\\\n",
       "\t NA & NA & NA & NA & NA & NA & NA & NA & NA & NA & NA & NA & NA & NA & NA\\\\\n",
       "\t NA & NA & NA & NA & NA & NA & NA & NA & NA & NA & NA & NA & NA & NA & NA\\\\\n",
       "\t NA & NA & NA & NA & NA & NA &  4 & NA & NA & NA & NA & NA & NA & NA & NA\\\\\n",
       "\t  1 &  1 & NA & NA & NA & NA & NA &  2 & NA & NA & NA & NA & NA & NA & NA\\\\\n",
       "\t NA & NA & NA & NA & NA & NA & NA & NA & NA & NA & NA & NA & NA & NA & NA\\\\\n",
       "\t NA &  3 & NA &  3 & NA & NA & NA & NA & NA &  3 & NA & NA & NA & NA & NA\\\\\n",
       "\t NA & NA & NA & NA & NA & NA & NA & NA & NA & NA & NA & NA & NA & NA & NA\\\\\n",
       "\t NA & NA & NA & NA & NA & NA & NA & NA & NA & NA & NA & NA & NA & NA & NA\\\\\n",
       "\t NA &  1 & NA & NA & NA & NA & NA & NA & NA & NA & NA & NA &  1 & NA & NA\\\\\n",
       "\t NA & NA & NA & NA & NA & NA & NA & NA & NA & NA & NA & NA & NA & NA & NA\\\\\n",
       "\t NA & NA &  4 & NA & NA & NA & NA & NA & NA & NA & NA & NA & NA & NA & NA\\\\\n",
       "\t  5 & NA & NA & NA & NA & NA & NA &  4 &  4 & NA & NA & NA & NA & NA & NA\\\\\n",
       "\\end{tabular}\n"
      ],
      "text/markdown": [
       "\n",
       "A matrix: 15 × 15 of type dbl\n",
       "\n",
       "| 1 | 2 | 3 | 4 | 5 | 6 | 7 | 8 | 9 | 10 | 11 | 12 | 13 | 14 | 15 |\n",
       "|---|---|---|---|---|---|---|---|---|---|---|---|---|---|---|\n",
       "| NA | NA | NA | NA | NA | NA | NA |  3 | NA |  3 | NA | NA | NA | NA | NA |\n",
       "|  2 | NA | NA | NA | NA | NA |  2 | NA | NA |  2 | NA | NA | NA | NA | NA |\n",
       "| NA | NA | NA | NA | NA | NA | NA | NA | NA | NA | NA | NA | NA | NA | NA |\n",
       "| NA | NA | NA | NA | NA | NA | NA | NA | NA | NA | NA | NA | NA | NA | NA |\n",
       "| NA | NA | NA | NA | NA | NA | NA | NA | NA | NA | NA | NA | NA | NA | NA |\n",
       "| NA | NA | NA | NA | NA | NA |  4 | NA | NA | NA | NA | NA | NA | NA | NA |\n",
       "|  1 |  1 | NA | NA | NA | NA | NA |  2 | NA | NA | NA | NA | NA | NA | NA |\n",
       "| NA | NA | NA | NA | NA | NA | NA | NA | NA | NA | NA | NA | NA | NA | NA |\n",
       "| NA |  3 | NA |  3 | NA | NA | NA | NA | NA |  3 | NA | NA | NA | NA | NA |\n",
       "| NA | NA | NA | NA | NA | NA | NA | NA | NA | NA | NA | NA | NA | NA | NA |\n",
       "| NA | NA | NA | NA | NA | NA | NA | NA | NA | NA | NA | NA | NA | NA | NA |\n",
       "| NA |  1 | NA | NA | NA | NA | NA | NA | NA | NA | NA | NA |  1 | NA | NA |\n",
       "| NA | NA | NA | NA | NA | NA | NA | NA | NA | NA | NA | NA | NA | NA | NA |\n",
       "| NA | NA |  4 | NA | NA | NA | NA | NA | NA | NA | NA | NA | NA | NA | NA |\n",
       "|  5 | NA | NA | NA | NA | NA | NA |  4 |  4 | NA | NA | NA | NA | NA | NA |\n",
       "\n"
      ],
      "text/plain": [
       "      1  2  3  4  5  6  7  8  9  10 11 12 13 14 15\n",
       " [1,] NA NA NA NA NA NA NA  3 NA  3 NA NA NA NA NA\n",
       " [2,]  2 NA NA NA NA NA  2 NA NA  2 NA NA NA NA NA\n",
       " [3,] NA NA NA NA NA NA NA NA NA NA NA NA NA NA NA\n",
       " [4,] NA NA NA NA NA NA NA NA NA NA NA NA NA NA NA\n",
       " [5,] NA NA NA NA NA NA NA NA NA NA NA NA NA NA NA\n",
       " [6,] NA NA NA NA NA NA  4 NA NA NA NA NA NA NA NA\n",
       " [7,]  1  1 NA NA NA NA NA  2 NA NA NA NA NA NA NA\n",
       " [8,] NA NA NA NA NA NA NA NA NA NA NA NA NA NA NA\n",
       " [9,] NA  3 NA  3 NA NA NA NA NA  3 NA NA NA NA NA\n",
       "[10,] NA NA NA NA NA NA NA NA NA NA NA NA NA NA NA\n",
       "[11,] NA NA NA NA NA NA NA NA NA NA NA NA NA NA NA\n",
       "[12,] NA  1 NA NA NA NA NA NA NA NA NA NA  1 NA NA\n",
       "[13,] NA NA NA NA NA NA NA NA NA NA NA NA NA NA NA\n",
       "[14,] NA NA  4 NA NA NA NA NA NA NA NA NA NA NA NA\n",
       "[15,]  5 NA NA NA NA NA NA  4  4 NA NA NA NA NA NA"
      ]
     },
     "metadata": {},
     "output_type": "display_data"
    }
   ],
   "source": [
    "# 基于电影的协同过滤\n",
    "IB.Rec <- Recommender(r, method = \"IBCF\")\n",
    "pred <- predict(IB.Rec, r, type=\"ratings\")\n",
    "as(pred, \"matrix\")[1:15, 1:15]"
   ]
  }
 ],
 "metadata": {
  "kernelspec": {
   "display_name": "R 4.4.1",
   "language": "R",
   "name": "ir"
  },
  "language_info": {
   "codemirror_mode": "r",
   "file_extension": ".r",
   "mimetype": "text/x-r-source",
   "name": "R",
   "pygments_lexer": "r",
   "version": "4.4.1"
  }
 },
 "nbformat": 4,
 "nbformat_minor": 2
}
