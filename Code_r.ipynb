{
 "cells": [
  {
   "cell_type": "code",
   "execution_count": 2,
   "metadata": {
    "vscode": {
     "languageId": "r"
    }
   },
   "outputs": [
    {
     "name": "stderr",
     "output_type": "stream",
     "text": [
      "Loading required package: proxy\n",
      "\n",
      "\n",
      "Attaching package: 'proxy'\n",
      "\n",
      "\n",
      "The following object is masked from 'package:Matrix':\n",
      "\n",
      "    as.matrix\n",
      "\n",
      "\n",
      "The following objects are masked from 'package:stats':\n",
      "\n",
      "    as.dist, dist\n",
      "\n",
      "\n",
      "The following object is masked from 'package:base':\n",
      "\n",
      "    as.matrix\n",
      "\n",
      "\n",
      "Registered S3 methods overwritten by 'registry':\n",
      "  method               from \n",
      "  print.registry_field proxy\n",
      "  print.registry_entry proxy\n",
      "\n"
     ]
    }
   ],
   "source": [
    "library(arules)\n",
    "library(ggplot2)\n",
    "library(recommenderlab)"
   ]
  },
  {
   "cell_type": "markdown",
   "metadata": {},
   "source": [
    "# 14.1 关联规则"
   ]
  },
  {
   "cell_type": "markdown",
   "metadata": {},
   "source": [
    "e.g.1:手机保护壳交易数据库中的关联规则"
   ]
  },
  {
   "cell_type": "code",
   "execution_count": 3,
   "metadata": {
    "vscode": {
     "languageId": "r"
    }
   },
   "outputs": [
    {
     "name": "stdout",
     "output_type": "stream",
     "text": [
      "     items                    \n",
      "[1]  {Red, White, Green}      \n",
      "[2]  {White, Orange}          \n",
      "[3]  {White, Blue}            \n",
      "[4]  {Red, White, Orange}     \n",
      "[5]  {Red, Blue}              \n",
      "[6]  {White, Blue}            \n",
      "[7]  {Red, Blue}              \n",
      "[8]  {Red, White, Blue, Green}\n",
      "[9]  {Red, White, Blue}       \n",
      "[10] {Yellow}                 \n"
     ]
    }
   ],
   "source": [
    "fp.df <- read.csv(\"Data/Faceplate.csv\")\n",
    "\n",
    "fp.mat <- as.matrix(fp.df[, -1])\n",
    "fp.trans <- as(fp.mat, \"transactions\")\n",
    "inspect(fp.trans)"
   ]
  },
  {
   "cell_type": "code",
   "execution_count": 4,
   "metadata": {
    "vscode": {
     "languageId": "r"
    }
   },
   "outputs": [
    {
     "name": "stdout",
     "output_type": "stream",
     "text": [
      "Apriori\n",
      "\n",
      "Parameter specification:\n",
      " confidence minval smax arem  aval originalSupport maxtime support minlen\n",
      "        0.5    0.1    1 none FALSE            TRUE       5     0.2      1\n",
      " maxlen target  ext\n",
      "     10  rules TRUE\n",
      "\n",
      "Algorithmic control:\n",
      " filter tree heap memopt load sort verbose\n",
      "    0.1 TRUE TRUE  FALSE TRUE    2    TRUE\n",
      "\n",
      "Absolute minimum support count: 2 \n",
      "\n",
      "set item appearances ...[0 item(s)] done [0.00s].\n",
      "set transactions ...[6 item(s), 10 transaction(s)] done [0.00s].\n",
      "sorting and recoding items ... [5 item(s)] done [0.00s].\n",
      "creating transaction tree ... done [0.00s].\n",
      "checking subsets of size 1 2 3 done [0.00s].\n",
      "writing ... [18 rule(s)] done [0.00s].\n",
      "creating S4 object  ... done [0.00s].\n",
      "    lhs               rhs     support confidence coverage lift     count\n",
      "[1] {Red, White}   => {Green} 0.2     0.5        0.4      2.500000 2    \n",
      "[2] {Green}        => {Red}   0.2     1.0        0.2      1.666667 2    \n",
      "[3] {White, Green} => {Red}   0.2     1.0        0.2      1.666667 2    \n",
      "[4] {Orange}       => {White} 0.2     1.0        0.2      1.428571 2    \n",
      "[5] {Green}        => {White} 0.2     1.0        0.2      1.428571 2    \n",
      "[6] {Red, Green}   => {White} 0.2     1.0        0.2      1.428571 2    \n"
     ]
    }
   ],
   "source": [
    "rules <- apriori(fp.trans, parameter = list(support = 0.2, confidence = 0.5, target = \"rules\"))\n",
    "inspect(head(sort(rules, by = \"lift\"), n = 6))"
   ]
  },
  {
   "cell_type": "markdown",
   "metadata": {},
   "source": [
    "e.g.2:图书购买交易数据库中的关联规则"
   ]
  },
  {
   "cell_type": "code",
   "execution_count": 5,
   "metadata": {
    "vscode": {
     "languageId": "r"
    }
   },
   "outputs": [
    {
     "name": "stdout",
     "output_type": "stream",
     "text": [
      "     items                                         \n",
      "[1]  {YouthBks, CookBks}                           \n",
      "[2]  {}                                            \n",
      "[3]  {YouthBks, CookBks, RefBks, GeogBks, ItalCook}\n",
      "[4]  {}                                            \n",
      "[5]  {}                                            \n",
      "[6]  {}                                            \n",
      "[7]  {GeogBks}                                     \n",
      "[8]  {}                                            \n",
      "[9]  {}                                            \n",
      "[10] {CookBks}                                     \n",
      "[11] {CookBks}                                     \n",
      "[12] {ArtBks, Florence}                            \n",
      "[13] {Florence}                                    \n",
      "[14] {}                                            \n",
      "[15] {}                                            \n"
     ]
    }
   ],
   "source": [
    "book_df <- read.csv(\"Data/CharlesBookClub.csv\")\n",
    "\n",
    "count_book_df <- book_df[, 8:18]\n",
    "incid_book_df <- ifelse(count_book_df > 0, 1, 0)\n",
    "incid_book_mat <- as.matrix(incid_book_df[, -1])\n",
    "\n",
    "books_trans <- as(incid_book_mat, \"transactions\")\n",
    "inspect(head((books_trans),n = 15))"
   ]
  },
  {
   "cell_type": "code",
   "execution_count": 6,
   "metadata": {
    "vscode": {
     "languageId": "r"
    }
   },
   "outputs": [
    {
     "data": {
      "image/png": "[encoded data removed]",
      "text/plain": [
       "plot without title"
      ]
     },
     "metadata": {
      "image/png": {
       "height": 420,
       "width": 420
      }
     },
     "output_type": "display_data"
    }
   ],
   "source": [
    "item_freq <- itemFrequency(books_trans, type = \"absolute\")\n",
    "item_freq_df <- data.frame(\n",
    "  item = names(item_freq),\n",
    "  frequency = item_freq\n",
    ")\n",
    "\n",
    "ggplot(item_freq_df, aes(x = reorder(item, -frequency), y = frequency)) +\n",
    "  geom_bar(stat = \"identity\") +xlab(\"Item\") +ylab(\"Frequency\") +ggtitle(\"Item Frequency Plot\") +\n",
    "  theme(axis.text.x = element_text(angle = 90, hjust = 1))"
   ]
  },
  {
   "cell_type": "code",
   "execution_count": 7,
   "metadata": {
    "vscode": {
     "languageId": "r"
    }
   },
   "outputs": [
    {
     "name": "stdout",
     "output_type": "stream",
     "text": [
      "Apriori\n",
      "\n",
      "Parameter specification:\n",
      " confidence minval smax arem  aval originalSupport maxtime support minlen\n",
      "        0.5    0.1    1 none FALSE            TRUE       5    0.05      1\n",
      " maxlen target  ext\n",
      "     10  rules TRUE\n",
      "\n",
      "Algorithmic control:\n",
      " filter tree heap memopt load sort verbose\n",
      "    0.1 TRUE TRUE  FALSE TRUE    2    TRUE\n",
      "\n",
      "Absolute minimum support count: 200 \n",
      "\n",
      "set item appearances ...[0 item(s)] done [0.00s].\n",
      "set transactions ...[10 item(s), 4000 transaction(s)] done [0.00s].\n",
      "sorting and recoding items ... [8 item(s)] done [0.00s].\n",
      "creating transaction tree ... done [0.00s].\n",
      "checking subsets of size 1 2 3 4 done [0.00s].\n",
      "writing ... [21 rule(s)] done [0.00s].\n",
      "creating S4 object  ... done [0.00s].\n",
      "    lhs                    rhs        support confidence coverage lift    \n",
      "[1] {DoItYBks, GeogBks} => {YouthBks} 0.05450 0.5396040  0.10100  2.264864\n",
      "[2] {CookBks, GeogBks}  => {YouthBks} 0.08025 0.5136000  0.15625  2.155719\n",
      "[3] {CookBks, RefBks}   => {DoItYBks} 0.07450 0.5330948  0.13975  2.092619\n",
      "[4] {YouthBks, GeogBks} => {DoItYBks} 0.05450 0.5215311  0.10450  2.047227\n",
      "[5] {YouthBks, CookBks} => {DoItYBks} 0.08375 0.5201863  0.16100  2.041948\n",
      "[6] {YouthBks, RefBks}  => {CookBks}  0.06825 0.8400000  0.08125  2.021661\n",
      "    count\n",
      "[1] 218  \n",
      "[2] 321  \n",
      "[3] 298  \n",
      "[4] 218  \n",
      "[5] 335  \n",
      "[6] 273  \n"
     ]
    }
   ],
   "source": [
    "rules <- apriori(books_trans, parameter = list(supp = 200/4000, conf = 0.5, target = \"rules\"))\n",
    "inspect(head(sort(rules, by = \"lift\"), n = 6))"
   ]
  },
  {
   "cell_type": "markdown",
   "metadata": {},
   "source": [
    "# 14.2 协同过滤"
   ]
  },
  {
   "cell_type": "code",
   "execution_count": 8,
   "metadata": {
    "vscode": {
     "languageId": "r"
    }
   },
   "outputs": [
    {
     "data": {
      "image/png": "[encoded data removed]",
      "text/plain": [
       "plot without title"
      ]
     },
     "metadata": {
      "image/png": {
       "height": 420,
       "width": 420
      }
     },
     "output_type": "display_data"
    }
   ],
   "source": [
    "m <- matrix(nrow = 1000, ncol = 1000)\n",
    "m[sample.int(100*1000, 1000)] <- ceiling(runif(1000, 0, 5))\n",
    "r <- as(m, \"realRatingMatrix\")\n",
    "image(r)"
   ]
  },
  {
   "cell_type": "code",
   "execution_count": 10,
   "metadata": {
    "vscode": {
     "languageId": "r"
    }
   },
   "outputs": [
    {
     "ename": "ERROR",
     "evalue": "Error: unable to find an inherited method for function 'inspect' for signature 'x = \"realRatingMatrix\"'\n",
     "output_type": "error",
     "traceback": [
      "Error: unable to find an inherited method for function 'inspect' for signature 'x = \"realRatingMatrix\"'\nTraceback:\n",
      "1. (function (classes, fdef, mtable) \n . {\n .     methods <- .findInheritedMethods(classes, fdef, mtable)\n .     if (length(methods) == 1L) \n .         return(methods[[1L]])\n .     else if (length(methods) == 0L) {\n .         cnames <- paste0(fdef@signature[seq_along(classes)], \n .             \" = \\\"\", vapply(classes, as.character, \"\"), \"\\\"\", \n .             collapse = \", \")\n .         stop(gettextf(\"unable to find an inherited method for function %s for signature %s\", \n .             sQuote(fdef@generic), sQuote(cnames)), call. = FALSE, \n .             domain = NA)\n .     }\n .     else stop(\"Internal error in finding inherited methods; didn't return a unique method\", \n .         domain = NA)\n . })(list(structure(\"realRatingMatrix\", package = \"recommenderlab\")), \n .     new(\"standardGeneric\", .Data = function (x, ...) \n .     standardGeneric(\"inspect\"), generic = structure(\"inspect\", package = \"arules\"), \n .         package = \"arules\", group = list(), valueClass = character(0), \n .         signature = \"x\", default = NULL, skeleton = (function (x, \n .             ...) \n .         stop(gettextf(\"invalid call in method dispatch to '%s' (no default method)\", \n .             \"inspect\"), domain = NA))(x, ...)), <environment>)",
      "2. stop(gettextf(\"unable to find an inherited method for function %s for signature %s\", \n .     sQuote(fdef@generic), sQuote(cnames)), call. = FALSE, domain = NA)",
      "3. .handleSimpleError(function (cnd) \n . {\n .     watcher$capture_plot_and_output()\n .     cnd <- sanitize_call(cnd)\n .     watcher$push(cnd)\n .     switch(on_error, continue = invokeRestart(\"eval_continue\"), \n .         stop = invokeRestart(\"eval_stop\"), error = invokeRestart(\"eval_error\", \n .             cnd))\n . }, \"unable to find an inherited method for function 'inspect' for signature 'x = \\\"realRatingMatrix\\\"'\", \n .     base::quote(NULL))"
     ]
    }
   ],
   "source": [
    "UB.Rec <- Recommender(r, method = \"UBCF\")\n",
    "pred <- predict(UB.Rec, r, type=\"ratings\")\n",
    "# as(pred, \"matrix\")"
   ]
  },
  {
   "cell_type": "code",
   "execution_count": null,
   "metadata": {
    "vscode": {
     "languageId": "r"
    }
   },
   "outputs": [],
   "source": []
  }
 ],
 "metadata": {
  "kernelspec": {
   "display_name": "R 4.4.1",
   "language": "R",
   "name": "ir"
  },
  "language_info": {
   "codemirror_mode": "r",
   "file_extension": ".r",
   "mimetype": "text/x-r-source",
   "name": "R",
   "pygments_lexer": "r",
   "version": "4.4.1"
  }
 },
 "nbformat": 4,
 "nbformat_minor": 2
}
